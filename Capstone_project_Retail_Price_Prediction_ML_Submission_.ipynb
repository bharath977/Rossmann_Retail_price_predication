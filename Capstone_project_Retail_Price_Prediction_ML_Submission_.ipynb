{
  "cells": [
    {
      "cell_type": "markdown",
      "metadata": {
        "id": "view-in-github",
        "colab_type": "text"
      },
      "source": [
        "<a href=\"https://colab.research.google.com/github/bharath977/Rossmann_Retail_price_predication/blob/main/Capstone_project_Retail_Price_Prediction_ML_Submission_.ipynb\" target=\"_parent\"><img src=\"https://colab.research.google.com/assets/colab-badge.svg\" alt=\"Open In Colab\"/></a>"
      ]
    },
    {
      "cell_type": "markdown",
      "metadata": {
        "id": "vncDsAP0Gaoa"
      },
      "source": [
        "# **Project Name**  -  **Retail Price Prediction**\n"
      ]
    },
    {
      "cell_type": "markdown",
      "metadata": {
        "id": "beRrZCGUAJYm"
      },
      "source": [
        "##### **Project Type**    - EDA/Regression/Classification/Unsupervised\n",
        "##### **Contribution**    - Individual\n",
        "##### **Name**            - Bharathwaj\n"
      ]
    },
    {
      "cell_type": "markdown",
      "metadata": {
        "id": "FJNUwmbgGyua"
      },
      "source": [
        "# **Project Summary -**"
      ]
    },
    {
      "cell_type": "markdown",
      "metadata": {
        "id": "F6v_1wHtG2nS"
      },
      "source": [
        "The Rossmann Retail Price Prediction project aims to develop an effective machine learning model that accurately predicts the sales of products at Rossmann, a leading drugstore chain. By leveraging historical sales data, along with external factors such as promotional activities, holidays, and store information, the model will provide valuable insights to assist Rossmann in optimizing their pricing strategies and driving business growth.\n",
        "\n",
        "The project begins with data collection, where extensive historical sales data from various Rossmann stores across different regions is gathered. Additionally, relevant external data sources such as weather data, economic indicators, and competitor information are incorporated to enrich the predictive model. These diverse datasets provide a comprehensive overview of the factors that influence product sales and pricing.\n",
        "\n",
        "Next, a robust data preprocessing and feature engineering phase is undertaken to cleanse and transform the collected data into a suitable format for machine learning algorithms. This step involves handling missing values, handling outliers, and encoding categorical variables, among other techniques. By carefully curating the data, the model can effectively capture meaningful patterns and relationships.\n",
        "\n",
        "The project utilizes a variety of machine learning algorithms, including but not limited to regression models, decision trees, and ensemble methods, to build and evaluate predictive models. Multiple models are trained and compared to identify the most accurate and reliable model for predicting sales. Hyperparameter tuning techniques are employed to optimize the model's performance and generalizability.\n",
        "\n",
        "The final phase involves model evaluation and deployment. The selected model is assessed using appropriate evaluation metrics to gauge its accuracy and robustness. It is crucial to validate the model's performance on unseen data to ensure its effectiveness in real-world scenarios. Once the model has proven its reliability, it is deployed into production, enabling Rossmann to utilize the predictions for pricing optimization and strategic decision-making.\n",
        "\n",
        "The Rossmann Retail Price Prediction project aims to leverage machine learning techniques to enhance Rossmann's competitive advantage by providing accurate sales predictions. by historical sales data and external factors, the project empowers Rossmann to make informed pricing decisions, optimize its marketing strategies, and maximize revenue. This project showcases the power of data-driven insights in the retail industry and highlights the potential for future growth and success through advanced predictive analytics.\n",
        "\n",
        "\n",
        "In conclusion, our project aims to develop an effective retail price prediction system for Rossmann by utilizing two machine learning modules, namely linear regression and decision tree algorithms. By leveraging historical sales data and product information, we aim to provide accurate price predictions that can support Rossmann's strategic decision-making and optimize their retail operations."
      ]
    },
    {
      "cell_type": "markdown",
      "metadata": {
        "id": "w6K7xa23Elo4"
      },
      "source": [
        "# **GitHub Link -**"
      ]
    },
    {
      "cell_type": "markdown",
      "metadata": {
        "id": "h1o69JH3Eqqn"
      },
      "source": [
        "Provide your GitHub Link here.\n",
        "\n",
        "https://github.com/bharath977/Rossmann_Retail_price_predication.git"
      ]
    },
    {
      "cell_type": "markdown",
      "metadata": {
        "id": "yQaldy8SH6Dl"
      },
      "source": [
        "# **Problem Statement**\n"
      ]
    },
    {
      "cell_type": "markdown",
      "metadata": {
        "id": "DpeJGUA3kjGy"
      },
      "source": [
        "**Write Problem Statement Here.**\n",
        "\n",
        "1.calculate top 10 the total sales of store\n",
        "\n",
        "2.which storetype has highest sales\n",
        "\n",
        "3.find out highest sale on stateholiday\n",
        "\n",
        "4.count the number of occurrences store and customer\n",
        "\n",
        "5.Customer Distribution vs Sales Distribution\n",
        "\n",
        "6.Number Of Customers perfered Competition Distance\n",
        "\n",
        "7.Explore the relation correlation between sales, stateholiday and open\n",
        "\n",
        "8.Is there any corelation between all quantitative value in both datasets?\n",
        "\n",
        "9.Impact of external factors such as stateholiday, promotions, and open on product sales(we will ML for this question)\n"
      ]
    },
    {
      "cell_type": "markdown",
      "metadata": {
        "id": "mDgbUHAGgjLW"
      },
      "source": [
        "# **General Guidelines** : -  "
      ]
    },
    {
      "cell_type": "markdown",
      "metadata": {
        "id": "ZrxVaUj-hHfC"
      },
      "source": [
        "1.   Well-structured, formatted, and commented code is required.\n",
        "2.   Exception Handling, Production Grade Code & Deployment Ready Code will be a plus. Those students will be awarded some additional credits.\n",
        "     \n",
        "     The additional credits will have advantages over other students during Star Student selection.\n",
        "       \n",
        "             [ Note: - Deployment Ready Code is defined as, the whole .ipynb notebook should be executable in one go\n",
        "                       without a single error logged. ]\n",
        "\n",
        "3.   Each and every logic should have proper comments.\n",
        "4. You may add as many number of charts you want. Make Sure for each and every chart the following format should be answered.\n",
        "        \n",
        "\n",
        "```\n",
        "# Chart visualization code\n",
        "```\n",
        "            \n",
        "\n",
        "*   Why did you pick the specific chart?\n",
        "*   What is/are the insight(s) found from the chart?\n",
        "* Will the gained insights help creating a positive business impact?\n",
        "Are there any insights that lead to negative growth? Justify with specific reason.\n",
        "\n",
        "5. You have to create at least 15 logical & meaningful charts having important insights.\n",
        "\n",
        "\n",
        "[ Hints : - Do the Vizualization in  a structured way while following \"UBM\" Rule.\n",
        "\n",
        "U - Univariate Analysis,\n",
        "\n",
        "B - Bivariate Analysis (Numerical - Categorical, Numerical - Numerical, Categorical - Categorical)\n",
        "\n",
        "M - Multivariate Analysis\n",
        " ]\n",
        "\n",
        "\n",
        "\n",
        "\n",
        "\n",
        "6. You may add more ml algorithms for model creation. Make sure for each and every algorithm, the following format should be answered.\n",
        "\n",
        "\n",
        "*   Explain the ML Model used and it's performance using Evaluation metric Score Chart.\n",
        "\n",
        "\n",
        "*   Cross- Validation & Hyperparameter Tuning\n",
        "\n",
        "*   Have you seen any improvement? Note down the improvement with updates Evaluation metric Score Chart.\n",
        "\n",
        "*   Explain each evaluation metric's indication towards business and the business impact pf the ML model used.\n",
        "\n",
        "\n",
        "\n",
        "\n",
        "\n",
        "\n",
        "\n",
        "\n",
        "\n",
        "\n",
        "\n",
        "\n",
        "\n",
        "\n",
        "\n",
        "\n",
        "\n",
        "\n"
      ]
    },
    {
      "cell_type": "markdown",
      "metadata": {
        "id": "O_i_v8NEhb9l"
      },
      "source": [
        "# ***Let's Begin !***"
      ]
    },
    {
      "cell_type": "markdown",
      "metadata": {
        "id": "HhfV-JJviCcP"
      },
      "source": [
        "## ***1. Know Your Data***"
      ]
    },
    {
      "cell_type": "markdown",
      "metadata": {
        "id": "Y3lxredqlCYt"
      },
      "source": [
        "### Import Libraries"
      ]
    },
    {
      "cell_type": "code",
      "execution_count": 57,
      "metadata": {
        "id": "M8Vqi-pPk-HR"
      },
      "outputs": [],
      "source": [
        "# Import Libraries\n",
        "\n",
        "import numpy as np #to perform mathematical operations on arrays\n",
        "import pandas as pd #to analyze big data,read & write I/O files\n",
        "import seaborn as sns #Visulization tools\n",
        "import matplotlib.pyplot as plt # a collection of command style functions that make matplotlib work like MATLAB\n",
        "from matplotlib.ticker import MultipleLocator # class is used for setting a tick for every integer multiple of a base within the view interval.\n",
        "import missingno as msno #visualizing missing values\n",
        "from datetime import datetime\n",
        "import warnings\n",
        "warnings.filterwarnings(\"ignore\")\n",
        "import sklearn #machine learning library"
      ]
    },
    {
      "cell_type": "markdown",
      "metadata": {
        "id": "3RnN4peoiCZX"
      },
      "source": [
        "### Dataset Loading"
      ]
    },
    {
      "cell_type": "code",
      "execution_count": 58,
      "metadata": {
        "colab": {
          "base_uri": "https://localhost:8080/"
        },
        "id": "4CkvbW_SlZ_R",
        "outputId": "ab8b9e10-d1a4-4f0f-b6c7-e339e94a39a0"
      },
      "outputs": [
        {
          "output_type": "stream",
          "name": "stdout",
          "text": [
            "Mounted at /content/drive\n"
          ]
        }
      ],
      "source": [
        "# Load Dataset\n",
        "from google.colab import drive\n",
        "drive.mount('/content/drive',force_remount = True)"
      ]
    },
    {
      "cell_type": "code",
      "execution_count": 59,
      "metadata": {
        "id": "KFMxFLoRD8gy"
      },
      "outputs": [],
      "source": [
        "## convert the dataset into pandas dataframe using pd.read_csv\n",
        "file_path = \"/content/drive/MyDrive/AlmaBetter/Capstone Projects/Regression\"\n",
        "store_df_1 = pd.read_csv(file_path+\"/Rossmann Stores Data.csv\")\n",
        "store_df_2 = pd.read_csv(file_path+\"/store.csv\")"
      ]
    },
    {
      "cell_type": "markdown",
      "metadata": {
        "id": "x71ZqKXriCWQ"
      },
      "source": [
        "### Dataset First View"
      ]
    },
    {
      "cell_type": "code",
      "execution_count": 60,
      "metadata": {
        "colab": {
          "base_uri": "https://localhost:8080/",
          "height": 0
        },
        "id": "LWNFOSvLl09H",
        "outputId": "a6b36dab-6e53-4b8a-fd1d-5750cd17ef59"
      },
      "outputs": [
        {
          "output_type": "execute_result",
          "data": {
            "text/plain": [
              "   Store  DayOfWeek        Date  Sales  Customers  Open  Promo StateHoliday  \\\n",
              "0      1          5  2015-07-31   5263        555     1      1            0   \n",
              "1      2          5  2015-07-31   6064        625     1      1            0   \n",
              "2      3          5  2015-07-31   8314        821     1      1            0   \n",
              "3      4          5  2015-07-31  13995       1498     1      1            0   \n",
              "4      5          5  2015-07-31   4822        559     1      1            0   \n",
              "\n",
              "   SchoolHoliday  \n",
              "0              1  \n",
              "1              1  \n",
              "2              1  \n",
              "3              1  \n",
              "4              1  "
            ],
            "text/html": [
              "\n",
              "\n",
              "  <div id=\"df-97fb1cd2-1df5-4d01-a81e-c393d5f87572\">\n",
              "    <div class=\"colab-df-container\">\n",
              "      <div>\n",
              "<style scoped>\n",
              "    .dataframe tbody tr th:only-of-type {\n",
              "        vertical-align: middle;\n",
              "    }\n",
              "\n",
              "    .dataframe tbody tr th {\n",
              "        vertical-align: top;\n",
              "    }\n",
              "\n",
              "    .dataframe thead th {\n",
              "        text-align: right;\n",
              "    }\n",
              "</style>\n",
              "<table border=\"1\" class=\"dataframe\">\n",
              "  <thead>\n",
              "    <tr style=\"text-align: right;\">\n",
              "      <th></th>\n",
              "      <th>Store</th>\n",
              "      <th>DayOfWeek</th>\n",
              "      <th>Date</th>\n",
              "      <th>Sales</th>\n",
              "      <th>Customers</th>\n",
              "      <th>Open</th>\n",
              "      <th>Promo</th>\n",
              "      <th>StateHoliday</th>\n",
              "      <th>SchoolHoliday</th>\n",
              "    </tr>\n",
              "  </thead>\n",
              "  <tbody>\n",
              "    <tr>\n",
              "      <th>0</th>\n",
              "      <td>1</td>\n",
              "      <td>5</td>\n",
              "      <td>2015-07-31</td>\n",
              "      <td>5263</td>\n",
              "      <td>555</td>\n",
              "      <td>1</td>\n",
              "      <td>1</td>\n",
              "      <td>0</td>\n",
              "      <td>1</td>\n",
              "    </tr>\n",
              "    <tr>\n",
              "      <th>1</th>\n",
              "      <td>2</td>\n",
              "      <td>5</td>\n",
              "      <td>2015-07-31</td>\n",
              "      <td>6064</td>\n",
              "      <td>625</td>\n",
              "      <td>1</td>\n",
              "      <td>1</td>\n",
              "      <td>0</td>\n",
              "      <td>1</td>\n",
              "    </tr>\n",
              "    <tr>\n",
              "      <th>2</th>\n",
              "      <td>3</td>\n",
              "      <td>5</td>\n",
              "      <td>2015-07-31</td>\n",
              "      <td>8314</td>\n",
              "      <td>821</td>\n",
              "      <td>1</td>\n",
              "      <td>1</td>\n",
              "      <td>0</td>\n",
              "      <td>1</td>\n",
              "    </tr>\n",
              "    <tr>\n",
              "      <th>3</th>\n",
              "      <td>4</td>\n",
              "      <td>5</td>\n",
              "      <td>2015-07-31</td>\n",
              "      <td>13995</td>\n",
              "      <td>1498</td>\n",
              "      <td>1</td>\n",
              "      <td>1</td>\n",
              "      <td>0</td>\n",
              "      <td>1</td>\n",
              "    </tr>\n",
              "    <tr>\n",
              "      <th>4</th>\n",
              "      <td>5</td>\n",
              "      <td>5</td>\n",
              "      <td>2015-07-31</td>\n",
              "      <td>4822</td>\n",
              "      <td>559</td>\n",
              "      <td>1</td>\n",
              "      <td>1</td>\n",
              "      <td>0</td>\n",
              "      <td>1</td>\n",
              "    </tr>\n",
              "  </tbody>\n",
              "</table>\n",
              "</div>\n",
              "      <button class=\"colab-df-convert\" onclick=\"convertToInteractive('df-97fb1cd2-1df5-4d01-a81e-c393d5f87572')\"\n",
              "              title=\"Convert this dataframe to an interactive table.\"\n",
              "              style=\"display:none;\">\n",
              "\n",
              "  <svg xmlns=\"http://www.w3.org/2000/svg\" height=\"24px\"viewBox=\"0 0 24 24\"\n",
              "       width=\"24px\">\n",
              "    <path d=\"M0 0h24v24H0V0z\" fill=\"none\"/>\n",
              "    <path d=\"M18.56 5.44l.94 2.06.94-2.06 2.06-.94-2.06-.94-.94-2.06-.94 2.06-2.06.94zm-11 1L8.5 8.5l.94-2.06 2.06-.94-2.06-.94L8.5 2.5l-.94 2.06-2.06.94zm10 10l.94 2.06.94-2.06 2.06-.94-2.06-.94-.94-2.06-.94 2.06-2.06.94z\"/><path d=\"M17.41 7.96l-1.37-1.37c-.4-.4-.92-.59-1.43-.59-.52 0-1.04.2-1.43.59L10.3 9.45l-7.72 7.72c-.78.78-.78 2.05 0 2.83L4 21.41c.39.39.9.59 1.41.59.51 0 1.02-.2 1.41-.59l7.78-7.78 2.81-2.81c.8-.78.8-2.07 0-2.86zM5.41 20L4 18.59l7.72-7.72 1.47 1.35L5.41 20z\"/>\n",
              "  </svg>\n",
              "      </button>\n",
              "\n",
              "\n",
              "\n",
              "    <div id=\"df-978720b5-3296-4e2c-b0dd-ea70dffab181\">\n",
              "      <button class=\"colab-df-quickchart\" onclick=\"quickchart('df-978720b5-3296-4e2c-b0dd-ea70dffab181')\"\n",
              "              title=\"Suggest charts.\"\n",
              "              style=\"display:none;\">\n",
              "\n",
              "<svg xmlns=\"http://www.w3.org/2000/svg\" height=\"24px\"viewBox=\"0 0 24 24\"\n",
              "     width=\"24px\">\n",
              "    <g>\n",
              "        <path d=\"M19 3H5c-1.1 0-2 .9-2 2v14c0 1.1.9 2 2 2h14c1.1 0 2-.9 2-2V5c0-1.1-.9-2-2-2zM9 17H7v-7h2v7zm4 0h-2V7h2v10zm4 0h-2v-4h2v4z\"/>\n",
              "    </g>\n",
              "</svg>\n",
              "      </button>\n",
              "    </div>\n",
              "\n",
              "<style>\n",
              "  .colab-df-quickchart {\n",
              "    background-color: #E8F0FE;\n",
              "    border: none;\n",
              "    border-radius: 50%;\n",
              "    cursor: pointer;\n",
              "    display: none;\n",
              "    fill: #1967D2;\n",
              "    height: 32px;\n",
              "    padding: 0 0 0 0;\n",
              "    width: 32px;\n",
              "  }\n",
              "\n",
              "  .colab-df-quickchart:hover {\n",
              "    background-color: #E2EBFA;\n",
              "    box-shadow: 0px 1px 2px rgba(60, 64, 67, 0.3), 0px 1px 3px 1px rgba(60, 64, 67, 0.15);\n",
              "    fill: #174EA6;\n",
              "  }\n",
              "\n",
              "  [theme=dark] .colab-df-quickchart {\n",
              "    background-color: #3B4455;\n",
              "    fill: #D2E3FC;\n",
              "  }\n",
              "\n",
              "  [theme=dark] .colab-df-quickchart:hover {\n",
              "    background-color: #434B5C;\n",
              "    box-shadow: 0px 1px 3px 1px rgba(0, 0, 0, 0.15);\n",
              "    filter: drop-shadow(0px 1px 2px rgba(0, 0, 0, 0.3));\n",
              "    fill: #FFFFFF;\n",
              "  }\n",
              "</style>\n",
              "\n",
              "    <script>\n",
              "      async function quickchart(key) {\n",
              "        const containerElement = document.querySelector('#' + key);\n",
              "        const charts = await google.colab.kernel.invokeFunction(\n",
              "            'suggestCharts', [key], {});\n",
              "      }\n",
              "    </script>\n",
              "\n",
              "      <script>\n",
              "\n",
              "function displayQuickchartButton(domScope) {\n",
              "  let quickchartButtonEl =\n",
              "    domScope.querySelector('#df-978720b5-3296-4e2c-b0dd-ea70dffab181 button.colab-df-quickchart');\n",
              "  quickchartButtonEl.style.display =\n",
              "    google.colab.kernel.accessAllowed ? 'block' : 'none';\n",
              "}\n",
              "\n",
              "        displayQuickchartButton(document);\n",
              "      </script>\n",
              "      <style>\n",
              "    .colab-df-container {\n",
              "      display:flex;\n",
              "      flex-wrap:wrap;\n",
              "      gap: 12px;\n",
              "    }\n",
              "\n",
              "    .colab-df-convert {\n",
              "      background-color: #E8F0FE;\n",
              "      border: none;\n",
              "      border-radius: 50%;\n",
              "      cursor: pointer;\n",
              "      display: none;\n",
              "      fill: #1967D2;\n",
              "      height: 32px;\n",
              "      padding: 0 0 0 0;\n",
              "      width: 32px;\n",
              "    }\n",
              "\n",
              "    .colab-df-convert:hover {\n",
              "      background-color: #E2EBFA;\n",
              "      box-shadow: 0px 1px 2px rgba(60, 64, 67, 0.3), 0px 1px 3px 1px rgba(60, 64, 67, 0.15);\n",
              "      fill: #174EA6;\n",
              "    }\n",
              "\n",
              "    [theme=dark] .colab-df-convert {\n",
              "      background-color: #3B4455;\n",
              "      fill: #D2E3FC;\n",
              "    }\n",
              "\n",
              "    [theme=dark] .colab-df-convert:hover {\n",
              "      background-color: #434B5C;\n",
              "      box-shadow: 0px 1px 3px 1px rgba(0, 0, 0, 0.15);\n",
              "      filter: drop-shadow(0px 1px 2px rgba(0, 0, 0, 0.3));\n",
              "      fill: #FFFFFF;\n",
              "    }\n",
              "  </style>\n",
              "\n",
              "      <script>\n",
              "        const buttonEl =\n",
              "          document.querySelector('#df-97fb1cd2-1df5-4d01-a81e-c393d5f87572 button.colab-df-convert');\n",
              "        buttonEl.style.display =\n",
              "          google.colab.kernel.accessAllowed ? 'block' : 'none';\n",
              "\n",
              "        async function convertToInteractive(key) {\n",
              "          const element = document.querySelector('#df-97fb1cd2-1df5-4d01-a81e-c393d5f87572');\n",
              "          const dataTable =\n",
              "            await google.colab.kernel.invokeFunction('convertToInteractive',\n",
              "                                                     [key], {});\n",
              "          if (!dataTable) return;\n",
              "\n",
              "          const docLinkHtml = 'Like what you see? Visit the ' +\n",
              "            '<a target=\"_blank\" href=https://colab.research.google.com/notebooks/data_table.ipynb>data table notebook</a>'\n",
              "            + ' to learn more about interactive tables.';\n",
              "          element.innerHTML = '';\n",
              "          dataTable['output_type'] = 'display_data';\n",
              "          await google.colab.output.renderOutput(dataTable, element);\n",
              "          const docLink = document.createElement('div');\n",
              "          docLink.innerHTML = docLinkHtml;\n",
              "          element.appendChild(docLink);\n",
              "        }\n",
              "      </script>\n",
              "    </div>\n",
              "  </div>\n"
            ]
          },
          "metadata": {},
          "execution_count": 60
        }
      ],
      "source": [
        "# Dataset First 5 rows of store_df_1\n",
        "store_df_1.head()"
      ]
    },
    {
      "cell_type": "code",
      "execution_count": 61,
      "metadata": {
        "colab": {
          "base_uri": "https://localhost:8080/",
          "height": 0
        },
        "id": "ks0bck-9HMOC",
        "outputId": "e49fafa2-a6c8-4ebf-8287-b6acd4f9f059"
      },
      "outputs": [
        {
          "output_type": "execute_result",
          "data": {
            "text/plain": [
              "         Store  DayOfWeek        Date  Sales  Customers  Open  Promo  \\\n",
              "1017204   1111          2  2013-01-01      0          0     0      0   \n",
              "1017205   1112          2  2013-01-01      0          0     0      0   \n",
              "1017206   1113          2  2013-01-01      0          0     0      0   \n",
              "1017207   1114          2  2013-01-01      0          0     0      0   \n",
              "1017208   1115          2  2013-01-01      0          0     0      0   \n",
              "\n",
              "        StateHoliday  SchoolHoliday  \n",
              "1017204            a              1  \n",
              "1017205            a              1  \n",
              "1017206            a              1  \n",
              "1017207            a              1  \n",
              "1017208            a              1  "
            ],
            "text/html": [
              "\n",
              "\n",
              "  <div id=\"df-8ad1e842-d283-4fd0-b107-fe5717b5a695\">\n",
              "    <div class=\"colab-df-container\">\n",
              "      <div>\n",
              "<style scoped>\n",
              "    .dataframe tbody tr th:only-of-type {\n",
              "        vertical-align: middle;\n",
              "    }\n",
              "\n",
              "    .dataframe tbody tr th {\n",
              "        vertical-align: top;\n",
              "    }\n",
              "\n",
              "    .dataframe thead th {\n",
              "        text-align: right;\n",
              "    }\n",
              "</style>\n",
              "<table border=\"1\" class=\"dataframe\">\n",
              "  <thead>\n",
              "    <tr style=\"text-align: right;\">\n",
              "      <th></th>\n",
              "      <th>Store</th>\n",
              "      <th>DayOfWeek</th>\n",
              "      <th>Date</th>\n",
              "      <th>Sales</th>\n",
              "      <th>Customers</th>\n",
              "      <th>Open</th>\n",
              "      <th>Promo</th>\n",
              "      <th>StateHoliday</th>\n",
              "      <th>SchoolHoliday</th>\n",
              "    </tr>\n",
              "  </thead>\n",
              "  <tbody>\n",
              "    <tr>\n",
              "      <th>1017204</th>\n",
              "      <td>1111</td>\n",
              "      <td>2</td>\n",
              "      <td>2013-01-01</td>\n",
              "      <td>0</td>\n",
              "      <td>0</td>\n",
              "      <td>0</td>\n",
              "      <td>0</td>\n",
              "      <td>a</td>\n",
              "      <td>1</td>\n",
              "    </tr>\n",
              "    <tr>\n",
              "      <th>1017205</th>\n",
              "      <td>1112</td>\n",
              "      <td>2</td>\n",
              "      <td>2013-01-01</td>\n",
              "      <td>0</td>\n",
              "      <td>0</td>\n",
              "      <td>0</td>\n",
              "      <td>0</td>\n",
              "      <td>a</td>\n",
              "      <td>1</td>\n",
              "    </tr>\n",
              "    <tr>\n",
              "      <th>1017206</th>\n",
              "      <td>1113</td>\n",
              "      <td>2</td>\n",
              "      <td>2013-01-01</td>\n",
              "      <td>0</td>\n",
              "      <td>0</td>\n",
              "      <td>0</td>\n",
              "      <td>0</td>\n",
              "      <td>a</td>\n",
              "      <td>1</td>\n",
              "    </tr>\n",
              "    <tr>\n",
              "      <th>1017207</th>\n",
              "      <td>1114</td>\n",
              "      <td>2</td>\n",
              "      <td>2013-01-01</td>\n",
              "      <td>0</td>\n",
              "      <td>0</td>\n",
              "      <td>0</td>\n",
              "      <td>0</td>\n",
              "      <td>a</td>\n",
              "      <td>1</td>\n",
              "    </tr>\n",
              "    <tr>\n",
              "      <th>1017208</th>\n",
              "      <td>1115</td>\n",
              "      <td>2</td>\n",
              "      <td>2013-01-01</td>\n",
              "      <td>0</td>\n",
              "      <td>0</td>\n",
              "      <td>0</td>\n",
              "      <td>0</td>\n",
              "      <td>a</td>\n",
              "      <td>1</td>\n",
              "    </tr>\n",
              "  </tbody>\n",
              "</table>\n",
              "</div>\n",
              "      <button class=\"colab-df-convert\" onclick=\"convertToInteractive('df-8ad1e842-d283-4fd0-b107-fe5717b5a695')\"\n",
              "              title=\"Convert this dataframe to an interactive table.\"\n",
              "              style=\"display:none;\">\n",
              "\n",
              "  <svg xmlns=\"http://www.w3.org/2000/svg\" height=\"24px\"viewBox=\"0 0 24 24\"\n",
              "       width=\"24px\">\n",
              "    <path d=\"M0 0h24v24H0V0z\" fill=\"none\"/>\n",
              "    <path d=\"M18.56 5.44l.94 2.06.94-2.06 2.06-.94-2.06-.94-.94-2.06-.94 2.06-2.06.94zm-11 1L8.5 8.5l.94-2.06 2.06-.94-2.06-.94L8.5 2.5l-.94 2.06-2.06.94zm10 10l.94 2.06.94-2.06 2.06-.94-2.06-.94-.94-2.06-.94 2.06-2.06.94z\"/><path d=\"M17.41 7.96l-1.37-1.37c-.4-.4-.92-.59-1.43-.59-.52 0-1.04.2-1.43.59L10.3 9.45l-7.72 7.72c-.78.78-.78 2.05 0 2.83L4 21.41c.39.39.9.59 1.41.59.51 0 1.02-.2 1.41-.59l7.78-7.78 2.81-2.81c.8-.78.8-2.07 0-2.86zM5.41 20L4 18.59l7.72-7.72 1.47 1.35L5.41 20z\"/>\n",
              "  </svg>\n",
              "      </button>\n",
              "\n",
              "\n",
              "\n",
              "    <div id=\"df-02370ec3-0c3e-4513-ab14-c5501a69ae95\">\n",
              "      <button class=\"colab-df-quickchart\" onclick=\"quickchart('df-02370ec3-0c3e-4513-ab14-c5501a69ae95')\"\n",
              "              title=\"Suggest charts.\"\n",
              "              style=\"display:none;\">\n",
              "\n",
              "<svg xmlns=\"http://www.w3.org/2000/svg\" height=\"24px\"viewBox=\"0 0 24 24\"\n",
              "     width=\"24px\">\n",
              "    <g>\n",
              "        <path d=\"M19 3H5c-1.1 0-2 .9-2 2v14c0 1.1.9 2 2 2h14c1.1 0 2-.9 2-2V5c0-1.1-.9-2-2-2zM9 17H7v-7h2v7zm4 0h-2V7h2v10zm4 0h-2v-4h2v4z\"/>\n",
              "    </g>\n",
              "</svg>\n",
              "      </button>\n",
              "    </div>\n",
              "\n",
              "<style>\n",
              "  .colab-df-quickchart {\n",
              "    background-color: #E8F0FE;\n",
              "    border: none;\n",
              "    border-radius: 50%;\n",
              "    cursor: pointer;\n",
              "    display: none;\n",
              "    fill: #1967D2;\n",
              "    height: 32px;\n",
              "    padding: 0 0 0 0;\n",
              "    width: 32px;\n",
              "  }\n",
              "\n",
              "  .colab-df-quickchart:hover {\n",
              "    background-color: #E2EBFA;\n",
              "    box-shadow: 0px 1px 2px rgba(60, 64, 67, 0.3), 0px 1px 3px 1px rgba(60, 64, 67, 0.15);\n",
              "    fill: #174EA6;\n",
              "  }\n",
              "\n",
              "  [theme=dark] .colab-df-quickchart {\n",
              "    background-color: #3B4455;\n",
              "    fill: #D2E3FC;\n",
              "  }\n",
              "\n",
              "  [theme=dark] .colab-df-quickchart:hover {\n",
              "    background-color: #434B5C;\n",
              "    box-shadow: 0px 1px 3px 1px rgba(0, 0, 0, 0.15);\n",
              "    filter: drop-shadow(0px 1px 2px rgba(0, 0, 0, 0.3));\n",
              "    fill: #FFFFFF;\n",
              "  }\n",
              "</style>\n",
              "\n",
              "    <script>\n",
              "      async function quickchart(key) {\n",
              "        const containerElement = document.querySelector('#' + key);\n",
              "        const charts = await google.colab.kernel.invokeFunction(\n",
              "            'suggestCharts', [key], {});\n",
              "      }\n",
              "    </script>\n",
              "\n",
              "      <script>\n",
              "\n",
              "function displayQuickchartButton(domScope) {\n",
              "  let quickchartButtonEl =\n",
              "    domScope.querySelector('#df-02370ec3-0c3e-4513-ab14-c5501a69ae95 button.colab-df-quickchart');\n",
              "  quickchartButtonEl.style.display =\n",
              "    google.colab.kernel.accessAllowed ? 'block' : 'none';\n",
              "}\n",
              "\n",
              "        displayQuickchartButton(document);\n",
              "      </script>\n",
              "      <style>\n",
              "    .colab-df-container {\n",
              "      display:flex;\n",
              "      flex-wrap:wrap;\n",
              "      gap: 12px;\n",
              "    }\n",
              "\n",
              "    .colab-df-convert {\n",
              "      background-color: #E8F0FE;\n",
              "      border: none;\n",
              "      border-radius: 50%;\n",
              "      cursor: pointer;\n",
              "      display: none;\n",
              "      fill: #1967D2;\n",
              "      height: 32px;\n",
              "      padding: 0 0 0 0;\n",
              "      width: 32px;\n",
              "    }\n",
              "\n",
              "    .colab-df-convert:hover {\n",
              "      background-color: #E2EBFA;\n",
              "      box-shadow: 0px 1px 2px rgba(60, 64, 67, 0.3), 0px 1px 3px 1px rgba(60, 64, 67, 0.15);\n",
              "      fill: #174EA6;\n",
              "    }\n",
              "\n",
              "    [theme=dark] .colab-df-convert {\n",
              "      background-color: #3B4455;\n",
              "      fill: #D2E3FC;\n",
              "    }\n",
              "\n",
              "    [theme=dark] .colab-df-convert:hover {\n",
              "      background-color: #434B5C;\n",
              "      box-shadow: 0px 1px 3px 1px rgba(0, 0, 0, 0.15);\n",
              "      filter: drop-shadow(0px 1px 2px rgba(0, 0, 0, 0.3));\n",
              "      fill: #FFFFFF;\n",
              "    }\n",
              "  </style>\n",
              "\n",
              "      <script>\n",
              "        const buttonEl =\n",
              "          document.querySelector('#df-8ad1e842-d283-4fd0-b107-fe5717b5a695 button.colab-df-convert');\n",
              "        buttonEl.style.display =\n",
              "          google.colab.kernel.accessAllowed ? 'block' : 'none';\n",
              "\n",
              "        async function convertToInteractive(key) {\n",
              "          const element = document.querySelector('#df-8ad1e842-d283-4fd0-b107-fe5717b5a695');\n",
              "          const dataTable =\n",
              "            await google.colab.kernel.invokeFunction('convertToInteractive',\n",
              "                                                     [key], {});\n",
              "          if (!dataTable) return;\n",
              "\n",
              "          const docLinkHtml = 'Like what you see? Visit the ' +\n",
              "            '<a target=\"_blank\" href=https://colab.research.google.com/notebooks/data_table.ipynb>data table notebook</a>'\n",
              "            + ' to learn more about interactive tables.';\n",
              "          element.innerHTML = '';\n",
              "          dataTable['output_type'] = 'display_data';\n",
              "          await google.colab.output.renderOutput(dataTable, element);\n",
              "          const docLink = document.createElement('div');\n",
              "          docLink.innerHTML = docLinkHtml;\n",
              "          element.appendChild(docLink);\n",
              "        }\n",
              "      </script>\n",
              "    </div>\n",
              "  </div>\n"
            ]
          },
          "metadata": {},
          "execution_count": 61
        }
      ],
      "source": [
        "#last 5 rows of store_df_1\n",
        "store_df_1.tail()"
      ]
    },
    {
      "cell_type": "code",
      "execution_count": 62,
      "metadata": {
        "colab": {
          "base_uri": "https://localhost:8080/",
          "height": 0
        },
        "id": "v9htrPQlHiKI",
        "outputId": "ffd61eb9-64e1-4f09-aa0a-4300f93aa959"
      },
      "outputs": [
        {
          "output_type": "execute_result",
          "data": {
            "text/plain": [
              "         Store  DayOfWeek        Date  Sales  Customers  Open  Promo  \\\n",
              "0            1          5  2015-07-31   5263        555     1      1   \n",
              "1            2          5  2015-07-31   6064        625     1      1   \n",
              "2            3          5  2015-07-31   8314        821     1      1   \n",
              "3            4          5  2015-07-31  13995       1498     1      1   \n",
              "4            5          5  2015-07-31   4822        559     1      1   \n",
              "1017204   1111          2  2013-01-01      0          0     0      0   \n",
              "1017205   1112          2  2013-01-01      0          0     0      0   \n",
              "1017206   1113          2  2013-01-01      0          0     0      0   \n",
              "1017207   1114          2  2013-01-01      0          0     0      0   \n",
              "1017208   1115          2  2013-01-01      0          0     0      0   \n",
              "\n",
              "        StateHoliday  SchoolHoliday  \n",
              "0                  0              1  \n",
              "1                  0              1  \n",
              "2                  0              1  \n",
              "3                  0              1  \n",
              "4                  0              1  \n",
              "1017204            a              1  \n",
              "1017205            a              1  \n",
              "1017206            a              1  \n",
              "1017207            a              1  \n",
              "1017208            a              1  "
            ],
            "text/html": [
              "\n",
              "\n",
              "  <div id=\"df-9a3b271c-59f0-4087-b03f-393ab4a4acff\">\n",
              "    <div class=\"colab-df-container\">\n",
              "      <div>\n",
              "<style scoped>\n",
              "    .dataframe tbody tr th:only-of-type {\n",
              "        vertical-align: middle;\n",
              "    }\n",
              "\n",
              "    .dataframe tbody tr th {\n",
              "        vertical-align: top;\n",
              "    }\n",
              "\n",
              "    .dataframe thead th {\n",
              "        text-align: right;\n",
              "    }\n",
              "</style>\n",
              "<table border=\"1\" class=\"dataframe\">\n",
              "  <thead>\n",
              "    <tr style=\"text-align: right;\">\n",
              "      <th></th>\n",
              "      <th>Store</th>\n",
              "      <th>DayOfWeek</th>\n",
              "      <th>Date</th>\n",
              "      <th>Sales</th>\n",
              "      <th>Customers</th>\n",
              "      <th>Open</th>\n",
              "      <th>Promo</th>\n",
              "      <th>StateHoliday</th>\n",
              "      <th>SchoolHoliday</th>\n",
              "    </tr>\n",
              "  </thead>\n",
              "  <tbody>\n",
              "    <tr>\n",
              "      <th>0</th>\n",
              "      <td>1</td>\n",
              "      <td>5</td>\n",
              "      <td>2015-07-31</td>\n",
              "      <td>5263</td>\n",
              "      <td>555</td>\n",
              "      <td>1</td>\n",
              "      <td>1</td>\n",
              "      <td>0</td>\n",
              "      <td>1</td>\n",
              "    </tr>\n",
              "    <tr>\n",
              "      <th>1</th>\n",
              "      <td>2</td>\n",
              "      <td>5</td>\n",
              "      <td>2015-07-31</td>\n",
              "      <td>6064</td>\n",
              "      <td>625</td>\n",
              "      <td>1</td>\n",
              "      <td>1</td>\n",
              "      <td>0</td>\n",
              "      <td>1</td>\n",
              "    </tr>\n",
              "    <tr>\n",
              "      <th>2</th>\n",
              "      <td>3</td>\n",
              "      <td>5</td>\n",
              "      <td>2015-07-31</td>\n",
              "      <td>8314</td>\n",
              "      <td>821</td>\n",
              "      <td>1</td>\n",
              "      <td>1</td>\n",
              "      <td>0</td>\n",
              "      <td>1</td>\n",
              "    </tr>\n",
              "    <tr>\n",
              "      <th>3</th>\n",
              "      <td>4</td>\n",
              "      <td>5</td>\n",
              "      <td>2015-07-31</td>\n",
              "      <td>13995</td>\n",
              "      <td>1498</td>\n",
              "      <td>1</td>\n",
              "      <td>1</td>\n",
              "      <td>0</td>\n",
              "      <td>1</td>\n",
              "    </tr>\n",
              "    <tr>\n",
              "      <th>4</th>\n",
              "      <td>5</td>\n",
              "      <td>5</td>\n",
              "      <td>2015-07-31</td>\n",
              "      <td>4822</td>\n",
              "      <td>559</td>\n",
              "      <td>1</td>\n",
              "      <td>1</td>\n",
              "      <td>0</td>\n",
              "      <td>1</td>\n",
              "    </tr>\n",
              "    <tr>\n",
              "      <th>1017204</th>\n",
              "      <td>1111</td>\n",
              "      <td>2</td>\n",
              "      <td>2013-01-01</td>\n",
              "      <td>0</td>\n",
              "      <td>0</td>\n",
              "      <td>0</td>\n",
              "      <td>0</td>\n",
              "      <td>a</td>\n",
              "      <td>1</td>\n",
              "    </tr>\n",
              "    <tr>\n",
              "      <th>1017205</th>\n",
              "      <td>1112</td>\n",
              "      <td>2</td>\n",
              "      <td>2013-01-01</td>\n",
              "      <td>0</td>\n",
              "      <td>0</td>\n",
              "      <td>0</td>\n",
              "      <td>0</td>\n",
              "      <td>a</td>\n",
              "      <td>1</td>\n",
              "    </tr>\n",
              "    <tr>\n",
              "      <th>1017206</th>\n",
              "      <td>1113</td>\n",
              "      <td>2</td>\n",
              "      <td>2013-01-01</td>\n",
              "      <td>0</td>\n",
              "      <td>0</td>\n",
              "      <td>0</td>\n",
              "      <td>0</td>\n",
              "      <td>a</td>\n",
              "      <td>1</td>\n",
              "    </tr>\n",
              "    <tr>\n",
              "      <th>1017207</th>\n",
              "      <td>1114</td>\n",
              "      <td>2</td>\n",
              "      <td>2013-01-01</td>\n",
              "      <td>0</td>\n",
              "      <td>0</td>\n",
              "      <td>0</td>\n",
              "      <td>0</td>\n",
              "      <td>a</td>\n",
              "      <td>1</td>\n",
              "    </tr>\n",
              "    <tr>\n",
              "      <th>1017208</th>\n",
              "      <td>1115</td>\n",
              "      <td>2</td>\n",
              "      <td>2013-01-01</td>\n",
              "      <td>0</td>\n",
              "      <td>0</td>\n",
              "      <td>0</td>\n",
              "      <td>0</td>\n",
              "      <td>a</td>\n",
              "      <td>1</td>\n",
              "    </tr>\n",
              "  </tbody>\n",
              "</table>\n",
              "</div>\n",
              "      <button class=\"colab-df-convert\" onclick=\"convertToInteractive('df-9a3b271c-59f0-4087-b03f-393ab4a4acff')\"\n",
              "              title=\"Convert this dataframe to an interactive table.\"\n",
              "              style=\"display:none;\">\n",
              "\n",
              "  <svg xmlns=\"http://www.w3.org/2000/svg\" height=\"24px\"viewBox=\"0 0 24 24\"\n",
              "       width=\"24px\">\n",
              "    <path d=\"M0 0h24v24H0V0z\" fill=\"none\"/>\n",
              "    <path d=\"M18.56 5.44l.94 2.06.94-2.06 2.06-.94-2.06-.94-.94-2.06-.94 2.06-2.06.94zm-11 1L8.5 8.5l.94-2.06 2.06-.94-2.06-.94L8.5 2.5l-.94 2.06-2.06.94zm10 10l.94 2.06.94-2.06 2.06-.94-2.06-.94-.94-2.06-.94 2.06-2.06.94z\"/><path d=\"M17.41 7.96l-1.37-1.37c-.4-.4-.92-.59-1.43-.59-.52 0-1.04.2-1.43.59L10.3 9.45l-7.72 7.72c-.78.78-.78 2.05 0 2.83L4 21.41c.39.39.9.59 1.41.59.51 0 1.02-.2 1.41-.59l7.78-7.78 2.81-2.81c.8-.78.8-2.07 0-2.86zM5.41 20L4 18.59l7.72-7.72 1.47 1.35L5.41 20z\"/>\n",
              "  </svg>\n",
              "      </button>\n",
              "\n",
              "\n",
              "\n",
              "    <div id=\"df-b7e4a250-9691-4639-94f5-921bf0828edc\">\n",
              "      <button class=\"colab-df-quickchart\" onclick=\"quickchart('df-b7e4a250-9691-4639-94f5-921bf0828edc')\"\n",
              "              title=\"Suggest charts.\"\n",
              "              style=\"display:none;\">\n",
              "\n",
              "<svg xmlns=\"http://www.w3.org/2000/svg\" height=\"24px\"viewBox=\"0 0 24 24\"\n",
              "     width=\"24px\">\n",
              "    <g>\n",
              "        <path d=\"M19 3H5c-1.1 0-2 .9-2 2v14c0 1.1.9 2 2 2h14c1.1 0 2-.9 2-2V5c0-1.1-.9-2-2-2zM9 17H7v-7h2v7zm4 0h-2V7h2v10zm4 0h-2v-4h2v4z\"/>\n",
              "    </g>\n",
              "</svg>\n",
              "      </button>\n",
              "    </div>\n",
              "\n",
              "<style>\n",
              "  .colab-df-quickchart {\n",
              "    background-color: #E8F0FE;\n",
              "    border: none;\n",
              "    border-radius: 50%;\n",
              "    cursor: pointer;\n",
              "    display: none;\n",
              "    fill: #1967D2;\n",
              "    height: 32px;\n",
              "    padding: 0 0 0 0;\n",
              "    width: 32px;\n",
              "  }\n",
              "\n",
              "  .colab-df-quickchart:hover {\n",
              "    background-color: #E2EBFA;\n",
              "    box-shadow: 0px 1px 2px rgba(60, 64, 67, 0.3), 0px 1px 3px 1px rgba(60, 64, 67, 0.15);\n",
              "    fill: #174EA6;\n",
              "  }\n",
              "\n",
              "  [theme=dark] .colab-df-quickchart {\n",
              "    background-color: #3B4455;\n",
              "    fill: #D2E3FC;\n",
              "  }\n",
              "\n",
              "  [theme=dark] .colab-df-quickchart:hover {\n",
              "    background-color: #434B5C;\n",
              "    box-shadow: 0px 1px 3px 1px rgba(0, 0, 0, 0.15);\n",
              "    filter: drop-shadow(0px 1px 2px rgba(0, 0, 0, 0.3));\n",
              "    fill: #FFFFFF;\n",
              "  }\n",
              "</style>\n",
              "\n",
              "    <script>\n",
              "      async function quickchart(key) {\n",
              "        const containerElement = document.querySelector('#' + key);\n",
              "        const charts = await google.colab.kernel.invokeFunction(\n",
              "            'suggestCharts', [key], {});\n",
              "      }\n",
              "    </script>\n",
              "\n",
              "      <script>\n",
              "\n",
              "function displayQuickchartButton(domScope) {\n",
              "  let quickchartButtonEl =\n",
              "    domScope.querySelector('#df-b7e4a250-9691-4639-94f5-921bf0828edc button.colab-df-quickchart');\n",
              "  quickchartButtonEl.style.display =\n",
              "    google.colab.kernel.accessAllowed ? 'block' : 'none';\n",
              "}\n",
              "\n",
              "        displayQuickchartButton(document);\n",
              "      </script>\n",
              "      <style>\n",
              "    .colab-df-container {\n",
              "      display:flex;\n",
              "      flex-wrap:wrap;\n",
              "      gap: 12px;\n",
              "    }\n",
              "\n",
              "    .colab-df-convert {\n",
              "      background-color: #E8F0FE;\n",
              "      border: none;\n",
              "      border-radius: 50%;\n",
              "      cursor: pointer;\n",
              "      display: none;\n",
              "      fill: #1967D2;\n",
              "      height: 32px;\n",
              "      padding: 0 0 0 0;\n",
              "      width: 32px;\n",
              "    }\n",
              "\n",
              "    .colab-df-convert:hover {\n",
              "      background-color: #E2EBFA;\n",
              "      box-shadow: 0px 1px 2px rgba(60, 64, 67, 0.3), 0px 1px 3px 1px rgba(60, 64, 67, 0.15);\n",
              "      fill: #174EA6;\n",
              "    }\n",
              "\n",
              "    [theme=dark] .colab-df-convert {\n",
              "      background-color: #3B4455;\n",
              "      fill: #D2E3FC;\n",
              "    }\n",
              "\n",
              "    [theme=dark] .colab-df-convert:hover {\n",
              "      background-color: #434B5C;\n",
              "      box-shadow: 0px 1px 3px 1px rgba(0, 0, 0, 0.15);\n",
              "      filter: drop-shadow(0px 1px 2px rgba(0, 0, 0, 0.3));\n",
              "      fill: #FFFFFF;\n",
              "    }\n",
              "  </style>\n",
              "\n",
              "      <script>\n",
              "        const buttonEl =\n",
              "          document.querySelector('#df-9a3b271c-59f0-4087-b03f-393ab4a4acff button.colab-df-convert');\n",
              "        buttonEl.style.display =\n",
              "          google.colab.kernel.accessAllowed ? 'block' : 'none';\n",
              "\n",
              "        async function convertToInteractive(key) {\n",
              "          const element = document.querySelector('#df-9a3b271c-59f0-4087-b03f-393ab4a4acff');\n",
              "          const dataTable =\n",
              "            await google.colab.kernel.invokeFunction('convertToInteractive',\n",
              "                                                     [key], {});\n",
              "          if (!dataTable) return;\n",
              "\n",
              "          const docLinkHtml = 'Like what you see? Visit the ' +\n",
              "            '<a target=\"_blank\" href=https://colab.research.google.com/notebooks/data_table.ipynb>data table notebook</a>'\n",
              "            + ' to learn more about interactive tables.';\n",
              "          element.innerHTML = '';\n",
              "          dataTable['output_type'] = 'display_data';\n",
              "          await google.colab.output.renderOutput(dataTable, element);\n",
              "          const docLink = document.createElement('div');\n",
              "          docLink.innerHTML = docLinkHtml;\n",
              "          element.appendChild(docLink);\n",
              "        }\n",
              "      </script>\n",
              "    </div>\n",
              "  </div>\n"
            ]
          },
          "metadata": {},
          "execution_count": 62
        }
      ],
      "source": [
        "#or we can concat to look at both first and last 5 rows\n",
        "pd.concat([store_df_1.head(),store_df_1.tail()])"
      ]
    },
    {
      "cell_type": "code",
      "execution_count": 63,
      "metadata": {
        "colab": {
          "base_uri": "https://localhost:8080/",
          "height": 0
        },
        "id": "RWAK37Q9IHAv",
        "outputId": "dae0c98c-bd95-46e2-e5d9-5e5a3cff3d0b"
      },
      "outputs": [
        {
          "output_type": "execute_result",
          "data": {
            "text/plain": [
              "      Store StoreType Assortment  CompetitionDistance  \\\n",
              "0         1         c          a               1270.0   \n",
              "1         2         a          a                570.0   \n",
              "2         3         a          a              14130.0   \n",
              "3         4         c          c                620.0   \n",
              "4         5         a          a              29910.0   \n",
              "1110   1111         a          a               1900.0   \n",
              "1111   1112         c          c               1880.0   \n",
              "1112   1113         a          c               9260.0   \n",
              "1113   1114         a          c                870.0   \n",
              "1114   1115         d          c               5350.0   \n",
              "\n",
              "      CompetitionOpenSinceMonth  CompetitionOpenSinceYear  Promo2  \\\n",
              "0                           9.0                    2008.0       0   \n",
              "1                          11.0                    2007.0       1   \n",
              "2                          12.0                    2006.0       1   \n",
              "3                           9.0                    2009.0       0   \n",
              "4                           4.0                    2015.0       0   \n",
              "1110                        6.0                    2014.0       1   \n",
              "1111                        4.0                    2006.0       0   \n",
              "1112                        NaN                       NaN       0   \n",
              "1113                        NaN                       NaN       0   \n",
              "1114                        NaN                       NaN       1   \n",
              "\n",
              "      Promo2SinceWeek  Promo2SinceYear     PromoInterval  \n",
              "0                 NaN              NaN               NaN  \n",
              "1                13.0           2010.0   Jan,Apr,Jul,Oct  \n",
              "2                14.0           2011.0   Jan,Apr,Jul,Oct  \n",
              "3                 NaN              NaN               NaN  \n",
              "4                 NaN              NaN               NaN  \n",
              "1110             31.0           2013.0   Jan,Apr,Jul,Oct  \n",
              "1111              NaN              NaN               NaN  \n",
              "1112              NaN              NaN               NaN  \n",
              "1113              NaN              NaN               NaN  \n",
              "1114             22.0           2012.0  Mar,Jun,Sept,Dec  "
            ],
            "text/html": [
              "\n",
              "\n",
              "  <div id=\"df-0556424a-e80e-486b-a9d5-222a5a256c8c\">\n",
              "    <div class=\"colab-df-container\">\n",
              "      <div>\n",
              "<style scoped>\n",
              "    .dataframe tbody tr th:only-of-type {\n",
              "        vertical-align: middle;\n",
              "    }\n",
              "\n",
              "    .dataframe tbody tr th {\n",
              "        vertical-align: top;\n",
              "    }\n",
              "\n",
              "    .dataframe thead th {\n",
              "        text-align: right;\n",
              "    }\n",
              "</style>\n",
              "<table border=\"1\" class=\"dataframe\">\n",
              "  <thead>\n",
              "    <tr style=\"text-align: right;\">\n",
              "      <th></th>\n",
              "      <th>Store</th>\n",
              "      <th>StoreType</th>\n",
              "      <th>Assortment</th>\n",
              "      <th>CompetitionDistance</th>\n",
              "      <th>CompetitionOpenSinceMonth</th>\n",
              "      <th>CompetitionOpenSinceYear</th>\n",
              "      <th>Promo2</th>\n",
              "      <th>Promo2SinceWeek</th>\n",
              "      <th>Promo2SinceYear</th>\n",
              "      <th>PromoInterval</th>\n",
              "    </tr>\n",
              "  </thead>\n",
              "  <tbody>\n",
              "    <tr>\n",
              "      <th>0</th>\n",
              "      <td>1</td>\n",
              "      <td>c</td>\n",
              "      <td>a</td>\n",
              "      <td>1270.0</td>\n",
              "      <td>9.0</td>\n",
              "      <td>2008.0</td>\n",
              "      <td>0</td>\n",
              "      <td>NaN</td>\n",
              "      <td>NaN</td>\n",
              "      <td>NaN</td>\n",
              "    </tr>\n",
              "    <tr>\n",
              "      <th>1</th>\n",
              "      <td>2</td>\n",
              "      <td>a</td>\n",
              "      <td>a</td>\n",
              "      <td>570.0</td>\n",
              "      <td>11.0</td>\n",
              "      <td>2007.0</td>\n",
              "      <td>1</td>\n",
              "      <td>13.0</td>\n",
              "      <td>2010.0</td>\n",
              "      <td>Jan,Apr,Jul,Oct</td>\n",
              "    </tr>\n",
              "    <tr>\n",
              "      <th>2</th>\n",
              "      <td>3</td>\n",
              "      <td>a</td>\n",
              "      <td>a</td>\n",
              "      <td>14130.0</td>\n",
              "      <td>12.0</td>\n",
              "      <td>2006.0</td>\n",
              "      <td>1</td>\n",
              "      <td>14.0</td>\n",
              "      <td>2011.0</td>\n",
              "      <td>Jan,Apr,Jul,Oct</td>\n",
              "    </tr>\n",
              "    <tr>\n",
              "      <th>3</th>\n",
              "      <td>4</td>\n",
              "      <td>c</td>\n",
              "      <td>c</td>\n",
              "      <td>620.0</td>\n",
              "      <td>9.0</td>\n",
              "      <td>2009.0</td>\n",
              "      <td>0</td>\n",
              "      <td>NaN</td>\n",
              "      <td>NaN</td>\n",
              "      <td>NaN</td>\n",
              "    </tr>\n",
              "    <tr>\n",
              "      <th>4</th>\n",
              "      <td>5</td>\n",
              "      <td>a</td>\n",
              "      <td>a</td>\n",
              "      <td>29910.0</td>\n",
              "      <td>4.0</td>\n",
              "      <td>2015.0</td>\n",
              "      <td>0</td>\n",
              "      <td>NaN</td>\n",
              "      <td>NaN</td>\n",
              "      <td>NaN</td>\n",
              "    </tr>\n",
              "    <tr>\n",
              "      <th>1110</th>\n",
              "      <td>1111</td>\n",
              "      <td>a</td>\n",
              "      <td>a</td>\n",
              "      <td>1900.0</td>\n",
              "      <td>6.0</td>\n",
              "      <td>2014.0</td>\n",
              "      <td>1</td>\n",
              "      <td>31.0</td>\n",
              "      <td>2013.0</td>\n",
              "      <td>Jan,Apr,Jul,Oct</td>\n",
              "    </tr>\n",
              "    <tr>\n",
              "      <th>1111</th>\n",
              "      <td>1112</td>\n",
              "      <td>c</td>\n",
              "      <td>c</td>\n",
              "      <td>1880.0</td>\n",
              "      <td>4.0</td>\n",
              "      <td>2006.0</td>\n",
              "      <td>0</td>\n",
              "      <td>NaN</td>\n",
              "      <td>NaN</td>\n",
              "      <td>NaN</td>\n",
              "    </tr>\n",
              "    <tr>\n",
              "      <th>1112</th>\n",
              "      <td>1113</td>\n",
              "      <td>a</td>\n",
              "      <td>c</td>\n",
              "      <td>9260.0</td>\n",
              "      <td>NaN</td>\n",
              "      <td>NaN</td>\n",
              "      <td>0</td>\n",
              "      <td>NaN</td>\n",
              "      <td>NaN</td>\n",
              "      <td>NaN</td>\n",
              "    </tr>\n",
              "    <tr>\n",
              "      <th>1113</th>\n",
              "      <td>1114</td>\n",
              "      <td>a</td>\n",
              "      <td>c</td>\n",
              "      <td>870.0</td>\n",
              "      <td>NaN</td>\n",
              "      <td>NaN</td>\n",
              "      <td>0</td>\n",
              "      <td>NaN</td>\n",
              "      <td>NaN</td>\n",
              "      <td>NaN</td>\n",
              "    </tr>\n",
              "    <tr>\n",
              "      <th>1114</th>\n",
              "      <td>1115</td>\n",
              "      <td>d</td>\n",
              "      <td>c</td>\n",
              "      <td>5350.0</td>\n",
              "      <td>NaN</td>\n",
              "      <td>NaN</td>\n",
              "      <td>1</td>\n",
              "      <td>22.0</td>\n",
              "      <td>2012.0</td>\n",
              "      <td>Mar,Jun,Sept,Dec</td>\n",
              "    </tr>\n",
              "  </tbody>\n",
              "</table>\n",
              "</div>\n",
              "      <button class=\"colab-df-convert\" onclick=\"convertToInteractive('df-0556424a-e80e-486b-a9d5-222a5a256c8c')\"\n",
              "              title=\"Convert this dataframe to an interactive table.\"\n",
              "              style=\"display:none;\">\n",
              "\n",
              "  <svg xmlns=\"http://www.w3.org/2000/svg\" height=\"24px\"viewBox=\"0 0 24 24\"\n",
              "       width=\"24px\">\n",
              "    <path d=\"M0 0h24v24H0V0z\" fill=\"none\"/>\n",
              "    <path d=\"M18.56 5.44l.94 2.06.94-2.06 2.06-.94-2.06-.94-.94-2.06-.94 2.06-2.06.94zm-11 1L8.5 8.5l.94-2.06 2.06-.94-2.06-.94L8.5 2.5l-.94 2.06-2.06.94zm10 10l.94 2.06.94-2.06 2.06-.94-2.06-.94-.94-2.06-.94 2.06-2.06.94z\"/><path d=\"M17.41 7.96l-1.37-1.37c-.4-.4-.92-.59-1.43-.59-.52 0-1.04.2-1.43.59L10.3 9.45l-7.72 7.72c-.78.78-.78 2.05 0 2.83L4 21.41c.39.39.9.59 1.41.59.51 0 1.02-.2 1.41-.59l7.78-7.78 2.81-2.81c.8-.78.8-2.07 0-2.86zM5.41 20L4 18.59l7.72-7.72 1.47 1.35L5.41 20z\"/>\n",
              "  </svg>\n",
              "      </button>\n",
              "\n",
              "\n",
              "\n",
              "    <div id=\"df-32f28e4c-9f6d-4815-8aa5-24acaec65a65\">\n",
              "      <button class=\"colab-df-quickchart\" onclick=\"quickchart('df-32f28e4c-9f6d-4815-8aa5-24acaec65a65')\"\n",
              "              title=\"Suggest charts.\"\n",
              "              style=\"display:none;\">\n",
              "\n",
              "<svg xmlns=\"http://www.w3.org/2000/svg\" height=\"24px\"viewBox=\"0 0 24 24\"\n",
              "     width=\"24px\">\n",
              "    <g>\n",
              "        <path d=\"M19 3H5c-1.1 0-2 .9-2 2v14c0 1.1.9 2 2 2h14c1.1 0 2-.9 2-2V5c0-1.1-.9-2-2-2zM9 17H7v-7h2v7zm4 0h-2V7h2v10zm4 0h-2v-4h2v4z\"/>\n",
              "    </g>\n",
              "</svg>\n",
              "      </button>\n",
              "    </div>\n",
              "\n",
              "<style>\n",
              "  .colab-df-quickchart {\n",
              "    background-color: #E8F0FE;\n",
              "    border: none;\n",
              "    border-radius: 50%;\n",
              "    cursor: pointer;\n",
              "    display: none;\n",
              "    fill: #1967D2;\n",
              "    height: 32px;\n",
              "    padding: 0 0 0 0;\n",
              "    width: 32px;\n",
              "  }\n",
              "\n",
              "  .colab-df-quickchart:hover {\n",
              "    background-color: #E2EBFA;\n",
              "    box-shadow: 0px 1px 2px rgba(60, 64, 67, 0.3), 0px 1px 3px 1px rgba(60, 64, 67, 0.15);\n",
              "    fill: #174EA6;\n",
              "  }\n",
              "\n",
              "  [theme=dark] .colab-df-quickchart {\n",
              "    background-color: #3B4455;\n",
              "    fill: #D2E3FC;\n",
              "  }\n",
              "\n",
              "  [theme=dark] .colab-df-quickchart:hover {\n",
              "    background-color: #434B5C;\n",
              "    box-shadow: 0px 1px 3px 1px rgba(0, 0, 0, 0.15);\n",
              "    filter: drop-shadow(0px 1px 2px rgba(0, 0, 0, 0.3));\n",
              "    fill: #FFFFFF;\n",
              "  }\n",
              "</style>\n",
              "\n",
              "    <script>\n",
              "      async function quickchart(key) {\n",
              "        const containerElement = document.querySelector('#' + key);\n",
              "        const charts = await google.colab.kernel.invokeFunction(\n",
              "            'suggestCharts', [key], {});\n",
              "      }\n",
              "    </script>\n",
              "\n",
              "      <script>\n",
              "\n",
              "function displayQuickchartButton(domScope) {\n",
              "  let quickchartButtonEl =\n",
              "    domScope.querySelector('#df-32f28e4c-9f6d-4815-8aa5-24acaec65a65 button.colab-df-quickchart');\n",
              "  quickchartButtonEl.style.display =\n",
              "    google.colab.kernel.accessAllowed ? 'block' : 'none';\n",
              "}\n",
              "\n",
              "        displayQuickchartButton(document);\n",
              "      </script>\n",
              "      <style>\n",
              "    .colab-df-container {\n",
              "      display:flex;\n",
              "      flex-wrap:wrap;\n",
              "      gap: 12px;\n",
              "    }\n",
              "\n",
              "    .colab-df-convert {\n",
              "      background-color: #E8F0FE;\n",
              "      border: none;\n",
              "      border-radius: 50%;\n",
              "      cursor: pointer;\n",
              "      display: none;\n",
              "      fill: #1967D2;\n",
              "      height: 32px;\n",
              "      padding: 0 0 0 0;\n",
              "      width: 32px;\n",
              "    }\n",
              "\n",
              "    .colab-df-convert:hover {\n",
              "      background-color: #E2EBFA;\n",
              "      box-shadow: 0px 1px 2px rgba(60, 64, 67, 0.3), 0px 1px 3px 1px rgba(60, 64, 67, 0.15);\n",
              "      fill: #174EA6;\n",
              "    }\n",
              "\n",
              "    [theme=dark] .colab-df-convert {\n",
              "      background-color: #3B4455;\n",
              "      fill: #D2E3FC;\n",
              "    }\n",
              "\n",
              "    [theme=dark] .colab-df-convert:hover {\n",
              "      background-color: #434B5C;\n",
              "      box-shadow: 0px 1px 3px 1px rgba(0, 0, 0, 0.15);\n",
              "      filter: drop-shadow(0px 1px 2px rgba(0, 0, 0, 0.3));\n",
              "      fill: #FFFFFF;\n",
              "    }\n",
              "  </style>\n",
              "\n",
              "      <script>\n",
              "        const buttonEl =\n",
              "          document.querySelector('#df-0556424a-e80e-486b-a9d5-222a5a256c8c button.colab-df-convert');\n",
              "        buttonEl.style.display =\n",
              "          google.colab.kernel.accessAllowed ? 'block' : 'none';\n",
              "\n",
              "        async function convertToInteractive(key) {\n",
              "          const element = document.querySelector('#df-0556424a-e80e-486b-a9d5-222a5a256c8c');\n",
              "          const dataTable =\n",
              "            await google.colab.kernel.invokeFunction('convertToInteractive',\n",
              "                                                     [key], {});\n",
              "          if (!dataTable) return;\n",
              "\n",
              "          const docLinkHtml = 'Like what you see? Visit the ' +\n",
              "            '<a target=\"_blank\" href=https://colab.research.google.com/notebooks/data_table.ipynb>data table notebook</a>'\n",
              "            + ' to learn more about interactive tables.';\n",
              "          element.innerHTML = '';\n",
              "          dataTable['output_type'] = 'display_data';\n",
              "          await google.colab.output.renderOutput(dataTable, element);\n",
              "          const docLink = document.createElement('div');\n",
              "          docLink.innerHTML = docLinkHtml;\n",
              "          element.appendChild(docLink);\n",
              "        }\n",
              "      </script>\n",
              "    </div>\n",
              "  </div>\n"
            ]
          },
          "metadata": {},
          "execution_count": 63
        }
      ],
      "source": [
        "# store_csv dataset first and last 5 rows using concat\n",
        "pd.concat([store_df_2.head(),store_df_2.tail()])"
      ]
    },
    {
      "cell_type": "markdown",
      "metadata": {
        "id": "7hBIi_osiCS2"
      },
      "source": [
        "### Dataset Rows & Columns count"
      ]
    },
    {
      "cell_type": "code",
      "execution_count": 64,
      "metadata": {
        "colab": {
          "base_uri": "https://localhost:8080/"
        },
        "id": "Kllu7SJgmLij",
        "outputId": "355d415e-5523-459a-94f0-43604576ad03"
      },
      "outputs": [
        {
          "output_type": "stream",
          "name": "stdout",
          "text": [
            "Number of Rows in Rossmann store dataset:  1017209\n",
            "Number of Columns in Rossman store dataset:  9\n"
          ]
        }
      ],
      "source": [
        "# Dataset Rows & Columns count\n",
        "# firstly, we counted row and columns of Rossmann store.csv dataset\n",
        "# computing number of rows\n",
        "\n",
        "rows_store_1 = len(store_df_1.axes[0])\n",
        "\n",
        "# computing number of columns\n",
        "cols_store_1 = len(store_df_1.axes[1])\n",
        "\n",
        "print(\"Number of Rows in Rossmann store dataset: \", rows_store_1)\n",
        "print(\"Number of Columns in Rossman store dataset: \", cols_store_1)"
      ]
    },
    {
      "cell_type": "code",
      "execution_count": 65,
      "metadata": {
        "colab": {
          "base_uri": "https://localhost:8080/"
        },
        "id": "POcLb6omJQ-W",
        "outputId": "e540d947-fd16-48f0-9df3-f2e0a82ddf53"
      },
      "outputs": [
        {
          "output_type": "stream",
          "name": "stdout",
          "text": [
            "Number of Rows in Store csv dataset: 1115\n",
            "Number of Columns in Store csv dataset: 10\n"
          ]
        }
      ],
      "source": [
        "# secondly we count rows and columns of store.csv dataset\n",
        "\n",
        "# computing number of rows\n",
        "rows_store_2 = len(store_df_2.axes[0])\n",
        "\n",
        "#computing number of columns\n",
        "\n",
        "cols_store_2 = len(store_df_2.axes[1])\n",
        "\n",
        "print(\"Number of Rows in Store csv dataset:\",rows_store_2)\n",
        "print(\"Number of Columns in Store csv dataset:\", cols_store_2)"
      ]
    },
    {
      "cell_type": "markdown",
      "metadata": {
        "id": "JlHwYmJAmNHm"
      },
      "source": [
        "### Dataset Information"
      ]
    },
    {
      "cell_type": "code",
      "execution_count": 66,
      "metadata": {
        "colab": {
          "base_uri": "https://localhost:8080/"
        },
        "id": "e9hRXRi6meOf",
        "outputId": "0c7d10ce-96c8-4e75-8e3a-c76e71686845"
      },
      "outputs": [
        {
          "output_type": "stream",
          "name": "stdout",
          "text": [
            "<class 'pandas.core.frame.DataFrame'>\n",
            "RangeIndex: 1017209 entries, 0 to 1017208\n",
            "Data columns (total 9 columns):\n",
            " #   Column         Non-Null Count    Dtype \n",
            "---  ------         --------------    ----- \n",
            " 0   Store          1017209 non-null  int64 \n",
            " 1   DayOfWeek      1017209 non-null  int64 \n",
            " 2   Date           1017209 non-null  object\n",
            " 3   Sales          1017209 non-null  int64 \n",
            " 4   Customers      1017209 non-null  int64 \n",
            " 5   Open           1017209 non-null  int64 \n",
            " 6   Promo          1017209 non-null  int64 \n",
            " 7   StateHoliday   1017209 non-null  object\n",
            " 8   SchoolHoliday  1017209 non-null  int64 \n",
            "dtypes: int64(7), object(2)\n",
            "memory usage: 69.8+ MB\n"
          ]
        }
      ],
      "source": [
        "# Dataset Info\n",
        "store_df_1.info()"
      ]
    },
    {
      "cell_type": "code",
      "execution_count": 67,
      "metadata": {
        "colab": {
          "base_uri": "https://localhost:8080/"
        },
        "id": "LlpLxT08Kh6S",
        "outputId": "58e68ce6-ac4a-4e4e-da4d-c6f848082147"
      },
      "outputs": [
        {
          "output_type": "stream",
          "name": "stdout",
          "text": [
            "<class 'pandas.core.frame.DataFrame'>\n",
            "RangeIndex: 1115 entries, 0 to 1114\n",
            "Data columns (total 10 columns):\n",
            " #   Column                     Non-Null Count  Dtype  \n",
            "---  ------                     --------------  -----  \n",
            " 0   Store                      1115 non-null   int64  \n",
            " 1   StoreType                  1115 non-null   object \n",
            " 2   Assortment                 1115 non-null   object \n",
            " 3   CompetitionDistance        1112 non-null   float64\n",
            " 4   CompetitionOpenSinceMonth  761 non-null    float64\n",
            " 5   CompetitionOpenSinceYear   761 non-null    float64\n",
            " 6   Promo2                     1115 non-null   int64  \n",
            " 7   Promo2SinceWeek            571 non-null    float64\n",
            " 8   Promo2SinceYear            571 non-null    float64\n",
            " 9   PromoInterval              571 non-null    object \n",
            "dtypes: float64(5), int64(2), object(3)\n",
            "memory usage: 87.2+ KB\n"
          ]
        }
      ],
      "source": [
        "#dataset Info\n",
        "store_df_2.info()"
      ]
    },
    {
      "cell_type": "markdown",
      "metadata": {
        "id": "35m5QtbWiB9F"
      },
      "source": [
        "#### Duplicate Values"
      ]
    },
    {
      "cell_type": "code",
      "execution_count": 68,
      "metadata": {
        "colab": {
          "base_uri": "https://localhost:8080/"
        },
        "id": "1sLdpKYkmox0",
        "outputId": "ab9f3f90-7018-44ae-d3c9-56a18b15d8d2"
      },
      "outputs": [
        {
          "output_type": "stream",
          "name": "stdout",
          "text": [
            "Duplicate rows in play store dataset: 0\n",
            "Duplicate rows in user review dataset: 0\n"
          ]
        }
      ],
      "source": [
        "# Dataset Duplicate Value Count in Rossmann store.csv\n",
        "duplicate_value = store_df_1[store_df_1.duplicated()]\n",
        "print(\"Duplicate rows in play store dataset:\",len(duplicate_value))\n",
        "#duplicate values in user review.csv\n",
        "duplicate_value1 = store_df_2[store_df_2.duplicated()]\n",
        "print(\"Duplicate rows in user review dataset:\",len(duplicate_value1))"
      ]
    },
    {
      "cell_type": "markdown",
      "metadata": {
        "id": "PoPl-ycgm1ru"
      },
      "source": [
        "#### Missing Values/Null Values"
      ]
    },
    {
      "cell_type": "code",
      "execution_count": 69,
      "metadata": {
        "colab": {
          "base_uri": "https://localhost:8080/"
        },
        "id": "GgHWkxvamxVg",
        "outputId": "5d8e9f6f-9477-4c8b-a22c-bc68a553ec2f"
      },
      "outputs": [
        {
          "output_type": "stream",
          "name": "stdout",
          "text": [
            "Missing Values in each column\n",
            "------------------------------\n"
          ]
        },
        {
          "output_type": "execute_result",
          "data": {
            "text/plain": [
              "Store            0\n",
              "DayOfWeek        0\n",
              "Date             0\n",
              "Sales            0\n",
              "Customers        0\n",
              "Open             0\n",
              "Promo            0\n",
              "StateHoliday     0\n",
              "SchoolHoliday    0\n",
              "dtype: int64"
            ]
          },
          "metadata": {},
          "execution_count": 69
        }
      ],
      "source": [
        "# Missing Values/Null Values Count\n",
        "#firstly, in Rossmann store dataset\n",
        "print (f\"Missing Values in each column\"+\"\\n\" + \"--\"*15)\n",
        "\n",
        "#sum of null values per column\n",
        "store_df_1.isnull().sum()"
      ]
    },
    {
      "cell_type": "markdown",
      "metadata": {
        "id": "mbR3xX6BLjw4"
      },
      "source": [
        "Hence in Rossmann store dataset we found no missing values/null values are found"
      ]
    },
    {
      "cell_type": "code",
      "execution_count": 70,
      "metadata": {
        "colab": {
          "base_uri": "https://localhost:8080/"
        },
        "id": "Jvp9axSmL5Qg",
        "outputId": "f804dbcf-4460-4c28-9eea-4ab8ffe66b21"
      },
      "outputs": [
        {
          "output_type": "stream",
          "name": "stdout",
          "text": [
            "Missing Values in each column\n",
            "------------------------------\n"
          ]
        },
        {
          "output_type": "execute_result",
          "data": {
            "text/plain": [
              "Store                          0\n",
              "StoreType                      0\n",
              "Assortment                     0\n",
              "CompetitionDistance            3\n",
              "CompetitionOpenSinceMonth    354\n",
              "CompetitionOpenSinceYear     354\n",
              "Promo2                         0\n",
              "Promo2SinceWeek              544\n",
              "Promo2SinceYear              544\n",
              "PromoInterval                544\n",
              "dtype: int64"
            ]
          },
          "metadata": {},
          "execution_count": 70
        }
      ],
      "source": [
        "# Missing Values/Null Values Count\n",
        "#secondly, in user review dataset\n",
        "print (f\"Missing Values in each column\"+\"\\n\" + \"--\"*15)\n",
        "\n",
        "#sum of null values per column\n",
        "store_df_2.isnull().sum()"
      ]
    },
    {
      "cell_type": "code",
      "execution_count": 71,
      "metadata": {
        "colab": {
          "base_uri": "https://localhost:8080/"
        },
        "id": "749D9RD0MQec",
        "outputId": "60b63fa2-cd6c-4b37-af45-749978a879a3"
      },
      "outputs": [
        {
          "output_type": "stream",
          "name": "stdout",
          "text": [
            "Missing values % in each column\n",
            "********************\n"
          ]
        },
        {
          "output_type": "execute_result",
          "data": {
            "text/plain": [
              "Store                         0.000000\n",
              "StoreType                     0.000000\n",
              "Assortment                    0.000000\n",
              "CompetitionDistance           0.269058\n",
              "CompetitionOpenSinceMonth    31.748879\n",
              "CompetitionOpenSinceYear     31.748879\n",
              "Promo2                        0.000000\n",
              "Promo2SinceWeek              48.789238\n",
              "Promo2SinceYear              48.789238\n",
              "PromoInterval                48.789238\n",
              "dtype: float64"
            ]
          },
          "metadata": {},
          "execution_count": 71
        }
      ],
      "source": [
        "# percentage of missing value in user review dataset\n",
        "print(f\"Missing values % in each column\"+\"\\n\"+\"**\"*10)\n",
        "(store_df_2.isnull().mean())*100\n"
      ]
    },
    {
      "cell_type": "markdown",
      "metadata": {
        "id": "dWzYXB6BZ6c7"
      },
      "source": [
        "The number of null values are:\n",
        "competitionDistance has 3 null values which contributes 0.27% of the data\n",
        "\n",
        "CompetitionOpenSinceMonth has 354 null values which contributes 31.75% of the data.\n",
        "\n",
        "CompetitionOpenSinceyear has 354 null values which contributes 31.75% of the data.\n",
        "\n",
        "Promo2sinceweek has 544 null values which contributes 48.79% of the data.\n",
        "\n",
        "Promo2sinceyear has 544 null values which contributes 48.79% of the data.\n",
        "\n",
        "PromoIntervel has 544 null values which contributes 48.79% of the data."
      ]
    },
    {
      "cell_type": "code",
      "execution_count": 72,
      "metadata": {
        "colab": {
          "base_uri": "https://localhost:8080/",
          "height": 0
        },
        "id": "3q5wnI3om9sJ",
        "outputId": "ca9debaa-fcd3-4a4c-c658-2a231f1609f2"
      },
      "outputs": [
        {
          "output_type": "display_data",
          "data": {
            "text/plain": [
              "<Figure size 1000x500 with 1 Axes>"
            ],
            "image/png": "[encoded data removed]"
          },
          "metadata": {}
        }
      ],
      "source": [
        "# Visualizing the missing values in Rossmann store dataset\n",
        "# Calculate the percentage of missing values\n",
        "percent_null_counts_store_df_1 = (store_df_2.isnull().sum().sort_values(ascending=False)) / len(store_df_2)\n",
        "percent_null_counts_store_df_1 = percent_null_counts_store_df_1[percent_null_counts_store_df_1 != 0]\n",
        "\n",
        "# Create a dataframe with missing value information\n",
        "missing_values_df = pd.DataFrame({'Column': percent_null_counts_store_df_1.index, 'Percentage': percent_null_counts_store_df_1.values})\n",
        "\n",
        "# Create a pivot table to reshape the data for heatmap\n",
        "heatmap_data = missing_values_df.pivot(index=None, columns='Column', values='Percentage')\n",
        "\n",
        "# Set the figure size\n",
        "plt.figure(figsize=(10, 5))\n",
        "\n",
        "# Plot the heatmap\n",
        "sns.heatmap(heatmap_data, cmap='YlGnBu', annot=True, fmt=\".1%\", cbar=False)\n",
        "\n",
        "# Set the title and labels\n",
        "plt.title('Percentage of Missing Values in Dataset', fontsize=16)\n",
        "plt.xlabel('Columns with Missing Values', fontsize=12)\n",
        "plt.ylabel('')\n",
        "\n",
        "# Rotate the x-axis labels for better visibility\n",
        "plt.xticks(rotation=90)\n",
        "\n",
        "# Show the plot\n",
        "plt.show()\n",
        "\n",
        "\n",
        "# Display the plot\n",
        "plt.show()"
      ]
    },
    {
      "cell_type": "markdown",
      "metadata": {
        "id": "Ur5-pdzVdC1N"
      },
      "source": [
        "###**Inference**\n"
      ]
    },
    {
      "cell_type": "markdown",
      "metadata": {
        "id": "3kcbYOyxdJVx"
      },
      "source": [
        "**Reasoning for Chart selection**\n",
        "The chosen chart for visualizing the missing values in the Rossmann store dataset is a heatmap. The heatmap effectively represents the percentage of missing values in each column of the dataset. Here's the reasoning behind the choice:\n",
        "\n",
        "Clear representation: The heatmap provides a clear and intuitive representation of missing values. Each column is represented by a colored cell, where the color intensity indicates the percentage of missing values. This allows us to quickly identify columns with a high percentage of missing values.\n",
        "\n",
        "\n",
        "Data-driven insights: By examining the heatmap, we can gain valuable insights into the dataset. The columns with darker colors (higher missing value percentages) indicate areas where the dataset lacks information. This can help us identify potential data quality issues or understand the reasons behind missing values in specific columns.\n",
        "\n",
        "\n",
        "**Insights gained from the Chart**"
      ]
    },
    {
      "cell_type": "markdown",
      "metadata": {
        "id": "1-dtoDRadKPU"
      },
      "source": [
        "Identify columns with high missingness: By observing the darker-colored cells, we can identify the columns that have a high percentage of missing values. These columns may require further investigation or imputation techniques before using the dataset for analysis.\n",
        "\n",
        "Patterns of missingness: The heatmap may reveal patterns of missingness across columns. For example, if certain columns have similar missing value patterns, it may suggest a common reason for the missing data, such as data collection limitations or data entry errors.\n",
        "\n",
        "Data preprocessing requirements: The heatmap helps in understanding the extent of missingness in the dataset, which is crucial for data preprocessing. It guides decisions on how to handle missing values, such as imputing missing values or removing columns with excessively high missingness.\n",
        "\n",
        "In summary, the heatmap provides a visually informative representation of missing values in the dataset, allowing for easy identification of columns with missing data and providing insights into potential data quality issues and preprocessing requirements. This helps in making informed decisions on how to handle missing values and ensures the integrity of subsequent analyses or models."
      ]
    },
    {
      "cell_type": "markdown",
      "metadata": {
        "id": "H0kj-8xxnORC"
      },
      "source": [
        "### What did you know about your dataset?"
      ]
    },
    {
      "cell_type": "markdown",
      "metadata": {
        "id": "gfoNAAC-nUe_"
      },
      "source": [
        "Answer Here\n",
        "\n",
        "By exploring the Rossmann store dataset, we have gathered the following information:\n",
        "\n",
        "1.Size of the dataset: The dataset contains 1,017,209 rows, indicating that it includes data for a large number of observations.\n",
        "\n",
        "2.Number of columns: The dataset consists of 9 columns, each representing a specific attribute or variable.\n",
        "\n",
        "Column names and descriptions:\n",
        "\n",
        "1.Store: Represents the unique identifier for each store.\n",
        "\n",
        "2.DayOfWeek: Indicates the day of the week (1-7, where 1 corresponds to Monday).\n",
        "\n",
        "3.Date: Represents the date of the sales record.\n",
        "\n",
        "4.Sales: Represents the sales for a particular store on a given day.\n",
        "\n",
        "5.Customers: Indicates the number of customers who made purchases on a specific day.\n",
        "\n",
        "6.Open: Indicates whether the store was open (1) or closed (0) on a specific day.\n",
        "\n",
        "7.Promo: Represents whether a store was running a promotional campaign on a specific day (1 for promotion, 0 for no promotion).\n",
        "\n",
        "8.StateHoliday: Indicates whether a state holiday occurred on a specific day (a: public holiday, b: Easter holiday, c: Christmas, 0: no state holiday).\n",
        "\n",
        "9.SchoolHoliday: Represents whether there was a school holiday on a specific day (1 for school holiday, 0 for no school holiday).\n",
        "\n",
        "Date column: The \"Date\" column is currently stored as an object data type. It would be beneficial to convert it to a datetime data type for easier manipulation and analysis of temporal data. This can be achieved using the pd.to_datetime function in pandas.\n",
        "\n",
        "StateHoliday column: The \"StateHoliday\" column is currently stored as an object data type. If the column contains categorical values, it may be more appropriate to convert it to a categorical data type using the astype function in pandas.\n",
        "\n",
        "Open and Promo columns: Depending on the nature of the data and its intended use, the \"Open\" and \"Promo\" columns may potentially be converted to boolean (bool) data types instead of integers. This change can help in improving clarity and reduce memory usage if the columns represent binary states (e.g., 1 for True and 0 for False).\n",
        "\n",
        "**2.By exploring the Rossmann store dataset, we have gathered the following information:**\n",
        "\n",
        "Number of rows and columns: The store dataset contains 1115 rows and 10 columns.\n",
        "\n",
        "Column names and descriptions:\n",
        "\n",
        "1.Store: Represents the unique identifier for each store.\n",
        "\n",
        "2.StoreType: Indicates the type of store (e.g., A, B, C, D).\n",
        "\n",
        "3.Assortment: Describes the assortment level of a store (e.g., basic, extra, extended).\n",
        "\n",
        "4.CompetitionDistance: Represents the distance to the nearest competing store.\n",
        "\n",
        "5.CompetitionOpenSinceMonth: Indicates the month when the nearest competitor store opened.\n",
        "\n",
        "6.CompetitionOpenSinceYear: Represents the year when the nearest competitor store opened.\n",
        "\n",
        "7.Promo2: Indicates whether a store is participating in a continuing promotion (0 if not, 1 if participating).\n",
        "\n",
        "8.Promo2SinceWeek: Represents the week when the store started participating in Promo2.\n",
        "\n",
        "9.Promo2SinceYear: Indicates the year when the store started participating in Promo2.\n",
        "\n",
        "10.PromoInterval: Describes the consecutive months when Promo2 is active.\n",
        "\n",
        "*CompetitionOpenSinceMonth and CompetitionOpenSinceYear: These columns represent the month and year when competition opened near the store. The current data types are float64. Since these columns contain discrete values, it would be more appropriate to convert them to integer data type.*\n",
        "\n",
        "*Promo2SinceWeek and Promo2SinceYear: These columns represent the week and year when the store started participating in Promo2. Similar to CompetitionOpenSinceMonth and CompetitionOpenSinceYear, it would be more suitable to convert these columns to integer data type.*\n",
        "\n",
        "*CompetitionDistance: This column represents the distance to the nearest competitor store. The current data type is float64, but since distance is typically measured in meters or kilometers, it might be more appropriate to convert it to an integer or rounded float data type.*\n",
        "\n",
        "\n",
        "\n"
      ]
    },
    {
      "cell_type": "markdown",
      "metadata": {
        "id": "a9rj0Os1CW5k"
      },
      "source": [
        "**First, We try to handle missing values in store dataset:**"
      ]
    },
    {
      "cell_type": "code",
      "execution_count": 73,
      "metadata": {
        "id": "_nAbqKfaElLb"
      },
      "outputs": [],
      "source": [
        "## Remove features with high percentages of missing values\n",
        "# remove features\n",
        "store_df_2 = store_df_2.drop(['CompetitionOpenSinceMonth', 'CompetitionOpenSinceYear','Promo2SinceWeek',\n",
        "                     'Promo2SinceYear', 'PromoInterval'], axis=1)"
      ]
    },
    {
      "cell_type": "markdown",
      "metadata": {
        "id": "3xsKaHn1FK7I"
      },
      "source": [
        "we can see that some features have a high percentage of missing values and they won't be accurate as indicators, so we will remove features with more than 30% missing values."
      ]
    },
    {
      "cell_type": "markdown",
      "metadata": {
        "id": "BRydkNLlFeuT"
      },
      "source": [
        "**Replace missing values in features with low percentages of missing values**"
      ]
    },
    {
      "cell_type": "code",
      "execution_count": 74,
      "metadata": {
        "colab": {
          "base_uri": "https://localhost:8080/"
        },
        "id": "Dg3AfNnoGAIo",
        "outputId": "78c9e2cc-05e1-481b-cbc5-f16962e105f2"
      },
      "outputs": [
        {
          "output_type": "stream",
          "name": "stdout",
          "text": [
            " the mean number is 5404.9 and median is 2325.0\n"
          ]
        }
      ],
      "source": [
        "## Finding mean and median in the Rating column excluding the NaN values.\n",
        "mean = round(store_df_2[~store_df_2['CompetitionDistance'].isnull()]['CompetitionDistance'].mean(),2)\n",
        "median_num = store_df_2[~store_df_2['CompetitionDistance'].isnull()]['CompetitionDistance'].median()\n",
        "print(f\" the mean number is {mean} and median is {median_num}\")"
      ]
    },
    {
      "cell_type": "code",
      "execution_count": 75,
      "metadata": {
        "colab": {
          "base_uri": "https://localhost:8080/",
          "height": 0
        },
        "id": "tyJgaCA7Ixsq",
        "outputId": "92a1733c-6c9d-45c9-f2b5-fd97b657b3b7"
      },
      "outputs": [
        {
          "output_type": "display_data",
          "data": {
            "text/plain": [
              "<Figure size 640x480 with 1 Axes>"
            ],
            "image/png": "[encoded data removed]"
          },
          "metadata": {}
        }
      ],
      "source": [
        "# CompetitionDistance is distance in meters to the nearest competitor store\n",
        "# let's first have a look at its distribution\n",
        "sns.distplot(store_df_2.CompetitionDistance.dropna())\n",
        "\n",
        "# Set the title and labels\n",
        "plt.title('Distribution of Store Competition Distance')\n",
        "plt.xlabel('Competition Distance')\n",
        "plt.ylabel('Density')\n",
        "\n",
        "# Show the plot\n",
        "plt.show()"
      ]
    },
    {
      "cell_type": "markdown",
      "metadata": {
        "id": "9P6iR6i8GrkR"
      },
      "source": [
        "The decision to replace missing values with the median in a right-skewed distribution is based on the understanding of the distribution's characteristics and the desire to mitigate the potential impact of outliers.\n",
        "\n",
        "When a distribution is right-skewed, it means that the majority of the data points are concentrated towards the lower end of the distribution, while a few extreme values pull the distribution towards the right. In such cases, the mean, which is influenced by outliers, may not be a reliable measure of central tendency.\n",
        "\n",
        "The distribution is right skewed, so we'll replace missing values with the median."
      ]
    },
    {
      "cell_type": "code",
      "execution_count": 76,
      "metadata": {
        "id": "fTH-M00uGZDo"
      },
      "outputs": [],
      "source": [
        "# replace missing values in CompetitionDistance with median for the store dataset\n",
        "store_df_2.CompetitionDistance.fillna(store_df_2.CompetitionDistance.median(), inplace=True)"
      ]
    },
    {
      "cell_type": "markdown",
      "metadata": {
        "id": "nA9Y7ga8ng1Z"
      },
      "source": [
        "## ***2. Understanding Your Variables***"
      ]
    },
    {
      "cell_type": "code",
      "execution_count": 77,
      "metadata": {
        "colab": {
          "base_uri": "https://localhost:8080/"
        },
        "id": "j7xfkqrt5Ag5",
        "outputId": "573bf134-4d6b-4fb4-a558-bd2bcb831bef"
      },
      "outputs": [
        {
          "output_type": "stream",
          "name": "stdout",
          "text": [
            "['Store', 'DayOfWeek', 'Date', 'Sales', 'Customers', 'Open', 'Promo', 'StateHoliday', 'SchoolHoliday']\n",
            "['Store', 'StoreType', 'Assortment', 'CompetitionDistance', 'Promo2']\n"
          ]
        }
      ],
      "source": [
        "# Dataset Columns\n",
        "print(list(store_df_1.columns))\n",
        "print(list(store_df_2.columns))"
      ]
    },
    {
      "cell_type": "code",
      "execution_count": 78,
      "metadata": {
        "colab": {
          "base_uri": "https://localhost:8080/",
          "height": 269
        },
        "id": "DnOaZdaE5Q5t",
        "outputId": "1df46fce-2d1c-4d60-e491-1c023c54404a"
      },
      "outputs": [
        {
          "output_type": "execute_result",
          "data": {
            "text/plain": [
              "                   count         mean          std  min     25%     50%  \\\n",
              "Store          1017209.0   558.429727   321.908651  1.0   280.0   558.0   \n",
              "DayOfWeek      1017209.0     3.998341     1.997391  1.0     2.0     4.0   \n",
              "Sales          1017209.0  5773.818972  3849.926175  0.0  3727.0  5744.0   \n",
              "Customers      1017209.0   633.145946   464.411734  0.0   405.0   609.0   \n",
              "Open           1017209.0     0.830107     0.375539  0.0     1.0     1.0   \n",
              "Promo          1017209.0     0.381515     0.485759  0.0     0.0     0.0   \n",
              "SchoolHoliday  1017209.0     0.178647     0.383056  0.0     0.0     0.0   \n",
              "\n",
              "                  75%      max  \n",
              "Store           838.0   1115.0  \n",
              "DayOfWeek         6.0      7.0  \n",
              "Sales          7856.0  41551.0  \n",
              "Customers       837.0   7388.0  \n",
              "Open              1.0      1.0  \n",
              "Promo             1.0      1.0  \n",
              "SchoolHoliday     0.0      1.0  "
            ],
            "text/html": [
              "\n",
              "\n",
              "  <div id=\"df-9fa89c84-457b-4335-a493-1e7e0018f6b8\">\n",
              "    <div class=\"colab-df-container\">\n",
              "      <div>\n",
              "<style scoped>\n",
              "    .dataframe tbody tr th:only-of-type {\n",
              "        vertical-align: middle;\n",
              "    }\n",
              "\n",
              "    .dataframe tbody tr th {\n",
              "        vertical-align: top;\n",
              "    }\n",
              "\n",
              "    .dataframe thead th {\n",
              "        text-align: right;\n",
              "    }\n",
              "</style>\n",
              "<table border=\"1\" class=\"dataframe\">\n",
              "  <thead>\n",
              "    <tr style=\"text-align: right;\">\n",
              "      <th></th>\n",
              "      <th>count</th>\n",
              "      <th>mean</th>\n",
              "      <th>std</th>\n",
              "      <th>min</th>\n",
              "      <th>25%</th>\n",
              "      <th>50%</th>\n",
              "      <th>75%</th>\n",
              "      <th>max</th>\n",
              "    </tr>\n",
              "  </thead>\n",
              "  <tbody>\n",
              "    <tr>\n",
              "      <th>Store</th>\n",
              "      <td>1017209.0</td>\n",
              "      <td>558.429727</td>\n",
              "      <td>321.908651</td>\n",
              "      <td>1.0</td>\n",
              "      <td>280.0</td>\n",
              "      <td>558.0</td>\n",
              "      <td>838.0</td>\n",
              "      <td>1115.0</td>\n",
              "    </tr>\n",
              "    <tr>\n",
              "      <th>DayOfWeek</th>\n",
              "      <td>1017209.0</td>\n",
              "      <td>3.998341</td>\n",
              "      <td>1.997391</td>\n",
              "      <td>1.0</td>\n",
              "      <td>2.0</td>\n",
              "      <td>4.0</td>\n",
              "      <td>6.0</td>\n",
              "      <td>7.0</td>\n",
              "    </tr>\n",
              "    <tr>\n",
              "      <th>Sales</th>\n",
              "      <td>1017209.0</td>\n",
              "      <td>5773.818972</td>\n",
              "      <td>3849.926175</td>\n",
              "      <td>0.0</td>\n",
              "      <td>3727.0</td>\n",
              "      <td>5744.0</td>\n",
              "      <td>7856.0</td>\n",
              "      <td>41551.0</td>\n",
              "    </tr>\n",
              "    <tr>\n",
              "      <th>Customers</th>\n",
              "      <td>1017209.0</td>\n",
              "      <td>633.145946</td>\n",
              "      <td>464.411734</td>\n",
              "      <td>0.0</td>\n",
              "      <td>405.0</td>\n",
              "      <td>609.0</td>\n",
              "      <td>837.0</td>\n",
              "      <td>7388.0</td>\n",
              "    </tr>\n",
              "    <tr>\n",
              "      <th>Open</th>\n",
              "      <td>1017209.0</td>\n",
              "      <td>0.830107</td>\n",
              "      <td>0.375539</td>\n",
              "      <td>0.0</td>\n",
              "      <td>1.0</td>\n",
              "      <td>1.0</td>\n",
              "      <td>1.0</td>\n",
              "      <td>1.0</td>\n",
              "    </tr>\n",
              "    <tr>\n",
              "      <th>Promo</th>\n",
              "      <td>1017209.0</td>\n",
              "      <td>0.381515</td>\n",
              "      <td>0.485759</td>\n",
              "      <td>0.0</td>\n",
              "      <td>0.0</td>\n",
              "      <td>0.0</td>\n",
              "      <td>1.0</td>\n",
              "      <td>1.0</td>\n",
              "    </tr>\n",
              "    <tr>\n",
              "      <th>SchoolHoliday</th>\n",
              "      <td>1017209.0</td>\n",
              "      <td>0.178647</td>\n",
              "      <td>0.383056</td>\n",
              "      <td>0.0</td>\n",
              "      <td>0.0</td>\n",
              "      <td>0.0</td>\n",
              "      <td>0.0</td>\n",
              "      <td>1.0</td>\n",
              "    </tr>\n",
              "  </tbody>\n",
              "</table>\n",
              "</div>\n",
              "      <button class=\"colab-df-convert\" onclick=\"convertToInteractive('df-9fa89c84-457b-4335-a493-1e7e0018f6b8')\"\n",
              "              title=\"Convert this dataframe to an interactive table.\"\n",
              "              style=\"display:none;\">\n",
              "\n",
              "  <svg xmlns=\"http://www.w3.org/2000/svg\" height=\"24px\"viewBox=\"0 0 24 24\"\n",
              "       width=\"24px\">\n",
              "    <path d=\"M0 0h24v24H0V0z\" fill=\"none\"/>\n",
              "    <path d=\"M18.56 5.44l.94 2.06.94-2.06 2.06-.94-2.06-.94-.94-2.06-.94 2.06-2.06.94zm-11 1L8.5 8.5l.94-2.06 2.06-.94-2.06-.94L8.5 2.5l-.94 2.06-2.06.94zm10 10l.94 2.06.94-2.06 2.06-.94-2.06-.94-.94-2.06-.94 2.06-2.06.94z\"/><path d=\"M17.41 7.96l-1.37-1.37c-.4-.4-.92-.59-1.43-.59-.52 0-1.04.2-1.43.59L10.3 9.45l-7.72 7.72c-.78.78-.78 2.05 0 2.83L4 21.41c.39.39.9.59 1.41.59.51 0 1.02-.2 1.41-.59l7.78-7.78 2.81-2.81c.8-.78.8-2.07 0-2.86zM5.41 20L4 18.59l7.72-7.72 1.47 1.35L5.41 20z\"/>\n",
              "  </svg>\n",
              "      </button>\n",
              "\n",
              "\n",
              "\n",
              "    <div id=\"df-fe882594-536a-4120-8734-7eea5a484179\">\n",
              "      <button class=\"colab-df-quickchart\" onclick=\"quickchart('df-fe882594-536a-4120-8734-7eea5a484179')\"\n",
              "              title=\"Suggest charts.\"\n",
              "              style=\"display:none;\">\n",
              "\n",
              "<svg xmlns=\"http://www.w3.org/2000/svg\" height=\"24px\"viewBox=\"0 0 24 24\"\n",
              "     width=\"24px\">\n",
              "    <g>\n",
              "        <path d=\"M19 3H5c-1.1 0-2 .9-2 2v14c0 1.1.9 2 2 2h14c1.1 0 2-.9 2-2V5c0-1.1-.9-2-2-2zM9 17H7v-7h2v7zm4 0h-2V7h2v10zm4 0h-2v-4h2v4z\"/>\n",
              "    </g>\n",
              "</svg>\n",
              "      </button>\n",
              "    </div>\n",
              "\n",
              "<style>\n",
              "  .colab-df-quickchart {\n",
              "    background-color: #E8F0FE;\n",
              "    border: none;\n",
              "    border-radius: 50%;\n",
              "    cursor: pointer;\n",
              "    display: none;\n",
              "    fill: #1967D2;\n",
              "    height: 32px;\n",
              "    padding: 0 0 0 0;\n",
              "    width: 32px;\n",
              "  }\n",
              "\n",
              "  .colab-df-quickchart:hover {\n",
              "    background-color: #E2EBFA;\n",
              "    box-shadow: 0px 1px 2px rgba(60, 64, 67, 0.3), 0px 1px 3px 1px rgba(60, 64, 67, 0.15);\n",
              "    fill: #174EA6;\n",
              "  }\n",
              "\n",
              "  [theme=dark] .colab-df-quickchart {\n",
              "    background-color: #3B4455;\n",
              "    fill: #D2E3FC;\n",
              "  }\n",
              "\n",
              "  [theme=dark] .colab-df-quickchart:hover {\n",
              "    background-color: #434B5C;\n",
              "    box-shadow: 0px 1px 3px 1px rgba(0, 0, 0, 0.15);\n",
              "    filter: drop-shadow(0px 1px 2px rgba(0, 0, 0, 0.3));\n",
              "    fill: #FFFFFF;\n",
              "  }\n",
              "</style>\n",
              "\n",
              "    <script>\n",
              "      async function quickchart(key) {\n",
              "        const containerElement = document.querySelector('#' + key);\n",
              "        const charts = await google.colab.kernel.invokeFunction(\n",
              "            'suggestCharts', [key], {});\n",
              "      }\n",
              "    </script>\n",
              "\n",
              "      <script>\n",
              "\n",
              "function displayQuickchartButton(domScope) {\n",
              "  let quickchartButtonEl =\n",
              "    domScope.querySelector('#df-fe882594-536a-4120-8734-7eea5a484179 button.colab-df-quickchart');\n",
              "  quickchartButtonEl.style.display =\n",
              "    google.colab.kernel.accessAllowed ? 'block' : 'none';\n",
              "}\n",
              "\n",
              "        displayQuickchartButton(document);\n",
              "      </script>\n",
              "      <style>\n",
              "    .colab-df-container {\n",
              "      display:flex;\n",
              "      flex-wrap:wrap;\n",
              "      gap: 12px;\n",
              "    }\n",
              "\n",
              "    .colab-df-convert {\n",
              "      background-color: #E8F0FE;\n",
              "      border: none;\n",
              "      border-radius: 50%;\n",
              "      cursor: pointer;\n",
              "      display: none;\n",
              "      fill: #1967D2;\n",
              "      height: 32px;\n",
              "      padding: 0 0 0 0;\n",
              "      width: 32px;\n",
              "    }\n",
              "\n",
              "    .colab-df-convert:hover {\n",
              "      background-color: #E2EBFA;\n",
              "      box-shadow: 0px 1px 2px rgba(60, 64, 67, 0.3), 0px 1px 3px 1px rgba(60, 64, 67, 0.15);\n",
              "      fill: #174EA6;\n",
              "    }\n",
              "\n",
              "    [theme=dark] .colab-df-convert {\n",
              "      background-color: #3B4455;\n",
              "      fill: #D2E3FC;\n",
              "    }\n",
              "\n",
              "    [theme=dark] .colab-df-convert:hover {\n",
              "      background-color: #434B5C;\n",
              "      box-shadow: 0px 1px 3px 1px rgba(0, 0, 0, 0.15);\n",
              "      filter: drop-shadow(0px 1px 2px rgba(0, 0, 0, 0.3));\n",
              "      fill: #FFFFFF;\n",
              "    }\n",
              "  </style>\n",
              "\n",
              "      <script>\n",
              "        const buttonEl =\n",
              "          document.querySelector('#df-9fa89c84-457b-4335-a493-1e7e0018f6b8 button.colab-df-convert');\n",
              "        buttonEl.style.display =\n",
              "          google.colab.kernel.accessAllowed ? 'block' : 'none';\n",
              "\n",
              "        async function convertToInteractive(key) {\n",
              "          const element = document.querySelector('#df-9fa89c84-457b-4335-a493-1e7e0018f6b8');\n",
              "          const dataTable =\n",
              "            await google.colab.kernel.invokeFunction('convertToInteractive',\n",
              "                                                     [key], {});\n",
              "          if (!dataTable) return;\n",
              "\n",
              "          const docLinkHtml = 'Like what you see? Visit the ' +\n",
              "            '<a target=\"_blank\" href=https://colab.research.google.com/notebooks/data_table.ipynb>data table notebook</a>'\n",
              "            + ' to learn more about interactive tables.';\n",
              "          element.innerHTML = '';\n",
              "          dataTable['output_type'] = 'display_data';\n",
              "          await google.colab.output.renderOutput(dataTable, element);\n",
              "          const docLink = document.createElement('div');\n",
              "          docLink.innerHTML = docLinkHtml;\n",
              "          element.appendChild(docLink);\n",
              "        }\n",
              "      </script>\n",
              "    </div>\n",
              "  </div>\n"
            ]
          },
          "metadata": {},
          "execution_count": 78
        }
      ],
      "source": [
        "# Dataset Describe\n",
        "store_df_1.describe().T"
      ]
    },
    {
      "cell_type": "code",
      "execution_count": 79,
      "metadata": {
        "colab": {
          "base_uri": "https://localhost:8080/",
          "height": 143
        },
        "id": "rWYqHBsIN9hX",
        "outputId": "0fe18261-0ab3-4419-da69-2b276c467fc4"
      },
      "outputs": [
        {
          "output_type": "execute_result",
          "data": {
            "text/plain": [
              "                      count         mean          std   min    25%     50%  \\\n",
              "Store                1115.0   558.000000   322.017080   1.0  279.5   558.0   \n",
              "CompetitionDistance  1115.0  5396.614350  7654.513635  20.0  720.0  2325.0   \n",
              "Promo2               1115.0     0.512108     0.500078   0.0    0.0     1.0   \n",
              "\n",
              "                        75%      max  \n",
              "Store                 836.5   1115.0  \n",
              "CompetitionDistance  6875.0  75860.0  \n",
              "Promo2                  1.0      1.0  "
            ],
            "text/html": [
              "\n",
              "\n",
              "  <div id=\"df-fcb0a69c-fd75-4c42-adae-f5457758c898\">\n",
              "    <div class=\"colab-df-container\">\n",
              "      <div>\n",
              "<style scoped>\n",
              "    .dataframe tbody tr th:only-of-type {\n",
              "        vertical-align: middle;\n",
              "    }\n",
              "\n",
              "    .dataframe tbody tr th {\n",
              "        vertical-align: top;\n",
              "    }\n",
              "\n",
              "    .dataframe thead th {\n",
              "        text-align: right;\n",
              "    }\n",
              "</style>\n",
              "<table border=\"1\" class=\"dataframe\">\n",
              "  <thead>\n",
              "    <tr style=\"text-align: right;\">\n",
              "      <th></th>\n",
              "      <th>count</th>\n",
              "      <th>mean</th>\n",
              "      <th>std</th>\n",
              "      <th>min</th>\n",
              "      <th>25%</th>\n",
              "      <th>50%</th>\n",
              "      <th>75%</th>\n",
              "      <th>max</th>\n",
              "    </tr>\n",
              "  </thead>\n",
              "  <tbody>\n",
              "    <tr>\n",
              "      <th>Store</th>\n",
              "      <td>1115.0</td>\n",
              "      <td>558.000000</td>\n",
              "      <td>322.017080</td>\n",
              "      <td>1.0</td>\n",
              "      <td>279.5</td>\n",
              "      <td>558.0</td>\n",
              "      <td>836.5</td>\n",
              "      <td>1115.0</td>\n",
              "    </tr>\n",
              "    <tr>\n",
              "      <th>CompetitionDistance</th>\n",
              "      <td>1115.0</td>\n",
              "      <td>5396.614350</td>\n",
              "      <td>7654.513635</td>\n",
              "      <td>20.0</td>\n",
              "      <td>720.0</td>\n",
              "      <td>2325.0</td>\n",
              "      <td>6875.0</td>\n",
              "      <td>75860.0</td>\n",
              "    </tr>\n",
              "    <tr>\n",
              "      <th>Promo2</th>\n",
              "      <td>1115.0</td>\n",
              "      <td>0.512108</td>\n",
              "      <td>0.500078</td>\n",
              "      <td>0.0</td>\n",
              "      <td>0.0</td>\n",
              "      <td>1.0</td>\n",
              "      <td>1.0</td>\n",
              "      <td>1.0</td>\n",
              "    </tr>\n",
              "  </tbody>\n",
              "</table>\n",
              "</div>\n",
              "      <button class=\"colab-df-convert\" onclick=\"convertToInteractive('df-fcb0a69c-fd75-4c42-adae-f5457758c898')\"\n",
              "              title=\"Convert this dataframe to an interactive table.\"\n",
              "              style=\"display:none;\">\n",
              "\n",
              "  <svg xmlns=\"http://www.w3.org/2000/svg\" height=\"24px\"viewBox=\"0 0 24 24\"\n",
              "       width=\"24px\">\n",
              "    <path d=\"M0 0h24v24H0V0z\" fill=\"none\"/>\n",
              "    <path d=\"M18.56 5.44l.94 2.06.94-2.06 2.06-.94-2.06-.94-.94-2.06-.94 2.06-2.06.94zm-11 1L8.5 8.5l.94-2.06 2.06-.94-2.06-.94L8.5 2.5l-.94 2.06-2.06.94zm10 10l.94 2.06.94-2.06 2.06-.94-2.06-.94-.94-2.06-.94 2.06-2.06.94z\"/><path d=\"M17.41 7.96l-1.37-1.37c-.4-.4-.92-.59-1.43-.59-.52 0-1.04.2-1.43.59L10.3 9.45l-7.72 7.72c-.78.78-.78 2.05 0 2.83L4 21.41c.39.39.9.59 1.41.59.51 0 1.02-.2 1.41-.59l7.78-7.78 2.81-2.81c.8-.78.8-2.07 0-2.86zM5.41 20L4 18.59l7.72-7.72 1.47 1.35L5.41 20z\"/>\n",
              "  </svg>\n",
              "      </button>\n",
              "\n",
              "\n",
              "\n",
              "    <div id=\"df-b2741ea7-49b5-4ad9-b2a5-f1d5660b065b\">\n",
              "      <button class=\"colab-df-quickchart\" onclick=\"quickchart('df-b2741ea7-49b5-4ad9-b2a5-f1d5660b065b')\"\n",
              "              title=\"Suggest charts.\"\n",
              "              style=\"display:none;\">\n",
              "\n",
              "<svg xmlns=\"http://www.w3.org/2000/svg\" height=\"24px\"viewBox=\"0 0 24 24\"\n",
              "     width=\"24px\">\n",
              "    <g>\n",
              "        <path d=\"M19 3H5c-1.1 0-2 .9-2 2v14c0 1.1.9 2 2 2h14c1.1 0 2-.9 2-2V5c0-1.1-.9-2-2-2zM9 17H7v-7h2v7zm4 0h-2V7h2v10zm4 0h-2v-4h2v4z\"/>\n",
              "    </g>\n",
              "</svg>\n",
              "      </button>\n",
              "    </div>\n",
              "\n",
              "<style>\n",
              "  .colab-df-quickchart {\n",
              "    background-color: #E8F0FE;\n",
              "    border: none;\n",
              "    border-radius: 50%;\n",
              "    cursor: pointer;\n",
              "    display: none;\n",
              "    fill: #1967D2;\n",
              "    height: 32px;\n",
              "    padding: 0 0 0 0;\n",
              "    width: 32px;\n",
              "  }\n",
              "\n",
              "  .colab-df-quickchart:hover {\n",
              "    background-color: #E2EBFA;\n",
              "    box-shadow: 0px 1px 2px rgba(60, 64, 67, 0.3), 0px 1px 3px 1px rgba(60, 64, 67, 0.15);\n",
              "    fill: #174EA6;\n",
              "  }\n",
              "\n",
              "  [theme=dark] .colab-df-quickchart {\n",
              "    background-color: #3B4455;\n",
              "    fill: #D2E3FC;\n",
              "  }\n",
              "\n",
              "  [theme=dark] .colab-df-quickchart:hover {\n",
              "    background-color: #434B5C;\n",
              "    box-shadow: 0px 1px 3px 1px rgba(0, 0, 0, 0.15);\n",
              "    filter: drop-shadow(0px 1px 2px rgba(0, 0, 0, 0.3));\n",
              "    fill: #FFFFFF;\n",
              "  }\n",
              "</style>\n",
              "\n",
              "    <script>\n",
              "      async function quickchart(key) {\n",
              "        const containerElement = document.querySelector('#' + key);\n",
              "        const charts = await google.colab.kernel.invokeFunction(\n",
              "            'suggestCharts', [key], {});\n",
              "      }\n",
              "    </script>\n",
              "\n",
              "      <script>\n",
              "\n",
              "function displayQuickchartButton(domScope) {\n",
              "  let quickchartButtonEl =\n",
              "    domScope.querySelector('#df-b2741ea7-49b5-4ad9-b2a5-f1d5660b065b button.colab-df-quickchart');\n",
              "  quickchartButtonEl.style.display =\n",
              "    google.colab.kernel.accessAllowed ? 'block' : 'none';\n",
              "}\n",
              "\n",
              "        displayQuickchartButton(document);\n",
              "      </script>\n",
              "      <style>\n",
              "    .colab-df-container {\n",
              "      display:flex;\n",
              "      flex-wrap:wrap;\n",
              "      gap: 12px;\n",
              "    }\n",
              "\n",
              "    .colab-df-convert {\n",
              "      background-color: #E8F0FE;\n",
              "      border: none;\n",
              "      border-radius: 50%;\n",
              "      cursor: pointer;\n",
              "      display: none;\n",
              "      fill: #1967D2;\n",
              "      height: 32px;\n",
              "      padding: 0 0 0 0;\n",
              "      width: 32px;\n",
              "    }\n",
              "\n",
              "    .colab-df-convert:hover {\n",
              "      background-color: #E2EBFA;\n",
              "      box-shadow: 0px 1px 2px rgba(60, 64, 67, 0.3), 0px 1px 3px 1px rgba(60, 64, 67, 0.15);\n",
              "      fill: #174EA6;\n",
              "    }\n",
              "\n",
              "    [theme=dark] .colab-df-convert {\n",
              "      background-color: #3B4455;\n",
              "      fill: #D2E3FC;\n",
              "    }\n",
              "\n",
              "    [theme=dark] .colab-df-convert:hover {\n",
              "      background-color: #434B5C;\n",
              "      box-shadow: 0px 1px 3px 1px rgba(0, 0, 0, 0.15);\n",
              "      filter: drop-shadow(0px 1px 2px rgba(0, 0, 0, 0.3));\n",
              "      fill: #FFFFFF;\n",
              "    }\n",
              "  </style>\n",
              "\n",
              "      <script>\n",
              "        const buttonEl =\n",
              "          document.querySelector('#df-fcb0a69c-fd75-4c42-adae-f5457758c898 button.colab-df-convert');\n",
              "        buttonEl.style.display =\n",
              "          google.colab.kernel.accessAllowed ? 'block' : 'none';\n",
              "\n",
              "        async function convertToInteractive(key) {\n",
              "          const element = document.querySelector('#df-fcb0a69c-fd75-4c42-adae-f5457758c898');\n",
              "          const dataTable =\n",
              "            await google.colab.kernel.invokeFunction('convertToInteractive',\n",
              "                                                     [key], {});\n",
              "          if (!dataTable) return;\n",
              "\n",
              "          const docLinkHtml = 'Like what you see? Visit the ' +\n",
              "            '<a target=\"_blank\" href=https://colab.research.google.com/notebooks/data_table.ipynb>data table notebook</a>'\n",
              "            + ' to learn more about interactive tables.';\n",
              "          element.innerHTML = '';\n",
              "          dataTable['output_type'] = 'display_data';\n",
              "          await google.colab.output.renderOutput(dataTable, element);\n",
              "          const docLink = document.createElement('div');\n",
              "          docLink.innerHTML = docLinkHtml;\n",
              "          element.appendChild(docLink);\n",
              "        }\n",
              "      </script>\n",
              "    </div>\n",
              "  </div>\n"
            ]
          },
          "metadata": {},
          "execution_count": 79
        }
      ],
      "source": [
        "store_df_2.describe().T"
      ]
    },
    {
      "cell_type": "markdown",
      "metadata": {
        "id": "PBTbrJXOngz2"
      },
      "source": [
        "### Variables Description"
      ]
    },
    {
      "cell_type": "code",
      "execution_count": 80,
      "metadata": {
        "colab": {
          "base_uri": "https://localhost:8080/"
        },
        "id": "rn6a8DrcOSld",
        "outputId": "c102e9fc-3a6f-4ff9-a196-010bb10516e8"
      },
      "outputs": [
        {
          "output_type": "execute_result",
          "data": {
            "text/plain": [
              "Store             int64\n",
              "DayOfWeek         int64\n",
              "Date             object\n",
              "Sales             int64\n",
              "Customers         int64\n",
              "Open              int64\n",
              "Promo             int64\n",
              "StateHoliday     object\n",
              "SchoolHoliday     int64\n",
              "dtype: object"
            ]
          },
          "metadata": {},
          "execution_count": 80
        }
      ],
      "source": [
        "#description of each column data type of Rassmonn store dataset\n",
        "store_df_1.dtypes"
      ]
    },
    {
      "cell_type": "code",
      "execution_count": 81,
      "metadata": {
        "colab": {
          "base_uri": "https://localhost:8080/"
        },
        "id": "kVT50kTaOYQP",
        "outputId": "1661c068-bedc-44bb-e40e-5aa3112ec346"
      },
      "outputs": [
        {
          "output_type": "execute_result",
          "data": {
            "text/plain": [
              "Store                    int64\n",
              "StoreType               object\n",
              "Assortment              object\n",
              "CompetitionDistance    float64\n",
              "Promo2                   int64\n",
              "dtype: object"
            ]
          },
          "metadata": {},
          "execution_count": 81
        }
      ],
      "source": [
        "#description of each column data type of store dataset\n",
        "store_df_2.dtypes"
      ]
    },
    {
      "cell_type": "markdown",
      "metadata": {
        "id": "AyyUs2hWOqNc"
      },
      "source": [
        "As we can see there is some problem with data types in datasets columns so we will try to correct it."
      ]
    },
    {
      "cell_type": "markdown",
      "metadata": {
        "id": "u3PMJOP6ngxN"
      },
      "source": [
        "### Check Unique Values for each variable."
      ]
    },
    {
      "cell_type": "code",
      "execution_count": 82,
      "metadata": {
        "colab": {
          "base_uri": "https://localhost:8080/"
        },
        "id": "zms12Yq5n-jE",
        "outputId": "6d6783e3-d43e-4f5a-a134-212c607e42ee"
      },
      "outputs": [
        {
          "output_type": "stream",
          "name": "stdout",
          "text": [
            "The column 'Store' has 1115 unique values.\n",
            "[   1    2    3 ... 1113 1114 1115]\n",
            "The column 'DayOfWeek' has 7 unique values.\n",
            "[5 4 3 2 1 7 6]\n",
            "The column 'Date' has 942 unique values.\n",
            "['2015-07-31' '2015-07-30' '2015-07-29' '2015-07-28' '2015-07-27'\n",
            " '2015-07-26' '2015-07-25' '2015-07-24' '2015-07-23' '2015-07-22'\n",
            " '2015-07-21' '2015-07-20' '2015-07-19' '2015-07-18' '2015-07-17'\n",
            " '2015-07-16' '2015-07-15' '2015-07-14' '2015-07-13' '2015-07-12'\n",
            " '2015-07-11' '2015-07-10' '2015-07-09' '2015-07-08' '2015-07-07'\n",
            " '2015-07-06' '2015-07-05' '2015-07-04' '2015-07-03' '2015-07-02'\n",
            " '2015-07-01' '2015-06-30' '2015-06-29' '2015-06-28' '2015-06-27'\n",
            " '2015-06-26' '2015-06-25' '2015-06-24' '2015-06-23' '2015-06-22'\n",
            " '2015-06-21' '2015-06-20' '2015-06-19' '2015-06-18' '2015-06-17'\n",
            " '2015-06-16' '2015-06-15' '2015-06-14' '2015-06-13' '2015-06-12'\n",
            " '2015-06-11' '2015-06-10' '2015-06-09' '2015-06-08' '2015-06-07'\n",
            " '2015-06-06' '2015-06-05' '2015-06-04' '2015-06-03' '2015-06-02'\n",
            " '2015-06-01' '2015-05-31' '2015-05-30' '2015-05-29' '2015-05-28'\n",
            " '2015-05-27' '2015-05-26' '2015-05-25' '2015-05-24' '2015-05-23'\n",
            " '2015-05-22' '2015-05-21' '2015-05-20' '2015-05-19' '2015-05-18'\n",
            " '2015-05-17' '2015-05-16' '2015-05-15' '2015-05-14' '2015-05-13'\n",
            " '2015-05-12' '2015-05-11' '2015-05-10' '2015-05-09' '2015-05-08'\n",
            " '2015-05-07' '2015-05-06' '2015-05-05' '2015-05-04' '2015-05-03'\n",
            " '2015-05-02' '2015-05-01' '2015-04-30' '2015-04-29' '2015-04-28'\n",
            " '2015-04-27' '2015-04-26' '2015-04-25' '2015-04-24' '2015-04-23'\n",
            " '2015-04-22' '2015-04-21' '2015-04-20' '2015-04-19' '2015-04-18'\n",
            " '2015-04-17' '2015-04-16' '2015-04-15' '2015-04-14' '2015-04-13'\n",
            " '2015-04-12' '2015-04-11' '2015-04-10' '2015-04-09' '2015-04-08'\n",
            " '2015-04-07' '2015-04-06' '2015-04-05' '2015-04-04' '2015-04-03'\n",
            " '2015-04-02' '2015-04-01' '2015-03-31' '2015-03-30' '2015-03-29'\n",
            " '2015-03-28' '2015-03-27' '2015-03-26' '2015-03-25' '2015-03-24'\n",
            " '2015-03-23' '2015-03-22' '2015-03-21' '2015-03-20' '2015-03-19'\n",
            " '2015-03-18' '2015-03-17' '2015-03-16' '2015-03-15' '2015-03-14'\n",
            " '2015-03-13' '2015-03-12' '2015-03-11' '2015-03-10' '2015-03-09'\n",
            " '2015-03-08' '2015-03-07' '2015-03-06' '2015-03-05' '2015-03-04'\n",
            " '2015-03-03' '2015-03-02' '2015-03-01' '2015-02-28' '2015-02-27'\n",
            " '2015-02-26' '2015-02-25' '2015-02-24' '2015-02-23' '2015-02-22'\n",
            " '2015-02-21' '2015-02-20' '2015-02-19' '2015-02-18' '2015-02-17'\n",
            " '2015-02-16' '2015-02-15' '2015-02-14' '2015-02-13' '2015-02-12'\n",
            " '2015-02-11' '2015-02-10' '2015-02-09' '2015-02-08' '2015-02-07'\n",
            " '2015-02-06' '2015-02-05' '2015-02-04' '2015-02-03' '2015-02-02'\n",
            " '2015-02-01' '2015-01-31' '2015-01-30' '2015-01-29' '2015-01-28'\n",
            " '2015-01-27' '2015-01-26' '2015-01-25' '2015-01-24' '2015-01-23'\n",
            " '2015-01-22' '2015-01-21' '2015-01-20' '2015-01-19' '2015-01-18'\n",
            " '2015-01-17' '2015-01-16' '2015-01-15' '2015-01-14' '2015-01-13'\n",
            " '2015-01-12' '2015-01-11' '2015-01-10' '2015-01-09' '2015-01-08'\n",
            " '2015-01-07' '2015-01-06' '2015-01-05' '2015-01-04' '2015-01-03'\n",
            " '2015-01-02' '2015-01-01' '2014-12-31' '2014-12-30' '2014-12-29'\n",
            " '2014-12-28' '2014-12-27' '2014-12-26' '2014-12-25' '2014-12-24'\n",
            " '2014-12-23' '2014-12-22' '2014-12-21' '2014-12-20' '2014-12-19'\n",
            " '2014-12-18' '2014-12-17' '2014-12-16' '2014-12-15' '2014-12-14'\n",
            " '2014-12-13' '2014-12-12' '2014-12-11' '2014-12-10' '2014-12-09'\n",
            " '2014-12-08' '2014-12-07' '2014-12-06' '2014-12-05' '2014-12-04'\n",
            " '2014-12-03' '2014-12-02' '2014-12-01' '2014-11-30' '2014-11-29'\n",
            " '2014-11-28' '2014-11-27' '2014-11-26' '2014-11-25' '2014-11-24'\n",
            " '2014-11-23' '2014-11-22' '2014-11-21' '2014-11-20' '2014-11-19'\n",
            " '2014-11-18' '2014-11-17' '2014-11-16' '2014-11-15' '2014-11-14'\n",
            " '2014-11-13' '2014-11-12' '2014-11-11' '2014-11-10' '2014-11-09'\n",
            " '2014-11-08' '2014-11-07' '2014-11-06' '2014-11-05' '2014-11-04'\n",
            " '2014-11-03' '2014-11-02' '2014-11-01' '2014-10-31' '2014-10-30'\n",
            " '2014-10-29' '2014-10-28' '2014-10-27' '2014-10-26' '2014-10-25'\n",
            " '2014-10-24' '2014-10-23' '2014-10-22' '2014-10-21' '2014-10-20'\n",
            " '2014-10-19' '2014-10-18' '2014-10-17' '2014-10-16' '2014-10-15'\n",
            " '2014-10-14' '2014-10-13' '2014-10-12' '2014-10-11' '2014-10-10'\n",
            " '2014-10-09' '2014-10-08' '2014-10-07' '2014-10-06' '2014-10-05'\n",
            " '2014-10-04' '2014-10-03' '2014-10-02' '2014-10-01' '2014-09-30'\n",
            " '2014-09-29' '2014-09-28' '2014-09-27' '2014-09-26' '2014-09-25'\n",
            " '2014-09-24' '2014-09-23' '2014-09-22' '2014-09-21' '2014-09-20'\n",
            " '2014-09-19' '2014-09-18' '2014-09-17' '2014-09-16' '2014-09-15'\n",
            " '2014-09-14' '2014-09-13' '2014-09-12' '2014-09-11' '2014-09-10'\n",
            " '2014-09-09' '2014-09-08' '2014-09-07' '2014-09-06' '2014-09-05'\n",
            " '2014-09-04' '2014-09-03' '2014-09-02' '2014-09-01' '2014-08-31'\n",
            " '2014-08-30' '2014-08-29' '2014-08-28' '2014-08-27' '2014-08-26'\n",
            " '2014-08-25' '2014-08-24' '2014-08-23' '2014-08-22' '2014-08-21'\n",
            " '2014-08-20' '2014-08-19' '2014-08-18' '2014-08-17' '2014-08-16'\n",
            " '2014-08-15' '2014-08-14' '2014-08-13' '2014-08-12' '2014-08-11'\n",
            " '2014-08-10' '2014-08-09' '2014-08-08' '2014-08-07' '2014-08-06'\n",
            " '2014-08-05' '2014-08-04' '2014-08-03' '2014-08-02' '2014-08-01'\n",
            " '2014-07-31' '2014-07-30' '2014-07-29' '2014-07-28' '2014-07-27'\n",
            " '2014-07-26' '2014-07-25' '2014-07-24' '2014-07-23' '2014-07-22'\n",
            " '2014-07-21' '2014-07-20' '2014-07-19' '2014-07-18' '2014-07-17'\n",
            " '2014-07-16' '2014-07-15' '2014-07-14' '2014-07-13' '2014-07-12'\n",
            " '2014-07-11' '2014-07-10' '2014-07-09' '2014-07-08' '2014-07-07'\n",
            " '2014-07-06' '2014-07-05' '2014-07-04' '2014-07-03' '2014-07-02'\n",
            " '2014-07-01' '2014-06-30' '2014-06-29' '2014-06-28' '2014-06-27'\n",
            " '2014-06-26' '2014-06-25' '2014-06-24' '2014-06-23' '2014-06-22'\n",
            " '2014-06-21' '2014-06-20' '2014-06-19' '2014-06-18' '2014-06-17'\n",
            " '2014-06-16' '2014-06-15' '2014-06-14' '2014-06-13' '2014-06-12'\n",
            " '2014-06-11' '2014-06-10' '2014-06-09' '2014-06-08' '2014-06-07'\n",
            " '2014-06-06' '2014-06-05' '2014-06-04' '2014-06-03' '2014-06-02'\n",
            " '2014-06-01' '2014-05-31' '2014-05-30' '2014-05-29' '2014-05-28'\n",
            " '2014-05-27' '2014-05-26' '2014-05-25' '2014-05-24' '2014-05-23'\n",
            " '2014-05-22' '2014-05-21' '2014-05-20' '2014-05-19' '2014-05-18'\n",
            " '2014-05-17' '2014-05-16' '2014-05-15' '2014-05-14' '2014-05-13'\n",
            " '2014-05-12' '2014-05-11' '2014-05-10' '2014-05-09' '2014-05-08'\n",
            " '2014-05-07' '2014-05-06' '2014-05-05' '2014-05-04' '2014-05-03'\n",
            " '2014-05-02' '2014-05-01' '2014-04-30' '2014-04-29' '2014-04-28'\n",
            " '2014-04-27' '2014-04-26' '2014-04-25' '2014-04-24' '2014-04-23'\n",
            " '2014-04-22' '2014-04-21' '2014-04-20' '2014-04-19' '2014-04-18'\n",
            " '2014-04-17' '2014-04-16' '2014-04-15' '2014-04-14' '2014-04-13'\n",
            " '2014-04-12' '2014-04-11' '2014-04-10' '2014-04-09' '2014-04-08'\n",
            " '2014-04-07' '2014-04-06' '2014-04-05' '2014-04-04' '2014-04-03'\n",
            " '2014-04-02' '2014-04-01' '2014-03-31' '2014-03-30' '2014-03-29'\n",
            " '2014-03-28' '2014-03-27' '2014-03-26' '2014-03-25' '2014-03-24'\n",
            " '2014-03-23' '2014-03-22' '2014-03-21' '2014-03-20' '2014-03-19'\n",
            " '2014-03-18' '2014-03-17' '2014-03-16' '2014-03-15' '2014-03-14'\n",
            " '2014-03-13' '2014-03-12' '2014-03-11' '2014-03-10' '2014-03-09'\n",
            " '2014-03-08' '2014-03-07' '2014-03-06' '2014-03-05' '2014-03-04'\n",
            " '2014-03-03' '2014-03-02' '2014-03-01' '2014-02-28' '2014-02-27'\n",
            " '2014-02-26' '2014-02-25' '2014-02-24' '2014-02-23' '2014-02-22'\n",
            " '2014-02-21' '2014-02-20' '2014-02-19' '2014-02-18' '2014-02-17'\n",
            " '2014-02-16' '2014-02-15' '2014-02-14' '2014-02-13' '2014-02-12'\n",
            " '2014-02-11' '2014-02-10' '2014-02-09' '2014-02-08' '2014-02-07'\n",
            " '2014-02-06' '2014-02-05' '2014-02-04' '2014-02-03' '2014-02-02'\n",
            " '2014-02-01' '2014-01-31' '2014-01-30' '2014-01-29' '2014-01-28'\n",
            " '2014-01-27' '2014-01-26' '2014-01-25' '2014-01-24' '2014-01-23'\n",
            " '2014-01-22' '2014-01-21' '2014-01-20' '2014-01-19' '2014-01-18'\n",
            " '2014-01-17' '2014-01-16' '2014-01-15' '2014-01-14' '2014-01-13'\n",
            " '2014-01-12' '2014-01-11' '2014-01-10' '2014-01-09' '2014-01-08'\n",
            " '2014-01-07' '2014-01-06' '2014-01-05' '2014-01-04' '2014-01-03'\n",
            " '2014-01-02' '2014-01-01' '2013-12-31' '2013-12-30' '2013-12-29'\n",
            " '2013-12-28' '2013-12-27' '2013-12-26' '2013-12-25' '2013-12-24'\n",
            " '2013-12-23' '2013-12-22' '2013-12-21' '2013-12-20' '2013-12-19'\n",
            " '2013-12-18' '2013-12-17' '2013-12-16' '2013-12-15' '2013-12-14'\n",
            " '2013-12-13' '2013-12-12' '2013-12-11' '2013-12-10' '2013-12-09'\n",
            " '2013-12-08' '2013-12-07' '2013-12-06' '2013-12-05' '2013-12-04'\n",
            " '2013-12-03' '2013-12-02' '2013-12-01' '2013-11-30' '2013-11-29'\n",
            " '2013-11-28' '2013-11-27' '2013-11-26' '2013-11-25' '2013-11-24'\n",
            " '2013-11-23' '2013-11-22' '2013-11-21' '2013-11-20' '2013-11-19'\n",
            " '2013-11-18' '2013-11-17' '2013-11-16' '2013-11-15' '2013-11-14'\n",
            " '2013-11-13' '2013-11-12' '2013-11-11' '2013-11-10' '2013-11-09'\n",
            " '2013-11-08' '2013-11-07' '2013-11-06' '2013-11-05' '2013-11-04'\n",
            " '2013-11-03' '2013-11-02' '2013-11-01' '2013-10-31' '2013-10-30'\n",
            " '2013-10-29' '2013-10-28' '2013-10-27' '2013-10-26' '2013-10-25'\n",
            " '2013-10-24' '2013-10-23' '2013-10-22' '2013-10-21' '2013-10-20'\n",
            " '2013-10-19' '2013-10-18' '2013-10-17' '2013-10-16' '2013-10-15'\n",
            " '2013-10-14' '2013-10-13' '2013-10-12' '2013-10-11' '2013-10-10'\n",
            " '2013-10-09' '2013-10-08' '2013-10-07' '2013-10-06' '2013-10-05'\n",
            " '2013-10-04' '2013-10-03' '2013-10-02' '2013-10-01' '2013-09-30'\n",
            " '2013-09-29' '2013-09-28' '2013-09-27' '2013-09-26' '2013-09-25'\n",
            " '2013-09-24' '2013-09-23' '2013-09-22' '2013-09-21' '2013-09-20'\n",
            " '2013-09-19' '2013-09-18' '2013-09-17' '2013-09-16' '2013-09-15'\n",
            " '2013-09-14' '2013-09-13' '2013-09-12' '2013-09-11' '2013-09-10'\n",
            " '2013-09-09' '2013-09-08' '2013-09-07' '2013-09-06' '2013-09-05'\n",
            " '2013-09-04' '2013-09-03' '2013-09-02' '2013-09-01' '2013-08-31'\n",
            " '2013-08-30' '2013-08-29' '2013-08-28' '2013-08-27' '2013-08-26'\n",
            " '2013-08-25' '2013-08-24' '2013-08-23' '2013-08-22' '2013-08-21'\n",
            " '2013-08-20' '2013-08-19' '2013-08-18' '2013-08-17' '2013-08-16'\n",
            " '2013-08-15' '2013-08-14' '2013-08-13' '2013-08-12' '2013-08-11'\n",
            " '2013-08-10' '2013-08-09' '2013-08-08' '2013-08-07' '2013-08-06'\n",
            " '2013-08-05' '2013-08-04' '2013-08-03' '2013-08-02' '2013-08-01'\n",
            " '2013-07-31' '2013-07-30' '2013-07-29' '2013-07-28' '2013-07-27'\n",
            " '2013-07-26' '2013-07-25' '2013-07-24' '2013-07-23' '2013-07-22'\n",
            " '2013-07-21' '2013-07-20' '2013-07-19' '2013-07-18' '2013-07-17'\n",
            " '2013-07-16' '2013-07-15' '2013-07-14' '2013-07-13' '2013-07-12'\n",
            " '2013-07-11' '2013-07-10' '2013-07-09' '2013-07-08' '2013-07-07'\n",
            " '2013-07-06' '2013-07-05' '2013-07-04' '2013-07-03' '2013-07-02'\n",
            " '2013-07-01' '2013-06-30' '2013-06-29' '2013-06-28' '2013-06-27'\n",
            " '2013-06-26' '2013-06-25' '2013-06-24' '2013-06-23' '2013-06-22'\n",
            " '2013-06-21' '2013-06-20' '2013-06-19' '2013-06-18' '2013-06-17'\n",
            " '2013-06-16' '2013-06-15' '2013-06-14' '2013-06-13' '2013-06-12'\n",
            " '2013-06-11' '2013-06-10' '2013-06-09' '2013-06-08' '2013-06-07'\n",
            " '2013-06-06' '2013-06-05' '2013-06-04' '2013-06-03' '2013-06-02'\n",
            " '2013-06-01' '2013-05-31' '2013-05-30' '2013-05-29' '2013-05-28'\n",
            " '2013-05-27' '2013-05-26' '2013-05-25' '2013-05-24' '2013-05-23'\n",
            " '2013-05-22' '2013-05-21' '2013-05-20' '2013-05-19' '2013-05-18'\n",
            " '2013-05-17' '2013-05-16' '2013-05-15' '2013-05-14' '2013-05-13'\n",
            " '2013-05-12' '2013-05-11' '2013-05-10' '2013-05-09' '2013-05-08'\n",
            " '2013-05-07' '2013-05-06' '2013-05-05' '2013-05-04' '2013-05-03'\n",
            " '2013-05-02' '2013-05-01' '2013-04-30' '2013-04-29' '2013-04-28'\n",
            " '2013-04-27' '2013-04-26' '2013-04-25' '2013-04-24' '2013-04-23'\n",
            " '2013-04-22' '2013-04-21' '2013-04-20' '2013-04-19' '2013-04-18'\n",
            " '2013-04-17' '2013-04-16' '2013-04-15' '2013-04-14' '2013-04-13'\n",
            " '2013-04-12' '2013-04-11' '2013-04-10' '2013-04-09' '2013-04-08'\n",
            " '2013-04-07' '2013-04-06' '2013-04-05' '2013-04-04' '2013-04-03'\n",
            " '2013-04-02' '2013-04-01' '2013-03-31' '2013-03-30' '2013-03-29'\n",
            " '2013-03-28' '2013-03-27' '2013-03-26' '2013-03-25' '2013-03-24'\n",
            " '2013-03-23' '2013-03-22' '2013-03-21' '2013-03-20' '2013-03-19'\n",
            " '2013-03-18' '2013-03-17' '2013-03-16' '2013-03-15' '2013-03-14'\n",
            " '2013-03-13' '2013-03-12' '2013-03-11' '2013-03-10' '2013-03-09'\n",
            " '2013-03-08' '2013-03-07' '2013-03-06' '2013-03-05' '2013-03-04'\n",
            " '2013-03-03' '2013-03-02' '2013-03-01' '2013-02-28' '2013-02-27'\n",
            " '2013-02-26' '2013-02-25' '2013-02-24' '2013-02-23' '2013-02-22'\n",
            " '2013-02-21' '2013-02-20' '2013-02-19' '2013-02-18' '2013-02-17'\n",
            " '2013-02-16' '2013-02-15' '2013-02-14' '2013-02-13' '2013-02-12'\n",
            " '2013-02-11' '2013-02-10' '2013-02-09' '2013-02-08' '2013-02-07'\n",
            " '2013-02-06' '2013-02-05' '2013-02-04' '2013-02-03' '2013-02-02'\n",
            " '2013-02-01' '2013-01-31' '2013-01-30' '2013-01-29' '2013-01-28'\n",
            " '2013-01-27' '2013-01-26' '2013-01-25' '2013-01-24' '2013-01-23'\n",
            " '2013-01-22' '2013-01-21' '2013-01-20' '2013-01-19' '2013-01-18'\n",
            " '2013-01-17' '2013-01-16' '2013-01-15' '2013-01-14' '2013-01-13'\n",
            " '2013-01-12' '2013-01-11' '2013-01-10' '2013-01-09' '2013-01-08'\n",
            " '2013-01-07' '2013-01-06' '2013-01-05' '2013-01-04' '2013-01-03'\n",
            " '2013-01-02' '2013-01-01']\n",
            "The column 'Sales' has 21734 unique values.\n",
            "[ 5263  6064  8314 ...   660 17815 23303]\n",
            "The column 'Customers' has 4086 unique values.\n",
            "[ 555  625  821 ... 3900   36 4065]\n",
            "The column 'Open' has 2 unique values.\n",
            "[1 0]\n",
            "The column 'Promo' has 2 unique values.\n",
            "[1 0]\n",
            "The column 'StateHoliday' has 5 unique values.\n",
            "['0' 'a' 'b' 'c' 0]\n",
            "The column 'SchoolHoliday' has 2 unique values.\n",
            "[1 0]\n"
          ]
        }
      ],
      "source": [
        "# Check the unique values in each column of store_df_1\n",
        "for column in store_df_1.columns:\n",
        "    unique_values = store_df_1[column].unique()\n",
        "    if len(unique_values) == 1:\n",
        "        print(f\"The column '{column}' has only one unique value: {unique_values[0]}\")\n",
        "    else:\n",
        "        print(f\"The column '{column}' has {len(unique_values)} unique values.\")\n",
        "        print(unique_values)\n",
        "\n"
      ]
    },
    {
      "cell_type": "code",
      "execution_count": 83,
      "metadata": {
        "id": "12nZCbMERMg_"
      },
      "outputs": [],
      "source": [
        "# extract year, month, day and week of year from \"Date\"\n",
        "store_df_1.index = pd.to_datetime(store_df_1.index)\n",
        "\n",
        "# Extract date-related information\n",
        "store_df_1['Year'] = store_df_1.index.year\n",
        "store_df_1['Month'] = store_df_1.index.month\n",
        "store_df_1['Day'] = store_df_1.index.day\n",
        "store_df_1['WeekOfYear'] = store_df_1.index.weekofyear\n",
        "\n",
        "# Reset the index\n",
        "store_df_1 = store_df_1.reset_index()"
      ]
    },
    {
      "cell_type": "code",
      "execution_count": 84,
      "metadata": {
        "id": "pidSqpVMc7wj"
      },
      "outputs": [],
      "source": [
        "# Assuming the 'StateHoliday' column is in a DataFrame\n",
        "store_df_1['StateHoliday'] = store_df_1['StateHoliday'].replace({\n",
        "    '0': 'None',\n",
        "    'a': 'public holiday',\n",
        "    'b': 'Easter holiday',\n",
        "    'c': 'Christmas',\n",
        "    0: 'None'\n",
        "})\n"
      ]
    },
    {
      "cell_type": "code",
      "execution_count": 85,
      "metadata": {
        "colab": {
          "base_uri": "https://localhost:8080/"
        },
        "id": "gjEYcewfSAc_",
        "outputId": "7c75e8cd-f3a1-4d12-8e84-31588cd8529e"
      },
      "outputs": [
        {
          "output_type": "stream",
          "name": "stdout",
          "text": [
            "Promo    bool\n",
            "dtype: object\n"
          ]
        }
      ],
      "source": [
        "# Convert the \"Open\" and \"Promo\" columns to boolean data types\n",
        "store_df_1[\"Promo\"] = store_df_1[\"Promo\"].astype(bool)\n",
        "\n",
        "# Verify the updated data types of the columns\n",
        "print(store_df_1[[ \"Promo\"]].dtypes)\n"
      ]
    },
    {
      "cell_type": "code",
      "execution_count": 86,
      "metadata": {
        "id": "vCL8d41UpUA9"
      },
      "outputs": [],
      "source": [
        "# make a copy in case I mess up anything\n",
        "store_df_1 = store_df_1.copy()"
      ]
    },
    {
      "cell_type": "markdown",
      "metadata": {
        "id": "3MN6jl7ZWyNE"
      },
      "source": [
        "**Drop Subsets Of Data Where Might Cause Bias**"
      ]
    },
    {
      "cell_type": "code",
      "execution_count": 87,
      "metadata": {
        "id": "SIUG_g5xVUAJ"
      },
      "outputs": [],
      "source": [
        "# where stores are closed, they won't generate sales, so we will remove this part of the dataset\n",
        "store_df_1 = store_df_1[store_df_1.Open != 0]"
      ]
    },
    {
      "cell_type": "code",
      "execution_count": 88,
      "metadata": {
        "id": "SryYpPixVhUu"
      },
      "outputs": [],
      "source": [
        "# Open isn't a variable anymore, so we'll drop it\n",
        "store_df_1 = store_df_1.drop('Open', axis=1)"
      ]
    },
    {
      "cell_type": "code",
      "execution_count": 89,
      "metadata": {
        "colab": {
          "base_uri": "https://localhost:8080/"
        },
        "id": "SOyhJNaCVkWl",
        "outputId": "6d308be1-f92c-4746-9af4-41149fcae6d2"
      },
      "outputs": [
        {
          "output_type": "execute_result",
          "data": {
            "text/plain": [
              "31460"
            ]
          },
          "metadata": {},
          "execution_count": 89
        }
      ],
      "source": [
        "# see if there's any opened store with zero sales\n",
        "store_df_1[store_df_1.Sales == 0]['Store'].sum()"
      ]
    },
    {
      "cell_type": "code",
      "execution_count": 90,
      "metadata": {
        "colab": {
          "base_uri": "https://localhost:8080/"
        },
        "id": "orhm-Xe5VpfU",
        "outputId": "7b75028a-befc-4f2c-fbcb-509688b6a142"
      },
      "outputs": [
        {
          "output_type": "execute_result",
          "data": {
            "text/plain": [
              "0.0"
            ]
          },
          "metadata": {},
          "execution_count": 90
        }
      ],
      "source": [
        "# see the percentage of open stored with zero sales\n",
        "store_df_1[store_df_1.Sales == 0]['Sales'].sum()/store_df_1.Sales.sum()\n"
      ]
    },
    {
      "cell_type": "code",
      "execution_count": 91,
      "metadata": {
        "id": "1aHpJs2tVsLY"
      },
      "outputs": [],
      "source": [
        "# remove this part of data to avoid bias\n",
        "store_df_1 = store_df_1[store_df_1.Sales != 0]"
      ]
    },
    {
      "cell_type": "markdown",
      "metadata": {
        "id": "cG8OqB86XYI_"
      },
      "source": [
        " ## Check the unique values in each column of store_df_2 ##"
      ]
    },
    {
      "cell_type": "code",
      "execution_count": 92,
      "metadata": {
        "colab": {
          "base_uri": "https://localhost:8080/"
        },
        "id": "mnwd1o6pSNvk",
        "outputId": "8277c103-5e6b-4e82-f2b7-d29ddfa488e3"
      },
      "outputs": [
        {
          "output_type": "stream",
          "name": "stdout",
          "text": [
            "The column 'Store' has 1115 unique values.\n",
            "[   1    2    3 ... 1113 1114 1115]\n",
            "The column 'StoreType' has 4 unique values.\n",
            "['c' 'a' 'd' 'b']\n",
            "The column 'Assortment' has 3 unique values.\n",
            "['a' 'c' 'b']\n",
            "The column 'CompetitionDistance' has 655 unique values.\n",
            "[1.270e+03 5.700e+02 1.413e+04 6.200e+02 2.991e+04 3.100e+02 2.400e+04\n",
            " 7.520e+03 2.030e+03 3.160e+03 9.600e+02 1.070e+03 1.300e+03 4.110e+03\n",
            " 3.270e+03 5.000e+01 1.384e+04 3.240e+03 2.340e+03 5.500e+02 1.040e+03\n",
            " 4.060e+03 4.590e+03 4.300e+02 2.300e+03 6.000e+01 1.200e+03 2.170e+03\n",
            " 4.000e+01 9.800e+03 2.910e+03 1.320e+03 2.240e+03 7.660e+03 5.400e+02\n",
            " 4.230e+03 1.090e+03 2.600e+02 1.800e+02 1.180e+03 2.900e+02 4.880e+03\n",
            " 9.710e+03 2.700e+02 1.060e+03 1.801e+04 6.260e+03 1.057e+04 4.500e+02\n",
            " 3.036e+04 7.170e+03 7.200e+02 6.620e+03 4.200e+02 7.340e+03 2.840e+03\n",
            " 5.540e+03 3.500e+02 2.050e+03 3.700e+03 2.256e+04 4.100e+02 2.500e+02\n",
            " 1.130e+03 4.840e+03 1.750e+04 2.200e+03 1.650e+03 3.300e+02 2.244e+04\n",
            " 1.996e+04 3.510e+03 3.320e+03 7.910e+03 2.370e+03 2.239e+04 2.710e+03\n",
            " 1.181e+04 1.870e+03 4.800e+02 5.600e+02 1.069e+04 2.380e+03 2.410e+03\n",
            " 2.400e+02 1.669e+04 1.462e+04 1.890e+03 8.780e+03 8.980e+03 1.514e+04\n",
            " 1.793e+04 2.440e+03 1.500e+02 5.210e+03 3.900e+02 6.190e+03 1.390e+03\n",
            " 1.930e+03 2.190e+03 3.300e+03 4.659e+04 7.890e+03 1.630e+03 2.093e+04\n",
            " 4.510e+03 5.740e+03 6.800e+02 3.450e+03 3.580e+03 2.100e+03 2.290e+03\n",
            " 3.570e+03 5.826e+04 1.676e+04 1.410e+03 7.600e+02 3.370e+03 1.350e+03\n",
            " 2.000e+03 2.460e+03 9.000e+02 9.200e+02 5.190e+03 1.730e+03 2.536e+04\n",
            " 1.700e+03 1.540e+03 2.930e+03 1.657e+04 2.800e+02 8.050e+03 8.540e+03\n",
            " 2.090e+03 2.610e+03 3.183e+04 4.360e+03 1.780e+03 1.624e+04 1.642e+04\n",
            " 3.050e+03 2.020e+03 2.950e+03 1.184e+04 8.530e+03 1.711e+04 2.970e+03\n",
            " 5.340e+03 1.480e+03 1.160e+03 3.720e+03 1.000e+02 1.400e+02 1.254e+04\n",
            " 9.800e+02 2.640e+03 1.100e+02 1.309e+04 4.130e+03 3.770e+03 1.250e+03\n",
            " 1.710e+03 5.800e+03 1.261e+04 9.670e+03 3.560e+03 1.860e+03 1.936e+04\n",
            " 8.500e+02 5.760e+03 1.470e+03 1.100e+03 2.770e+03 5.200e+02 1.697e+04\n",
            " 2.200e+02 3.850e+03 4.210e+03 6.360e+03 2.026e+04 5.140e+03 4.900e+02\n",
            " 5.630e+03 3.800e+02 6.870e+03 3.000e+02 1.168e+04 9.700e+02 1.505e+04\n",
            " 4.030e+03 8.650e+03 1.900e+02 3.150e+03 6.400e+02 1.640e+03 1.000e+03\n",
            " 1.353e+04 2.920e+03 7.930e+03 1.018e+04 1.080e+04 1.741e+04 6.680e+03\n",
            " 3.840e+03 1.357e+04 4.370e+03 5.710e+03 1.420e+03 3.200e+02 6.100e+02\n",
            " 1.110e+03 7.800e+02 6.880e+03 7.100e+02 1.310e+03 4.660e+03 7.000e+01\n",
            " 3.400e+02 3.520e+03 2.233e+04 4.630e+03 8.000e+01 2.719e+04 2.100e+02\n",
            " 1.534e+04 1.140e+03 4.580e+03 3.600e+02 4.520e+03 1.450e+03 1.618e+04\n",
            " 8.480e+03 3.640e+03 2.960e+03 7.840e+03 9.260e+03 2.320e+03 1.864e+04\n",
            " 6.970e+03 1.220e+03 2.260e+03 1.290e+03 1.460e+03 2.740e+03 8.000e+02\n",
            " 6.540e+03 4.150e+03 2.325e+03 9.580e+03 1.984e+04 3.863e+04 1.200e+02\n",
            " 1.543e+04 1.950e+03 2.470e+03 5.100e+03 1.866e+04 8.740e+03 1.130e+04\n",
            " 1.416e+04 3.871e+04 9.000e+03 3.140e+03 3.233e+04 8.140e+03 8.400e+03\n",
            " 1.314e+04 1.007e+04 3.130e+03 3.700e+02 6.700e+02 1.840e+03 4.040e+03\n",
            " 9.000e+01 1.060e+04 1.590e+03 2.280e+03 8.080e+03 1.577e+04 1.865e+04\n",
            " 8.090e+03 9.360e+03 1.649e+04 1.490e+03 8.880e+03 5.290e+03 1.500e+03\n",
            " 9.720e+03 8.970e+03 2.060e+03 2.890e+03 2.040e+03 4.490e+03 1.362e+04\n",
            " 6.470e+03 5.870e+03 8.250e+03 1.970e+03 1.112e+04 1.150e+03 1.571e+04\n",
            " 1.600e+02 2.140e+03 6.630e+03 1.800e+03 2.613e+04 1.300e+02 6.690e+03\n",
            " 1.600e+03 4.600e+02 2.120e+03 4.820e+03 1.085e+04 3.620e+03 2.313e+04\n",
            " 5.360e+03 9.200e+03 5.830e+03 4.970e+03 1.080e+03 8.240e+03 5.890e+03\n",
            " 1.560e+03 8.400e+02 8.460e+03 4.460e+03 6.210e+03 6.910e+03 4.650e+03\n",
            " 1.620e+03 3.530e+03 2.880e+03 1.635e+04 1.287e+04 8.100e+02 3.003e+04\n",
            " 1.302e+04 9.100e+02 3.900e+03 2.530e+03 5.000e+02 1.140e+04 1.510e+03\n",
            " 3.970e+03 5.780e+03 1.850e+03 7.586e+04 2.645e+04 3.390e+03 3.405e+04\n",
            " 1.790e+03 4.432e+04 4.160e+03 1.089e+04 3.110e+03 2.039e+04 5.260e+03\n",
            " 5.300e+03 5.030e+03 1.481e+04 8.300e+03 7.700e+02 1.940e+03 7.470e+03\n",
            " 2.550e+03 2.310e+03 1.430e+04 2.180e+03 1.496e+04 6.600e+02 4.680e+03\n",
            " 1.740e+03 1.260e+03 5.470e+03 2.780e+03 1.610e+03 9.900e+02 1.308e+04\n",
            " 8.200e+02 9.070e+03 1.280e+03 4.740e+03 8.260e+03 5.900e+02 4.000e+02\n",
            " 1.126e+04 2.000e+01 2.249e+04 3.330e+03 2.510e+03 6.900e+03 1.861e+04\n",
            " 7.160e+03 4.086e+04 2.062e+04 1.292e+04 1.816e+04 5.950e+03 4.700e+03\n",
            " 6.000e+02 6.500e+02 7.280e+03 5.020e+03 5.800e+02 8.990e+03 3.760e+03\n",
            " 2.330e+03 4.260e+03 3.040e+03 3.000e+03 3.910e+03 1.910e+03 1.210e+03\n",
            " 7.000e+02 1.010e+03 4.270e+03 1.340e+03 2.110e+03 9.230e+03 1.190e+03\n",
            " 4.400e+03 2.270e+03 1.270e+04 2.097e+04 1.700e+02 7.250e+03 1.360e+03\n",
            " 4.400e+02 1.572e+04 3.340e+03 2.540e+03 3.306e+04 1.734e+04 8.220e+03\n",
            " 1.095e+04 1.031e+04 1.837e+04 2.070e+03 2.490e+03 7.300e+02 8.940e+03\n",
            " 9.910e+03 5.440e+03 3.000e+01 4.080e+03 6.920e+03 1.170e+03 1.074e+04\n",
            " 5.100e+02 1.690e+03 2.870e+03 3.350e+03 1.164e+04 2.753e+04 9.790e+03\n",
            " 1.017e+04 7.780e+03 8.040e+03 5.300e+02 2.300e+02 7.420e+03 2.130e+03\n",
            " 1.457e+04 2.000e+02 6.930e+03 7.860e+03 1.680e+03 2.700e+03 1.708e+04\n",
            " 1.517e+04 3.250e+03 4.140e+03 2.850e+03 2.005e+04 1.876e+04 1.504e+04\n",
            " 3.030e+03 3.780e+03 8.300e+02 8.550e+03 7.830e+03 2.900e+03 1.147e+04\n",
            " 4.870e+03 1.207e+04 3.200e+03 8.190e+03 1.532e+04 3.590e+03 5.650e+03\n",
            " 5.900e+03 1.754e+04 4.054e+04 1.399e+04 1.527e+04 3.528e+04 8.600e+02\n",
            " 1.920e+03 5.980e+03 6.400e+03 1.190e+04 4.380e+03 6.710e+03 1.370e+03\n",
            " 1.765e+04 4.330e+03 4.574e+04 3.410e+03 8.670e+03 1.313e+04 1.978e+04\n",
            " 2.390e+03 3.224e+04 2.649e+04 2.543e+04 9.820e+03 2.630e+03 2.064e+04\n",
            " 1.699e+04 6.300e+02 5.390e+03 1.549e+04 3.210e+03 1.530e+03 9.770e+03\n",
            " 1.728e+04 5.090e+03 7.180e+03 9.560e+03 4.833e+04 1.760e+03 2.477e+04\n",
            " 3.870e+03 1.862e+04 1.277e+04 9.640e+03 2.590e+03 2.453e+04 1.621e+04\n",
            " 1.757e+04 7.980e+03 3.290e+03 6.320e+03 5.070e+03 3.470e+03 2.720e+03\n",
            " 1.460e+04 6.890e+03 2.765e+04 8.860e+03 5.000e+03 1.120e+03 9.400e+02\n",
            " 1.404e+04 4.770e+03 3.440e+03 3.020e+03 6.270e+03 2.177e+04 7.400e+02\n",
            " 2.137e+04 1.020e+03 9.680e+03 2.181e+04 1.062e+04 3.860e+03 2.179e+04\n",
            " 2.919e+04 4.570e+03 7.550e+03 1.243e+04 1.970e+04 4.450e+03 1.867e+04\n",
            " 1.937e+04 1.854e+04 3.920e+03 3.170e+03 7.290e+03 1.980e+03 1.248e+04\n",
            " 3.100e+03 7.240e+03 1.871e+04 2.620e+03 6.420e+03 4.700e+02 5.150e+03\n",
            " 1.570e+04 5.460e+03 2.235e+04 2.810e+03 2.820e+03 6.860e+03 1.802e+04\n",
            " 1.670e+03 2.220e+03 1.430e+03 8.700e+02 6.300e+03 1.983e+04 9.430e+03\n",
            " 2.362e+04 9.630e+03 4.180e+03 3.890e+03 4.420e+03 2.193e+04 2.480e+03\n",
            " 3.460e+03 6.560e+03 5.840e+03 2.230e+03 1.964e+04 6.480e+03 4.610e+03\n",
            " 6.330e+03 1.520e+03 3.740e+03 1.990e+03 3.641e+04 7.680e+03 1.375e+04\n",
            " 2.715e+04 1.729e+04 2.699e+04 2.907e+04 3.750e+03 1.317e+04 5.080e+03\n",
            " 1.319e+04 5.350e+03 3.230e+03 3.380e+03 3.430e+03 8.110e+03 6.250e+03\n",
            " 1.202e+04 5.010e+03 1.805e+04 5.380e+03 1.668e+04 1.154e+04 2.210e+03\n",
            " 4.300e+03 5.220e+03 9.990e+03 1.045e+04 6.900e+02 1.830e+03 5.330e+03\n",
            " 1.400e+03 3.490e+03 1.900e+03 1.880e+03]\n",
            "The column 'Promo2' has 2 unique values.\n",
            "[0 1]\n"
          ]
        }
      ],
      "source": [
        "# Check the unique values in each column of store_df_2\n",
        "for column in store_df_2.columns:\n",
        "    unique_values = store_df_2[column].unique()\n",
        "    if len(unique_values) == 1:\n",
        "        print(f\"The column '{column}' has only one unique value: {unique_values[0]}\")\n",
        "    else:\n",
        "        print(f\"The column '{column}' has {len(unique_values)} unique values.\")\n",
        "        print(unique_values)"
      ]
    },
    {
      "cell_type": "code",
      "execution_count": 93,
      "metadata": {
        "colab": {
          "base_uri": "https://localhost:8080/"
        },
        "id": "6qRZioIUUk5W",
        "outputId": "99807bcf-d759-4f6c-c051-2a200849039d"
      },
      "outputs": [
        {
          "output_type": "stream",
          "name": "stdout",
          "text": [
            "int64\n"
          ]
        }
      ],
      "source": [
        "# Convert the \"CompetitionDistance\" column to integer or rounded float data type\n",
        "store_df_2[\"CompetitionDistance\"] = store_df_2[\"CompetitionDistance\"].astype(int) # or .round().astype(int) for rounded float\n",
        "\n",
        "# Verify the updated data type of the column\n",
        "print(store_df_2[\"CompetitionDistance\"].dtype)\n",
        "\n"
      ]
    },
    {
      "cell_type": "code",
      "execution_count": 94,
      "metadata": {
        "colab": {
          "base_uri": "https://localhost:8080/"
        },
        "id": "JCGOVar2Xsos",
        "outputId": "79b8acf2-ce7f-48ab-9e96-1b7e47ceec7e"
      },
      "outputs": [
        {
          "output_type": "stream",
          "name": "stdout",
          "text": [
            "<class 'pandas.core.frame.DataFrame'>\n",
            "Int64Index: 844338 entries, 0 to 1017190\n",
            "Data columns (total 13 columns):\n",
            " #   Column         Non-Null Count   Dtype         \n",
            "---  ------         --------------   -----         \n",
            " 0   index          844338 non-null  datetime64[ns]\n",
            " 1   Store          844338 non-null  int64         \n",
            " 2   DayOfWeek      844338 non-null  int64         \n",
            " 3   Date           844338 non-null  object        \n",
            " 4   Sales          844338 non-null  int64         \n",
            " 5   Customers      844338 non-null  int64         \n",
            " 6   Promo          844338 non-null  bool          \n",
            " 7   StateHoliday   844338 non-null  object        \n",
            " 8   SchoolHoliday  844338 non-null  int64         \n",
            " 9   Year           844338 non-null  int64         \n",
            " 10  Month          844338 non-null  int64         \n",
            " 11  Day            844338 non-null  int64         \n",
            " 12  WeekOfYear     844338 non-null  int64         \n",
            "dtypes: bool(1), datetime64[ns](1), int64(9), object(2)\n",
            "memory usage: 84.5+ MB\n"
          ]
        }
      ],
      "source": [
        "#Now check again both dataset final view after cleaning process\n",
        "store_df_1.info()"
      ]
    },
    {
      "cell_type": "code",
      "execution_count": 95,
      "metadata": {
        "colab": {
          "base_uri": "https://localhost:8080/"
        },
        "id": "1shCzS80X0Yx",
        "outputId": "d553a9ae-5303-421d-bd80-e006a8a08dfe"
      },
      "outputs": [
        {
          "output_type": "stream",
          "name": "stdout",
          "text": [
            "<class 'pandas.core.frame.DataFrame'>\n",
            "RangeIndex: 1115 entries, 0 to 1114\n",
            "Data columns (total 5 columns):\n",
            " #   Column               Non-Null Count  Dtype \n",
            "---  ------               --------------  ----- \n",
            " 0   Store                1115 non-null   int64 \n",
            " 1   StoreType            1115 non-null   object\n",
            " 2   Assortment           1115 non-null   object\n",
            " 3   CompetitionDistance  1115 non-null   int64 \n",
            " 4   Promo2               1115 non-null   int64 \n",
            "dtypes: int64(3), object(2)\n",
            "memory usage: 43.7+ KB\n"
          ]
        }
      ],
      "source": [
        "#Now check again both dataset final view after cleaning process\n",
        "store_df_2.info()"
      ]
    },
    {
      "cell_type": "markdown",
      "metadata": {
        "id": "ClIxAz6JYcoD"
      },
      "source": [
        "Now as we clean all nan value and correct the data types,our given datasets are ready to analysed."
      ]
    },
    {
      "cell_type": "code",
      "execution_count": 96,
      "metadata": {
        "colab": {
          "base_uri": "https://localhost:8080/"
        },
        "id": "d5qrM31PjFc2",
        "outputId": "715ad588-020e-4426-edad-e23a2c28dcb1"
      },
      "outputs": [
        {
          "output_type": "stream",
          "name": "stdout",
          "text": [
            "                               index  Store  DayOfWeek        Date  Sales  \\\n",
            "0      1970-01-01 00:00:00.000000000      1          5  2015-07-31   5263   \n",
            "1      1970-01-01 00:00:00.000001115      1          4  2015-07-30   5020   \n",
            "2      1970-01-01 00:00:00.000002230      1          3  2015-07-29   4782   \n",
            "3      1970-01-01 00:00:00.000003345      1          2  2015-07-28   5011   \n",
            "4      1970-01-01 00:00:00.000004460      1          1  2015-07-27   6102   \n",
            "...                              ...    ...        ...         ...    ...   \n",
            "844333 1970-01-01 00:00:00.001009696    292          1  2013-01-07   9291   \n",
            "844334 1970-01-01 00:00:00.001011926    292          6  2013-01-05   2748   \n",
            "844335 1970-01-01 00:00:00.001013041    292          5  2013-01-04   4202   \n",
            "844336 1970-01-01 00:00:00.001014156    292          4  2013-01-03   4580   \n",
            "844337 1970-01-01 00:00:00.001015271    292          3  2013-01-02   5076   \n",
            "\n",
            "        Customers  Promo StateHoliday  SchoolHoliday  Year  Month  Day  \\\n",
            "0             555   True         None              1  1970      1    1   \n",
            "1             546   True         None              1  1970      1    1   \n",
            "2             523   True         None              1  1970      1    1   \n",
            "3             560   True         None              1  1970      1    1   \n",
            "4             612   True         None              1  1970      1    1   \n",
            "...           ...    ...          ...            ...   ...    ...  ...   \n",
            "844333       1002   True         None              0  1970      1    1   \n",
            "844334        340  False         None              0  1970      1    1   \n",
            "844335        560  False         None              1  1970      1    1   \n",
            "844336        662  False         None              1  1970      1    1   \n",
            "844337        672  False         None              1  1970      1    1   \n",
            "\n",
            "        WeekOfYear StoreType Assortment  CompetitionDistance  Promo2  \n",
            "0                1         c          a                 1270       0  \n",
            "1                1         c          a                 1270       0  \n",
            "2                1         c          a                 1270       0  \n",
            "3                1         c          a                 1270       0  \n",
            "4                1         c          a                 1270       0  \n",
            "...            ...       ...        ...                  ...     ...  \n",
            "844333           1         a          a                 1100       0  \n",
            "844334           1         a          a                 1100       0  \n",
            "844335           1         a          a                 1100       0  \n",
            "844336           1         a          a                 1100       0  \n",
            "844337           1         a          a                 1100       0  \n",
            "\n",
            "[844338 rows x 17 columns]\n"
          ]
        }
      ],
      "source": [
        "# Merge store_df_1 and store_df_2 on the \"Store\" column\n",
        "merged_store_df = pd.merge(store_df_1, store_df_2, on=\"Store\", how = \"inner\")\n",
        "# Print the merged dataset\n",
        "print(merged_store_df)"
      ]
    },
    {
      "cell_type": "markdown",
      "metadata": {
        "id": "dauF4eBmngu3"
      },
      "source": [
        "## 3. ***Data Wrangling***"
      ]
    },
    {
      "cell_type": "markdown",
      "metadata": {
        "id": "bKJF3rekwFvQ"
      },
      "source": [
        "### Data Wrangling Code"
      ]
    },
    {
      "cell_type": "code",
      "execution_count": 97,
      "metadata": {
        "colab": {
          "base_uri": "https://localhost:8080/"
        },
        "id": "2INWwiRFkZR9",
        "outputId": "ecf6748c-7787-4b97-906a-26a6de3fe29d"
      },
      "outputs": [
        {
          "output_type": "stream",
          "name": "stdout",
          "text": [
            "      Store     Sales\n",
            "261     262  19516842\n",
            "816     817  17057867\n",
            "561     562  16927322\n",
            "1113   1114  16202585\n",
            "250     251  14896870\n",
            "512     513  14252406\n",
            "787     788  14082141\n",
            "732     733  14067158\n",
            "382     383  13489879\n",
            "755     756  12911782\n"
          ]
        }
      ],
      "source": [
        "#problem statement-1.calculate top 10 the total sales of store\n",
        "# Group the data by store and calculate the total sales\n",
        "store_sales = merged_store_df.groupby('Store')['Sales'].sum().reset_index()\n",
        "\n",
        "# Sort the stores based on sales in descending order\n",
        "store_sales_sorted = store_sales.sort_values('Sales', ascending=False)\n",
        "\n",
        "# Get the top 10 stores with the highest sales\n",
        "top_10_stores = store_sales_sorted.head(10)\n",
        "\n",
        "# Print the top 10 stores with their respective sales\n",
        "print(top_10_stores)\n"
      ]
    },
    {
      "cell_type": "code",
      "execution_count": 98,
      "metadata": {
        "colab": {
          "base_uri": "https://localhost:8080/"
        },
        "id": "a-OCMjgmgxG8",
        "outputId": "52d5c9a3-409b-48e2-a6d0-43ccca4c1c18"
      },
      "outputs": [
        {
          "output_type": "stream",
          "name": "stdout",
          "text": [
            "StoreType\n",
            "a    3165334859\n",
            "d    1765392943\n",
            "c     783221426\n",
            "b     159231395\n",
            "Name: Sales, dtype: int64\n"
          ]
        }
      ],
      "source": [
        "#problem statement-2.which storetype has highest sales\n",
        "# Group the data by store and calculate the total sales for each store\n",
        "sales_by_store = merged_store_df.groupby('StoreType')['Sales'].sum()\n",
        "\n",
        "# Sort the sales in descending order and get the top 10 stores\n",
        "store = sales_by_store.sort_values(ascending=False).head(10)\n",
        "\n",
        "# Print the top 10 sales by store\n",
        "print(store)\n",
        "\n"
      ]
    },
    {
      "cell_type": "code",
      "execution_count": 99,
      "metadata": {
        "colab": {
          "base_uri": "https://localhost:8080/"
        },
        "id": "ZNhdlXIGewVj",
        "outputId": "43d1a6a0-6703-47f9-d2cc-94da87f21c92"
      },
      "outputs": [
        {
          "output_type": "stream",
          "name": "stdout",
          "text": [
            "StateHoliday\n",
            "Christmas         32169\n",
            "Easter holiday    38722\n",
            "None              41551\n",
            "public holiday    38484\n",
            "Name: Sales, dtype: int64\n"
          ]
        }
      ],
      "source": [
        "#problem statement-3.find out highest sale on stateholiday\n",
        "# Assuming the 'StateHoliday' column and 'Sales' column are in a DataFrame\n",
        "max_sales_by_state_holiday = merged_store_df.groupby('StateHoliday')['Sales'].max()\n",
        "\n",
        "print(max_sales_by_state_holiday)\n"
      ]
    },
    {
      "cell_type": "code",
      "execution_count": 100,
      "metadata": {
        "colab": {
          "base_uri": "https://localhost:8080/"
        },
        "id": "Xm12YHVXme_2",
        "outputId": "9bb2428e-9c63-4cdb-c9f4-055cda60185a"
      },
      "outputs": [
        {
          "output_type": "stream",
          "name": "stdout",
          "text": [
            "        Store  Customers  Count\n",
            "325116    873        485     20\n",
            "136152    373        303     18\n",
            "192789    521        405     18\n",
            "166121    451        432     18\n",
            "295702    794        512     17\n",
            "102305    280        491     17\n",
            "223329    601        378     17\n",
            "94194     260        871     16\n",
            "164484    447        614     16\n",
            "261009    702        292     16\n",
            "121979    334        560     16\n",
            "124788    341        673     16\n",
            "58187     160        491     15\n",
            "155059    422        448     15\n",
            "343401    923        619     15\n"
          ]
        }
      ],
      "source": [
        "#problem statement-4.count the number of occurrences store and customer\n",
        "# Group the data by store and customer, then count the number of occurrences\n",
        "store_customer_counts = merged_store_df.groupby(['Store', 'Customers']).size().reset_index(name='Count')\n",
        "\n",
        "# Sort the customers based on the count of occurrences in descending order\n",
        "top_15_customers = store_customer_counts.sort_values('Count', ascending=False).head(15)\n",
        "\n",
        "# Print the top 15 customers with their respective counts\n",
        "print(top_15_customers)\n"
      ]
    },
    {
      "cell_type": "code",
      "execution_count": 101,
      "metadata": {
        "colab": {
          "base_uri": "https://localhost:8080/"
        },
        "id": "Z7Yp9WDTgpfV",
        "outputId": "2ef6ec5b-fe12-4659-e8a8-ad25c9590b45"
      },
      "outputs": [
        {
          "output_type": "stream",
          "name": "stdout",
          "text": [
            "Customer Distribution:\n",
            "8       1\n",
            "13      1\n",
            "18      1\n",
            "36      1\n",
            "40      1\n",
            "       ..\n",
            "5297    1\n",
            "5387    1\n",
            "5458    1\n",
            "5494    1\n",
            "7388    1\n",
            "Name: Customers, Length: 4083, dtype: int64\n",
            "\n",
            "Sales Distribution:\n",
            "46       1\n",
            "124      1\n",
            "133      1\n",
            "286      1\n",
            "297      1\n",
            "        ..\n",
            "38037    1\n",
            "38367    1\n",
            "38484    1\n",
            "38722    1\n",
            "41551    1\n",
            "Name: Sales, Length: 21733, dtype: int64\n"
          ]
        }
      ],
      "source": [
        "#problem statement-5.Customer Distribution vs Sales Distribution\n",
        "customer_distribution = merged_store_df['Customers'].value_counts().sort_index()\n",
        "\n",
        "# Calculate Sales Distribution\n",
        "sales_distribution = merged_store_df['Sales'].value_counts().sort_index()\n",
        "\n",
        "# Print the distributions\n",
        "print(\"Customer Distribution:\")\n",
        "print(customer_distribution)\n",
        "print(\"\\nSales Distribution:\")\n",
        "print(sales_distribution)"
      ]
    },
    {
      "cell_type": "code",
      "execution_count": 102,
      "metadata": {
        "colab": {
          "base_uri": "https://localhost:8080/"
        },
        "id": "X32b5X6clWit",
        "outputId": "6c16efed-8d22-4937-9677-7bc221f2ae7b"
      },
      "outputs": [
        {
          "output_type": "stream",
          "name": "stdout",
          "text": [
            "Customers in distance range 0-1000: 250931\n",
            "Customers in distance range 1001-5000: 328892\n",
            "Customers in distance range 5001-10000: 121910\n",
            "Customers in distance range 10001-30000: 127157\n",
            "Customers in distance range 30001-inf: 15448\n",
            "\n",
            "Preferred Distance Range:\n",
            "1001 - 5000\n"
          ]
        }
      ],
      "source": [
        "#problem statement-6.Number Of Customers perfered Competition Distance\n",
        "# Define the distance ranges\n",
        "distance_ranges = [(0, 1000), (1001, 5000), (5001, 10000), (10001, 30000), (30001, float('inf'))]\n",
        "\n",
        "# Calculate the number of customers for each distance range\n",
        "customer_counts = []\n",
        "for start, end in distance_ranges:\n",
        "    count = merged_store_df[(merged_store_df['CompetitionDistance'] >= start) & (merged_store_df['CompetitionDistance'] <= end)]['Store'].count()\n",
        "    customer_counts.append(count)\n",
        "\n",
        "# Find the preferred distance range with the maximum number of customers\n",
        "preferred_distance_index = customer_counts.index(max(customer_counts))\n",
        "preferred_distance_range = distance_ranges[preferred_distance_index]\n",
        "\n",
        "# Print the number of customers for each distance range\n",
        "for i, distance_range in enumerate(distance_ranges):\n",
        "    start, end = distance_range\n",
        "    print(f\"Customers in distance range {start}-{end}: {customer_counts[i]}\")\n",
        "\n",
        "# Print the preferred distance range\n",
        "print(\"\\nPreferred Distance Range:\")\n",
        "print(f\"{preferred_distance_range[0]} - {preferred_distance_range[1]}\")"
      ]
    },
    {
      "cell_type": "code",
      "execution_count": 103,
      "metadata": {
        "colab": {
          "base_uri": "https://localhost:8080/"
        },
        "id": "PHcywrbCSF2H",
        "outputId": "118ad305-dfaf-4eed-fd21-2480612c9c12"
      },
      "outputs": [
        {
          "output_type": "stream",
          "name": "stdout",
          "text": [
            "        Store StateHoliday  Sales  DayOfWeek  Customers  Promo  SchoolHoliday  \\\n",
            "0           1         None   5263          5        555   True              1   \n",
            "1           1         None   5020          4        546   True              1   \n",
            "2           1         None   4782          3        523   True              1   \n",
            "3           1         None   5011          2        560   True              1   \n",
            "4           1         None   6102          1        612   True              1   \n",
            "...       ...          ...    ...        ...        ...    ...            ...   \n",
            "844333    292         None   9291          1       1002   True              0   \n",
            "844334    292         None   2748          6        340  False              0   \n",
            "844335    292         None   4202          5        560  False              1   \n",
            "844336    292         None   4580          4        662  False              1   \n",
            "844337    292         None   5076          3        672  False              1   \n",
            "\n",
            "        CompetitionDistance  Promo2  \n",
            "0                      1270       0  \n",
            "1                      1270       0  \n",
            "2                      1270       0  \n",
            "3                      1270       0  \n",
            "4                      1270       0  \n",
            "...                     ...     ...  \n",
            "844333                 1100       0  \n",
            "844334                 1100       0  \n",
            "844335                 1100       0  \n",
            "844336                 1100       0  \n",
            "844337                 1100       0  \n",
            "\n",
            "[844338 rows x 9 columns]\n"
          ]
        }
      ],
      "source": [
        "#problem statement-7.Explore the relation correlation\n",
        "# Select the columns for correlation\n",
        "selected_columns = ['Store', 'StateHoliday', 'Sales','DayOfWeek','Customers','Promo','SchoolHoliday','CompetitionDistance','Promo2']\n",
        "\n",
        "# Create a subset DataFrame with the selected columns\n",
        "selected_df = merged_store_df[selected_columns]\n",
        "\n",
        "# Print the correlation matrix\n",
        "print(selected_df)"
      ]
    },
    {
      "cell_type": "markdown",
      "metadata": {
        "id": "MSa1f5Uengrz"
      },
      "source": [
        "### What all manipulations have you done and insights you found?"
      ]
    },
    {
      "cell_type": "markdown",
      "metadata": {
        "id": "LbyXE7I1olp8"
      },
      "source": [
        "we use different methods and functions like count_value,reset_index,len(),groupby etc By conducting these analyses and exploring the dataset, we gain valuable insights into the sales patterns, store performance, customer behavior, and correlations within the dataset.for organising our cleaned data and get the disered result according to problem statement.we have discussed more about particular insight according to problem statements in data visualization"
      ]
    },
    {
      "cell_type": "markdown",
      "metadata": {
        "id": "GF8Ens_Soomf"
      },
      "source": [
        "## ***4. Data Vizualization, Storytelling & Experimenting with charts : Understand the relationships between variables***"
      ]
    },
    {
      "cell_type": "markdown",
      "metadata": {
        "id": "0wOQAZs5pc--"
      },
      "source": [
        "#### Chart - 1"
      ]
    },
    {
      "cell_type": "code",
      "execution_count": 104,
      "metadata": {
        "colab": {
          "base_uri": "https://localhost:8080/",
          "height": 0
        },
        "id": "7v_ESjsspbW7",
        "outputId": "e851ee83-82c8-4b82-fe3e-a0b94afb334c"
      },
      "outputs": [
        {
          "output_type": "display_data",
          "data": {
            "text/plain": [
              "<Figure size 1200x600 with 1 Axes>"
            ],
            "image/png": "[encoded data removed]"
          },
          "metadata": {}
        }
      ],
      "source": [
        "# Chart - 1 visualization code\n",
        "# Plot the top 10 stores with their sales\n",
        "# Create a bar plot to visualize the top 10 stores with their sales\n",
        "plt.figure(figsize=(12, 6))\n",
        "sns.barplot(x='Store', y='Sales', data=top_10_stores, palette='viridis')\n",
        "plt.xlabel('Store')\n",
        "plt.ylabel('Sales')\n",
        "plt.title('Top 10 Stores with Highest Sales')\n",
        "plt.xticks(rotation=45)\n",
        "plt.show()\n",
        "\n"
      ]
    },
    {
      "cell_type": "markdown",
      "metadata": {
        "id": "K5QZ13OEpz2H"
      },
      "source": [
        "##### 1. Why did you pick the specific chart?"
      ]
    },
    {
      "cell_type": "markdown",
      "metadata": {
        "id": "XESiWehPqBRc"
      },
      "source": [
        "Answer Here.\n",
        "The specific chart chosen for visualizing the top 10 stores with their sales is a bar plot. The decision to use a bar plot instead of a countplot was based on the nature of the data.\n",
        "\n",
        "**Comparison of Values:** The goal is to compare the sales values of different stores, specifically the top 10 stores with the highest sales. A bar plot is ideal for this purpose as it allows easy visual comparison of the sales values represented by the height of the bars.\n",
        "\n",
        "**Numerical Data Representation:** The sales values are quantitative data, and a bar plot effectively represents these values on the y-axis using bars of varying lengths. Each bar corresponds to a specific store, making it easy to understand the relative sales performance of each store.\n",
        "\n",
        "**Clear and Concise Presentation:** A bar plot provides a clear and concise visual representation of the sales data, enabling quick identification of the top-performing stores.\n"
      ]
    },
    {
      "cell_type": "markdown",
      "metadata": {
        "id": "lQ7QKXXCp7Bj"
      },
      "source": [
        "##### 2. What is/are the insight(s) found from the chart?"
      ]
    },
    {
      "cell_type": "markdown",
      "metadata": {
        "id": "C_j1G7yiqdRP"
      },
      "source": [
        "Answer Here\n",
        "\n",
        "**Identification of Top-Performing Stores:** The chart clearly displays the top 10 stores with the highest sales. The stores represented by the tallest bars are the ones with the highest sales values, indicating their superior performance compared to the other stores.\n",
        "\n",
        "**Sales Disparity:** The bar plot demonstrates that there is a significant difference in sales between the top-performing stores and the rest. The height of the bars gradually decreases as we move down the chart, indicating a decline in sales for the lower-ranked stores.\n",
        "\n",
        "**Sales Comparison:** The visual comparison of sales values across the top 10 stores allows for a quick understanding of their relative performance. It becomes evident which stores have notably higher or lower sales when comparing the heights of their respective bars.\n",
        "\n",
        "**Potential Insights into Store Success Factors:** By analyzing the chart, patterns or trends may emerge that can provide insights into the factors contributing to the success of the top-performing stores. For example, specific store locations, marketing strategies, or customer demographics could be influencing their higher sales figures.\n",
        "\n"
      ]
    },
    {
      "cell_type": "markdown",
      "metadata": {
        "id": "448CDAPjqfQr"
      },
      "source": [
        "##### 3. Will the gained insights help creating a positive business impact?\n",
        "Are there any insights that lead to negative growth? Justify with specific reason."
      ]
    },
    {
      "cell_type": "markdown",
      "metadata": {
        "id": "3cspy4FjqxJW"
      },
      "source": [
        "Answer Here\n",
        "\n",
        "Positive Business Impact:\n",
        "\n",
        "**Store Performance Optimization:** By identifying the top-performing stores, businesses can study their strategies, operations, and customer engagement techniques. They can then replicate successful practices in other stores to drive higher sales and overall business performance.\n",
        "\n",
        "**Goal Setting and Benchmarking:** The insights derived from the top-performing stores can set realistic sales goals for other stores. It provides a benchmark for comparison and enables businesses to track progress and identify areas for improvement. This, in turn, can motivate teams to strive for higher sales and improve overall business performance.\n",
        "\n",
        "There aslo a negative growth insights in the last , it is possible that certain stores in the bottom or middle ranks may exhibit lower sales compared to the top-performing stores. However, it is important to approach these insights with caution and consider the underlying factors contributing to the lower sales. Negative growth may not be solely attributed to store performance but could be influenced by factors such as location, competition, or market conditions."
      ]
    },
    {
      "cell_type": "markdown",
      "metadata": {
        "id": "KSlN3yHqYklG"
      },
      "source": [
        "#### Chart - 2"
      ]
    },
    {
      "cell_type": "code",
      "execution_count": 105,
      "metadata": {
        "colab": {
          "base_uri": "https://localhost:8080/",
          "height": 0
        },
        "id": "R4YgtaqtYklH",
        "outputId": "ef3ad1d2-2a0c-4504-968a-a53ee1a953ad"
      },
      "outputs": [
        {
          "output_type": "display_data",
          "data": {
            "text/plain": [
              "<Figure size 640x480 with 1 Axes>"
            ],
            "image/png": "[encoded data removed]"
          },
          "metadata": {}
        }
      ],
      "source": [
        "# Chart - 2 visualization code\n",
        "# Create a pie chart\n",
        "plt.pie(store, labels=store.index, autopct='%1.1f%%')\n",
        "\n",
        "# Add a title\n",
        "plt.title('Sales by StoreType')\n",
        "\n",
        "# Display the pie chart\n",
        "plt.show()\n"
      ]
    },
    {
      "cell_type": "markdown",
      "metadata": {
        "id": "t6dVpIINYklI"
      },
      "source": [
        "##### 1. Why did you pick the specific chart?"
      ]
    },
    {
      "cell_type": "markdown",
      "metadata": {
        "id": "2aJlwR0ptETD"
      },
      "source": [
        "Firstly, the pie chart effectively highlights the proportions and percentages of sales contributed by each store type. By representing each store type as a slice of the pie, the chart visually displays the relative contribution of each store type to the total sales of the stores. Additionally, the limited number of categories in this case (i.e., a,b.c,d) makes the pie chart a suitable choice, as it avoids overcrowding and ensures clear interpretation. The labeling of each store type alongside its corresponding slice facilitates easy identification and association of store types with their respective sales proportions."
      ]
    },
    {
      "cell_type": "markdown",
      "metadata": {
        "id": "ijmpgYnKYklI"
      },
      "source": [
        "##### 2. What is/are the insight(s) found from the chart?"
      ]
    },
    {
      "cell_type": "markdown",
      "metadata": {
        "id": "PSx9atu2YklI"
      },
      "source": [
        "prominent insight is that Store Type A has the highest sales among the top stores, accounting for 53.9% of the total sales. This indicates that Store Type A is a significant contributor to the overall sales performance. Additionally, the chart reveals that Store Type D and Store Type C also make substantial contributions to the top sales, with 30.1% and 13.3% respectively. On the other hand, Store Type B has a relatively smaller share of sales at 2.7%. These insights suggest that Store Types A, D, and C play a vital role in driving the overall sales for the analyzed dataset, while Store Type B lags behind in terms of sales performance among the top stores. This information can guide strategic decision-making and resource allocation for maximizing sales in different store types."
      ]
    },
    {
      "cell_type": "markdown",
      "metadata": {
        "id": "-JiQyfWJYklI"
      },
      "source": [
        "##### 3. Will the gained insights help creating a positive business impact?\n",
        "Are there any insights that lead to negative growth? Justify with specific reason."
      ]
    },
    {
      "cell_type": "markdown",
      "metadata": {
        "id": "BcBbebzrYklV"
      },
      "source": [
        "while the insight about Store Type A's high sales offers a positive impact, the insight about Store Type B's relatively lower sales indicates an area for improvement and potential negative growth. By leveraging the positive insights and addressing the negative growth factors, businesses can strive to maximize sales and overall business performance."
      ]
    },
    {
      "cell_type": "markdown",
      "metadata": {
        "id": "EM7whBJCYoAo"
      },
      "source": [
        "#### Chart - 3"
      ]
    },
    {
      "cell_type": "code",
      "execution_count": 106,
      "metadata": {
        "colab": {
          "base_uri": "https://localhost:8080/",
          "height": 0
        },
        "id": "t6GMdE67YoAp",
        "outputId": "febf4299-6aa8-4a4e-f92d-13ca31615c28"
      },
      "outputs": [
        {
          "output_type": "display_data",
          "data": {
            "text/plain": [
              "<Figure size 1000x600 with 1 Axes>"
            ],
            "image/png": "[encoded data removed]"
          },
          "metadata": {}
        }
      ],
      "source": [
        "# Chart - 3 visualization code\n",
        "#max_sales_by_state_holiday is a Series containing the maximum sales values for each state holiday\n",
        "state_holidays = max_sales_by_state_holiday.index\n",
        "sales_values = max_sales_by_state_holiday.values\n",
        "\n",
        "# Create a point plot using Seaborn\n",
        "plt.figure(figsize=(10, 6))\n",
        "sns.pointplot(x=state_holidays, y=sales_values)\n",
        "\n",
        "\n",
        "# Set labels and title\n",
        "plt.xlabel('State Holiday')\n",
        "plt.ylabel('Sales')\n",
        "plt.title('Highest Sale on State Holidays')\n",
        "\n",
        "# Rotate x-axis labels if needed\n",
        "plt.xticks(rotation=45)\n",
        "\n",
        "# Display the point plot\n",
        "plt.show()\n"
      ]
    },
    {
      "cell_type": "markdown",
      "metadata": {
        "id": "fge-S5ZAYoAp"
      },
      "source": [
        "##### 1. Why did you pick the specific chart?"
      ]
    },
    {
      "cell_type": "markdown",
      "metadata": {
        "id": "5dBItgRVYoAp"
      },
      "source": [
        "\n",
        "The specific chart chosen, a scatter plot, was selected to visualize the highest sale on state holidays due to its ability to show the relationship between two variables - the state holidays and the corresponding sales values. Here's why the scatter plot was chosen:\n",
        "\n",
        "Variable Relationship: The scatter plot is effective for displaying the relationship or correlation between two variables. In this case, we are interested in understanding how the sales values vary across different state holidays. The scatter plot allows us to examine the distribution and patterns of sales values for each state holiday.\n",
        "\n",
        "Data Points Representation: Each data point in the scatter plot represents a specific state holiday and its corresponding highest sales value. This representation enables us to observe individual data points and identify any outliers or distinct patterns related to specific holidays."
      ]
    },
    {
      "cell_type": "markdown",
      "metadata": {
        "id": "85gYPyotYoAp"
      },
      "source": [
        "##### 2. What is/are the insight(s) found from the chart?"
      ]
    },
    {
      "cell_type": "markdown",
      "metadata": {
        "id": "4jstXR6OYoAp"
      },
      "source": [
        "Sales on Specific State Holidays: By comparing the sales values for specific state holidays, we can observe that the highest sales value among the observed state holidays is associated with the \"None\" category (41551). This is followed by Easter holiday (38722), public holiday (38484), and Christmas (32169).\n",
        "\n",
        "Among the observed state holidays, the highest sales value is associated with the state holiday \"None,\" indicating that the absence of a specific state holiday corresponds to higher sales. This insight suggests that normal business days without any specific state holiday tend to generate higher sales compared to holidays like Christmas, Easter holiday, or public holidays"
      ]
    },
    {
      "cell_type": "markdown",
      "metadata": {
        "id": "RoGjAbkUYoAp"
      },
      "source": [
        "##### 3. Will the gained insights help creating a positive business impact?\n",
        "Are there any insights that lead to negative growth? Justify with specific reason."
      ]
    },
    {
      "cell_type": "markdown",
      "metadata": {
        "id": "zfJ8IqMcYoAp"
      },
      "source": [
        "positive business impact by informing strategic decision-making and optimizing business operations Understanding the sales performance on different state holidays provides valuable information for businesses to optimize their strategies and drive positive growth. By analyzing the highest sales values for each state holiday, businesses can identify opportunities to capitalize on high-performing days and tailor their marketing efforts, promotions, and resource allocation accordingly. For example, noticing that \"None\" (normal business days) has the highest sales suggests that businesses should focus on maximizing sales during regular days rather than solely relying on specific state holidays. This insight allows businesses to develop targeted marketing campaigns, optimize staffing levels, and ensure sufficient inventory availability to leverage the potential for increased sales during regular business days."
      ]
    },
    {
      "cell_type": "markdown",
      "metadata": {
        "id": "4Of9eVA-YrdM"
      },
      "source": [
        "#### Chart - 4"
      ]
    },
    {
      "cell_type": "code",
      "execution_count": 107,
      "metadata": {
        "colab": {
          "base_uri": "https://localhost:8080/",
          "height": 0
        },
        "id": "irlUoxc8YrdO",
        "outputId": "dc26a152-131c-49de-9a1b-4dd11a4a35e4"
      },
      "outputs": [
        {
          "output_type": "display_data",
          "data": {
            "text/plain": [
              "<Figure size 1200x600 with 2 Axes>"
            ],
            "image/png": "[encoded data removed]"
          },
          "metadata": {}
        }
      ],
      "source": [
        "# Chart - 4 visualization\n",
        "# Create subplots with a point plot and a pie chart\n",
        "# Create a figure with two subplots\n",
        "fig, axs = plt.subplots(1, 2, figsize=(12, 6))\n",
        "\n",
        "# Subplot 1: Point Plot\n",
        "axs[0].set_title('Top 15 Customers and their Occurrence Count by Store (Point Plot)')\n",
        "sns.pointplot(x='Customers', y='Count', hue='Store', data=top_15_customers, ax=axs[0])\n",
        "axs[0].set_xlabel('Customers')\n",
        "axs[0].set_ylabel('Occurrence Count')\n",
        "\n",
        "# Subplot 2: Pie Chart\n",
        "axs[1].set_title('Occurrence Count of Top 15 Customers by Store (Pie Chart)')\n",
        "axs[1].pie(top_15_customers['Count'], labels=top_15_customers['Store'], autopct='%1.1f%%')\n",
        "\n",
        "# Adjust spacing between subplots\n",
        "plt.tight_layout()\n",
        "\n",
        "# Display the figure\n",
        "plt.show()\n"
      ]
    },
    {
      "cell_type": "markdown",
      "metadata": {
        "id": "iky9q4vBYrdO"
      },
      "source": [
        "##### 1. Why did you pick the specific chart?"
      ]
    },
    {
      "cell_type": "markdown",
      "metadata": {
        "id": "y-v1UE-9HbXj"
      },
      "source": [
        "specific charts chosen, a point plot and a pie chart, were selected to visualize the occurrence count of customers in the top 15 customers along with their respective stores.\n",
        "\n",
        "By utilizing the point plot and pie chart,\n",
        "\n",
        "Point Plot:\n",
        "Relationship Representation: The point plot effectively represents the relationship between customers, their occurrence count, and the corresponding stores. It displays the distribution of occurrence counts for each customer and allows for comparison across different stores.\n",
        "\n",
        "Grouping by Store: The ability to use the 'hue' parameter in the point plot allows for grouping the data points by store, providing additional insights into the occurrence count of customers within each store.\n",
        "\n",
        "\n",
        "Pie Chart:\n",
        "Proportional Representation: The pie chart is well-suited for representing the occurrence count of customers in the top 15 customers by store as it effectively showcases the proportions of each store's contribution to the total count.\n",
        "\n",
        "Emphasizing Store Distribution: The pie chart highlights the distribution of occurrence counts among the stores, allowing for a quick understanding of the relative importance of each store in terms of customer occurrences."
      ]
    },
    {
      "cell_type": "markdown",
      "metadata": {
        "id": "F6T5p64dYrdO"
      },
      "source": [
        "##### 2. What is/are the insight(s) found from the chart?"
      ]
    },
    {
      "cell_type": "markdown",
      "metadata": {
        "id": "Xx8WAJvtYrdO"
      },
      "source": [
        "By utilizing the point plot and pie chart, businesses can gain insights into the occurrence count of customers and identify patterns or differences in customer distribution across different stores The visualizations highlight that Store 873 has the highest occurrence count of customers, representing approximately 8% of the total occurrence count. This indicates that Store 873 has a significant customer base compared to the other stores in the top 15. Store 521, 451, and 373 also have notable customer occurrences, accounting for approximately 7.2% each."
      ]
    },
    {
      "cell_type": "markdown",
      "metadata": {
        "id": "jRD1d0ecIxbx"
      },
      "source": []
    },
    {
      "cell_type": "markdown",
      "metadata": {
        "id": "y-Ehk30pYrdP"
      },
      "source": [
        "##### 3. Will the gained insights help creating a positive business impact?\n",
        "\n",
        "Are there any insights that lead to negative growth? Justify with specific reason."
      ]
    },
    {
      "cell_type": "markdown",
      "metadata": {
        "id": "jLNxxz7MYrdP"
      },
      "source": [
        "The insights obtained can contribute to a positive business impact by enabling businesses to make informed decisions and implement effective strategies. Understanding the stores with the highest customer occurrences allows businesses to focus their efforts on these stores and allocate resources accordingly. By targeting these stores, businesses can improve customer engagement, enhance customer satisfaction, and drive sales growth."
      ]
    },
    {
      "cell_type": "markdown",
      "metadata": {
        "id": "bamQiAODYuh1"
      },
      "source": [
        "#### Chart - 5"
      ]
    },
    {
      "cell_type": "code",
      "execution_count": 108,
      "metadata": {
        "colab": {
          "base_uri": "https://localhost:8080/",
          "height": 0
        },
        "id": "8DvvRJQ8NdSw",
        "outputId": "6244f380-c697-4a3a-b04c-8ffcf9aaa1e6"
      },
      "outputs": [
        {
          "output_type": "display_data",
          "data": {
            "text/plain": [
              "<Figure size 640x480 with 1 Axes>"
            ],
            "image/png": "[encoded data removed]"
          },
          "metadata": {}
        }
      ],
      "source": [
        "## Chart - 5 visualization code\n",
        "#Customer Distribution vs Sales Distribution\n",
        "# Create a line plot\n",
        "\n",
        "sns.lineplot(x='Customers', y='Sales', data =merged_store_df)\n",
        "\n",
        "# Set labels and title\n",
        "plt.xlabel('Customers')\n",
        "plt.ylabel('Sales Distribution')\n",
        "plt.title('Customer vs. Sales Distribution')\n",
        "\n",
        "# Display the line plot\n",
        "plt.show()"
      ]
    },
    {
      "cell_type": "markdown",
      "metadata": {
        "id": "QHF8YVU7Yuh3"
      },
      "source": [
        "##### 1. Why did you pick the specific chart?"
      ]
    },
    {
      "cell_type": "markdown",
      "metadata": {
        "id": "dcxuIMRPYuh3"
      },
      "source": [
        "The line plot, was selected to visualize the relationship between the number of customers distribution vs the sales distribution\n",
        "\n",
        "The line plot effectively represents the relationship between the number of customers and the average sales. It shows the trend or pattern of how the average sales change with respect to the number of customers.\n",
        "\n",
        "The line plot allows for the comparison of average sales across different numbers of customers within a single plot. This enables businesses to identify any notable variations or trends in sales performance as the customer base expands or contracts."
      ]
    },
    {
      "cell_type": "markdown",
      "metadata": {
        "id": "GwzvFGzlYuh3"
      },
      "source": [
        "##### 2. What is/are the insight(s) found from the chart?"
      ]
    },
    {
      "cell_type": "markdown",
      "metadata": {
        "id": "uyqkiB8YYuh3"
      },
      "source": [
        "The insight found from the line plot is that there is a concentration of customers in the range of 3000 to 5500, which is associated with higher sales. This observation suggests that having a customer base within this range tends to result in higher average sales.\n",
        "\n",
        "By examining the line plot, businesses can identify this particular range of customer distribution as a potential target segment. They can focus their marketing efforts, customer retention strategies, and resource allocation towards acquiring and retaining customers within this range. Understanding this relationship can help businesses optimize their sales strategies and tailor their offerings to cater to the needs and preferences of customers within this range, potentially leading to increased sales and profitability."
      ]
    },
    {
      "cell_type": "markdown",
      "metadata": {
        "id": "qYpmQ266Yuh3"
      },
      "source": [
        "##### 3. Will the gained insights help creating a positive business impact?\n",
        "Are there any insights that lead to negative growth? Justify with specific reason."
      ]
    },
    {
      "cell_type": "markdown",
      "metadata": {
        "id": "_WtzZ_hCYuh4"
      },
      "source": [
        " By recognizing the customer distribution range that correlates with higher sales, businesses can tailor their marketing efforts to attract and engage customers within this range. This targeted marketing approach can lead to more effective campaigns, increased customer acquisition, and improved sales performance."
      ]
    },
    {
      "cell_type": "markdown",
      "metadata": {
        "id": "OH-pJp9IphqM"
      },
      "source": [
        "#### Chart - 6:"
      ]
    },
    {
      "cell_type": "code",
      "execution_count": 109,
      "metadata": {
        "colab": {
          "base_uri": "https://localhost:8080/",
          "height": 0
        },
        "id": "kuRf4wtuphqN",
        "outputId": "a087db78-a625-49ff-e8da-c8a5261b020f"
      },
      "outputs": [
        {
          "output_type": "display_data",
          "data": {
            "text/plain": [
              "<Figure size 600x600 with 3 Axes>"
            ],
            "image/png": "[encoded data removed]"
          },
          "metadata": {}
        }
      ],
      "source": [
        "# Chart - 6 visualization code\n",
        "# Create a joint plot\n",
        "sns.jointplot(x='CompetitionDistance', y='Customers', data=merged_store_df, kind='scatter')\n",
        "\n",
        "# Set labels and title\n",
        "plt.xlabel('Competition Distance')\n",
        "plt.ylabel('Number of Customers')\n",
        "plt.suptitle('Number of Customers vs. Preferred Competition Distance')\n",
        "\n",
        "# Display the joint plot\n",
        "plt.show()"
      ]
    },
    {
      "cell_type": "markdown",
      "metadata": {
        "id": "bbFf2-_FphqN"
      },
      "source": [
        "##### 1. Why did you pick the specific chart?"
      ]
    },
    {
      "cell_type": "markdown",
      "metadata": {
        "id": "loh7H2nzphqN"
      },
      "source": [
        "The joint plot effectively represents the relationship between the number of customers and the preferred competition distance. It displays a scatter plot to show the individual data points and their distribution along each axis.\n",
        "\n",
        " The joint plot includes a correlation coefficient and a p-value to quantify the strength and statistical significance of the relationship between the two variables. This helps in understanding the degree of association between the number of customers and the preferred competition distance."
      ]
    },
    {
      "cell_type": "markdown",
      "metadata": {
        "id": "_ouA3fa0phqN"
      },
      "source": [
        "##### 2. What is/are the insight(s) found from the chart?"
      ]
    },
    {
      "cell_type": "markdown",
      "metadata": {
        "id": "VECbqPI7phqN"
      },
      "source": [
        "The insight found from the chart is that the majority of customers prefer competition distances in the range of 1001 to 5000. This range has the highest number of customers, with a count of 328,892. On the other hand, the distance range of 30001 and above has the fewest customers, with a count of 15,448.\n",
        "\n",
        "This information provides valuable insights into customer preferences regarding competition distance. It suggests that customers are more inclined to choose stores that are within a moderate distance from their preferred competition. Businesses can leverage this insight to strategically position their stores and adjust their competition distance to align with customer preferences. By focusing on locations within the preferred distance range, businesses can potentially attract more customers and increase footfall to their stores."
      ]
    },
    {
      "cell_type": "markdown",
      "metadata": {
        "id": "Seke61FWphqN"
      },
      "source": [
        "##### 3. Will the gained insights help creating a positive business impact?\n",
        "Are there any insights that lead to negative growth? Justify with specific reason."
      ]
    },
    {
      "cell_type": "markdown",
      "metadata": {
        "id": "DW4_bGpfphqN"
      },
      "source": [
        "Positive Business Impact:\n",
        "\n",
        "\n",
        " Businesses can strategically position their stores or plan expansion efforts by considering the preferred competition distance range. By opening new stores or relocating existing ones within the preferred range, businesses can maximize their visibility, accessibility, and customer reach. This can lead to increased foot traffic, sales, and overall business growth.\n",
        "\n",
        " Knowing the customer preferences for competition distance enables businesses to provide a better customer experience. This enhances customer satisfaction, fosters loyalty, and increases the likelihood of repeat business.\n",
        "\n",
        "\n",
        "The gained insights do not necessarily lead to negative growth. However, there is a potential for negative impact if businesses solely focus on the preferred competition distance range without considering other factors"
      ]
    },
    {
      "cell_type": "markdown",
      "metadata": {
        "id": "NC_X3p0fY2L0"
      },
      "source": [
        "#### Chart - 7 - Correlation Heatmap"
      ]
    },
    {
      "cell_type": "code",
      "execution_count": 110,
      "metadata": {
        "colab": {
          "base_uri": "https://localhost:8080/",
          "height": 0
        },
        "id": "xyC9zolEZNRQ",
        "outputId": "15c6257b-2e4d-4262-f99a-63981985b0d5"
      },
      "outputs": [
        {
          "output_type": "display_data",
          "data": {
            "text/plain": [
              "<Figure size 1000x500 with 2 Axes>"
            ],
            "image/png": "[encoded data removed]"
          },
          "metadata": {}
        }
      ],
      "source": [
        "# Correlation Heatmap visualization code\n",
        "# Create a heatmap of the correlation matrix\n",
        "plt.figure(figsize=(10,5))\n",
        "\n",
        "sns.heatmap(selected_df.corr(), annot=True, cmap='coolwarm')\n",
        "\n",
        "# Set the title\n",
        "plt.title('Correlation Matrix')\n",
        "\n",
        "# Display the correlation matrix heatmap\n",
        "plt.show()"
      ]
    },
    {
      "cell_type": "markdown",
      "metadata": {
        "id": "UV0SzAkaZNRQ"
      },
      "source": [
        "##### 1. Why did you pick the specific chart?"
      ]
    },
    {
      "cell_type": "markdown",
      "metadata": {
        "id": "DVPuT8LYZNRQ"
      },
      "source": [
        "Representation of Correlation: The heatmap provides an effective and intuitive representation of the correlation between variables. It uses colors to visually depict the strength and direction of the correlations, making it easier to interpret the relationships between variables.\n",
        "The correlation matrix heatmap allows us to examine the correlations between multiple columns simultaneously. It condenses the correlation information into a single chart, making it efficient for quick comparisons and identifying patterns."
      ]
    },
    {
      "cell_type": "markdown",
      "metadata": {
        "id": "22aHeOlLveiV"
      },
      "source": [
        "##### 2. What is/are the insight(s) found from the chart?"
      ]
    },
    {
      "cell_type": "markdown",
      "metadata": {
        "id": "uPQ8RGwHveiV"
      },
      "source": [
        "Strong Positive Correlation: The heatmap shows a strong positive correlation of 0.82 between 'Sales' and 'Customers.' This indicates that there is a significant positive relationship between the number of sales and the number of customers visiting the store. As one variable increases, the other also tends to increase, and vice versa. This insight suggests that higher customer footfall is associated with increased sales, which is an expected and positive finding for any business.\n",
        "\n",
        "Moderate Positive Correlation: The heatmap also reveals a moderate positive correlation of 0.37 between 'Promo' and 'Sales.' This indicates that there is a positive relationship between promotional activities and sales. When promotions are run, there is a tendency for sales to increase. However, the correlation is not as strong as that between 'Sales' and 'Customers.' It suggests that while promotions can have a positive impact on sales, other factors also play a role in determining sales performance.\n",
        "\n"
      ]
    },
    {
      "cell_type": "markdown",
      "metadata": {
        "id": "psIU7EtCSAJ7"
      },
      "source": [
        "3. Will the gained insights help creating a positive business impact?\n",
        "Are there any insights that lead to negative growth? Justify with specific reason."
      ]
    },
    {
      "cell_type": "markdown",
      "metadata": {
        "id": "V17Lh43eVK6G"
      },
      "source": [
        "The strong positive correlation between 'Sales' and 'Customers' highlights the significance of customer attraction and retention. Businesses can focus on improving customer experience, implementing loyalty programs, and personalized marketing to enhance customer satisfaction and loyalty. Satisfied and loyal customers are more likely to make repeat purchases, leading to increased sales and positive business impact.\n",
        "\n",
        "While the specific negative correlations were not mentioned in the previous insights, if there are negative correlations between certain variables, it could imply that changes in one variable might lead to a decrease in another. For instance, if there is a negative correlation between 'CompetitionDistance' and 'Sales,' it might indicate that as the competition distance increases, sales tend to decrease. This insight would alert businesses to potential challenges in highly competitive areas and may require them to adapt marketing strategies or explore new locations to sustain growth."
      ]
    },
    {
      "cell_type": "markdown",
      "metadata": {
        "id": "x-EpHcCOp1ci"
      },
      "source": [
        "#### Chart - 8 - pairplot"
      ]
    },
    {
      "cell_type": "code",
      "execution_count": null,
      "metadata": {
        "id": "AvJKhKYabZVS"
      },
      "outputs": [],
      "source": [
        "# Select the columns for the pair plot\n",
        "selected_columns = ['Sales', 'Customers', 'Open', 'Promo', 'CompetitionDistance']\n",
        "\n",
        "# Create a subset DataFrame with the selected columns\n",
        "selected_df = merged_store_df[selected_columns]\n",
        "\n",
        "# Create the pair plot\n",
        "sns.pairplot(selected_df)\n",
        "\n",
        "# Display the pair plot\n",
        "plt.show()"
      ]
    },
    {
      "cell_type": "markdown",
      "metadata": {
        "id": "E6MkPsBcp1cl"
      },
      "source": [
        "##### 1. Why did you pick the specific chart?"
      ]
    },
    {
      "cell_type": "markdown",
      "metadata": {
        "id": "V22bRsFWp1cl"
      },
      "source": [
        "The pair plot allows us to visualize the relationships between several quantitative variables simultaneously. It displays scatter plots for all possible combinations of the selected variables, providing a comprehensive view of how these variables interact with each other.\n",
        "\n",
        "Pattern Identification By examining the scatter plots, we can identify patterns such as linear relationships, clusters, or correlations between pairs of variables. This enables us to gain insights into the dependencies and associations among different variables in the dataset."
      ]
    },
    {
      "cell_type": "markdown",
      "metadata": {
        "id": "2cELzS2fp1cl"
      },
      "source": [
        "##### 2. What is/are the insight(s) found from the chart?"
      ]
    },
    {
      "cell_type": "markdown",
      "metadata": {
        "id": "ozQPc2_Ip1cl"
      },
      "source": [
        "Here are some general insights that could be derived from a pair plot:\n",
        "\n",
        "Correlation Between Sales and Customers: The scatter plot between 'Sales' and 'Customers' can reveal the overall relationship between the number of customers and sales. If the points form a relatively linear pattern, it indicates a positive correlation between these variables, suggesting that more customers generally lead to higher sales.\n",
        "\n",
        "Influence of Promotions on Sales: The scatter plot between 'Promo' and 'Sales' can provide insights into the impact of promotional activities on sales. If there is a cluster of points when promotions are active, it indicates that promotions tend to boost sales during those periods.\n",
        "\n",
        "Effect of Competition Distance on Sales: The scatter plot between 'CompetitionDistance' and 'Sales' can help understand the relationship between the proximity of competitors and sales performance. A pattern of points could show how sales vary with competition distance, indicating if there is any correlation between them.\n",
        "\n"
      ]
    },
    {
      "cell_type": "markdown",
      "metadata": {
        "id": "3MPXvC8up1cl"
      },
      "source": [
        "##### 3. Will the gained insights help creating a positive business impact?\n",
        "Are there any insights that lead to negative growth? Justify with specific reason."
      ]
    },
    {
      "cell_type": "markdown",
      "metadata": {
        "id": "GL8l1tdLp1cl"
      },
      "source": [
        "The gained insights from the pair plot analysis can potentially help create a positive business impact and also identify areas that may lead to negative growth. Here's how:\n",
        "\n",
        "Positive Business Impact:\n",
        "\n",
        " Understanding the positive correlation between 'Sales' and 'Customers' can drive customer-centric strategies. By focusing on customer attraction, retention, and satisfaction, businesses can foster loyalty and increase repeat purchases. Positive customer experiences can lead to positive word-of-mouth, referrals, and ultimately, increased sales.\n",
        "The insights from the relationship between 'Promo' and 'Sales' can help businesses design more effective promotional campaigns. Identifying periods when promotions lead to increased sales can inform the timing and types of promotions that resonate with customers, boosting sales during those specific periods.\n",
        "\n",
        "\n",
        "Negative Growth Insights:\n",
        "\n",
        "Identifying Inefficiencies: The pair plot may reveal negative correlations between certain variables, suggesting areas of inefficiency or potential negative impacts. For example, if there is a negative correlation between 'Sales' and 'Promo', it could indicate that certain promotions are not resonating with customers or that ineffective promotions are negatively affecting sales. Identifying such insights can prompt businesses to reevaluate their marketing strategies and optimize promotional activities.\n"
      ]
    },
    {
      "cell_type": "markdown",
      "metadata": {
        "id": "g-ATYxFrGrvw"
      },
      "source": [
        "## ***5. Hypothesis Testing***\n",
        "\n",
        "\n",
        "\n"
      ]
    },
    {
      "cell_type": "markdown",
      "metadata": {
        "id": "Yfr_Vlr8HBkt"
      },
      "source": [
        "### Based on your chart experiments, define three hypothetical statements from the dataset. In the next three questions, perform hypothesis testing to obtain final conclusion about the statements through your code and statistical testing."
      ]
    },
    {
      "cell_type": "markdown",
      "metadata": {
        "id": "-7MS06SUHkB-"
      },
      "source": [
        "Answer Here."
      ]
    },
    {
      "cell_type": "markdown",
      "metadata": {
        "id": "8yEUt7NnHlrM"
      },
      "source": [
        "### Hypothetical Statement - 1"
      ]
    },
    {
      "cell_type": "markdown",
      "metadata": {
        "id": "tEA2Xm5dHt1r"
      },
      "source": [
        "#### 1. State Your research hypothesis as a null hypothesis and alternate hypothesis."
      ]
    },
    {
      "cell_type": "markdown",
      "metadata": {
        "id": "HI9ZP0laH0D-"
      },
      "source": [
        "Answer Here."
      ]
    },
    {
      "cell_type": "markdown",
      "metadata": {
        "id": "I79__PHVH19G"
      },
      "source": [
        "#### 2. Perform an appropriate statistical test."
      ]
    },
    {
      "cell_type": "code",
      "execution_count": null,
      "metadata": {
        "id": "oZrfquKtyian"
      },
      "outputs": [],
      "source": [
        "# Perform Statistical Test to obtain P-Value"
      ]
    },
    {
      "cell_type": "markdown",
      "metadata": {
        "id": "Ou-I18pAyIpj"
      },
      "source": [
        "##### Which statistical test have you done to obtain P-Value?"
      ]
    },
    {
      "cell_type": "markdown",
      "metadata": {
        "id": "s2U0kk00ygSB"
      },
      "source": [
        "Answer Here."
      ]
    },
    {
      "cell_type": "markdown",
      "metadata": {
        "id": "fF3858GYyt-u"
      },
      "source": [
        "##### Why did you choose the specific statistical test?"
      ]
    },
    {
      "cell_type": "markdown",
      "metadata": {
        "id": "HO4K0gP5y3B4"
      },
      "source": [
        "Answer Here."
      ]
    },
    {
      "cell_type": "markdown",
      "metadata": {
        "id": "4_0_7-oCpUZd"
      },
      "source": [
        "### Hypothetical Statement - 2"
      ]
    },
    {
      "cell_type": "markdown",
      "metadata": {
        "id": "hwyV_J3ipUZe"
      },
      "source": [
        "#### 1. State Your research hypothesis as a null hypothesis and alternate hypothesis."
      ]
    },
    {
      "cell_type": "markdown",
      "metadata": {
        "id": "FnpLGJ-4pUZe"
      },
      "source": [
        "Answer Here."
      ]
    },
    {
      "cell_type": "markdown",
      "metadata": {
        "id": "3yB-zSqbpUZe"
      },
      "source": [
        "#### 2. Perform an appropriate statistical test."
      ]
    },
    {
      "cell_type": "code",
      "execution_count": null,
      "metadata": {
        "id": "sWxdNTXNpUZe"
      },
      "outputs": [],
      "source": [
        "# Perform Statistical Test to obtain P-Value"
      ]
    },
    {
      "cell_type": "markdown",
      "metadata": {
        "id": "dEUvejAfpUZe"
      },
      "source": [
        "##### Which statistical test have you done to obtain P-Value?"
      ]
    },
    {
      "cell_type": "markdown",
      "metadata": {
        "id": "oLDrPz7HpUZf"
      },
      "source": [
        "Answer Here."
      ]
    },
    {
      "cell_type": "markdown",
      "metadata": {
        "id": "Fd15vwWVpUZf"
      },
      "source": [
        "##### Why did you choose the specific statistical test?"
      ]
    },
    {
      "cell_type": "markdown",
      "metadata": {
        "id": "4xOGYyiBpUZf"
      },
      "source": [
        "Answer Here."
      ]
    },
    {
      "cell_type": "markdown",
      "metadata": {
        "id": "bn_IUdTipZyH"
      },
      "source": [
        "### Hypothetical Statement - 3"
      ]
    },
    {
      "cell_type": "markdown",
      "metadata": {
        "id": "49K5P_iCpZyH"
      },
      "source": [
        "#### 1. State Your research hypothesis as a null hypothesis and alternate hypothesis."
      ]
    },
    {
      "cell_type": "markdown",
      "metadata": {
        "id": "7gWI5rT9pZyH"
      },
      "source": [
        "Answer Here."
      ]
    },
    {
      "cell_type": "markdown",
      "metadata": {
        "id": "Nff-vKELpZyI"
      },
      "source": [
        "#### 2. Perform an appropriate statistical test."
      ]
    },
    {
      "cell_type": "code",
      "execution_count": null,
      "metadata": {
        "id": "s6AnJQjtpZyI"
      },
      "outputs": [],
      "source": [
        "# Perform Statistical Test to obtain P-Value"
      ]
    },
    {
      "cell_type": "markdown",
      "metadata": {
        "id": "kLW572S8pZyI"
      },
      "source": [
        "##### Which statistical test have you done to obtain P-Value?"
      ]
    },
    {
      "cell_type": "markdown",
      "metadata": {
        "id": "ytWJ8v15pZyI"
      },
      "source": [
        "Answer Here."
      ]
    },
    {
      "cell_type": "markdown",
      "metadata": {
        "id": "dWbDXHzopZyI"
      },
      "source": [
        "##### Why did you choose the specific statistical test?"
      ]
    },
    {
      "cell_type": "markdown",
      "metadata": {
        "id": "M99G98V6pZyI"
      },
      "source": [
        "Answer Here."
      ]
    },
    {
      "cell_type": "markdown",
      "metadata": {
        "id": "yLjJCtPM0KBk"
      },
      "source": [
        "## ***6. Feature Engineering & Data Pre-processing***"
      ]
    },
    {
      "cell_type": "markdown",
      "metadata": {
        "id": "xiyOF9F70UgQ"
      },
      "source": [
        "### 1. Handling Missing Values"
      ]
    },
    {
      "cell_type": "code",
      "execution_count": null,
      "metadata": {
        "id": "iRsAHk1K0fpS"
      },
      "outputs": [],
      "source": [
        "# Handling Missing Values & Missing Value Imputation"
      ]
    },
    {
      "cell_type": "markdown",
      "metadata": {
        "id": "7wuGOrhz0itI"
      },
      "source": [
        "#### What all missing value imputation techniques have you used and why did you use those techniques?"
      ]
    },
    {
      "cell_type": "markdown",
      "metadata": {
        "id": "1ixusLtI0pqI"
      },
      "source": [
        "Answer Here."
      ]
    },
    {
      "cell_type": "markdown",
      "metadata": {
        "id": "id1riN9m0vUs"
      },
      "source": [
        "### 2. Handling Outliers"
      ]
    },
    {
      "cell_type": "code",
      "execution_count": null,
      "metadata": {
        "id": "M6w2CzZf04JK"
      },
      "outputs": [],
      "source": [
        "# Handling Outliers & Outlier treatments"
      ]
    },
    {
      "cell_type": "markdown",
      "metadata": {
        "id": "578E2V7j08f6"
      },
      "source": [
        "##### What all outlier treatment techniques have you used and why did you use those techniques?"
      ]
    },
    {
      "cell_type": "markdown",
      "metadata": {
        "id": "uGZz5OrT1HH-"
      },
      "source": [
        "Answer Here."
      ]
    },
    {
      "cell_type": "markdown",
      "metadata": {
        "id": "89xtkJwZ18nB"
      },
      "source": [
        "### 3. Categorical Encoding"
      ]
    },
    {
      "cell_type": "code",
      "execution_count": null,
      "metadata": {
        "id": "21JmIYMG2hEo"
      },
      "outputs": [],
      "source": [
        "# Encode your categorical columns"
      ]
    },
    {
      "cell_type": "markdown",
      "metadata": {
        "id": "67NQN5KX2AMe"
      },
      "source": [
        "#### What all categorical encoding techniques have you used & why did you use those techniques?"
      ]
    },
    {
      "cell_type": "markdown",
      "metadata": {
        "id": "UDaue5h32n_G"
      },
      "source": [
        "Answer Here."
      ]
    },
    {
      "cell_type": "markdown",
      "metadata": {
        "id": "Iwf50b-R2tYG"
      },
      "source": [
        "### 4. Textual Data Preprocessing\n",
        "(It's mandatory for textual dataset i.e., NLP, Sentiment Analysis, Text Clustering etc.)"
      ]
    },
    {
      "cell_type": "markdown",
      "metadata": {
        "id": "GMQiZwjn3iu7"
      },
      "source": [
        "#### 1. Expand Contraction"
      ]
    },
    {
      "cell_type": "code",
      "execution_count": null,
      "metadata": {
        "id": "PTouz10C3oNN"
      },
      "outputs": [],
      "source": [
        "# Expand Contraction"
      ]
    },
    {
      "cell_type": "markdown",
      "metadata": {
        "id": "WVIkgGqN3qsr"
      },
      "source": [
        "#### 2. Lower Casing"
      ]
    },
    {
      "cell_type": "code",
      "execution_count": null,
      "metadata": {
        "id": "88JnJ1jN3w7j"
      },
      "outputs": [],
      "source": [
        "# Lower Casing"
      ]
    },
    {
      "cell_type": "markdown",
      "metadata": {
        "id": "XkPnILGE3zoT"
      },
      "source": [
        "#### 3. Removing Punctuations"
      ]
    },
    {
      "cell_type": "code",
      "execution_count": null,
      "metadata": {
        "id": "vqbBqNaA33c0"
      },
      "outputs": [],
      "source": [
        "# Remove Punctuations"
      ]
    },
    {
      "cell_type": "markdown",
      "metadata": {
        "id": "Hlsf0x5436Go"
      },
      "source": [
        "#### 4. Removing URLs & Removing words and digits contain digits."
      ]
    },
    {
      "cell_type": "code",
      "execution_count": null,
      "metadata": {
        "id": "2sxKgKxu4Ip3"
      },
      "outputs": [],
      "source": [
        "# Remove URLs & Remove words and digits contain digits"
      ]
    },
    {
      "cell_type": "markdown",
      "metadata": {
        "id": "mT9DMSJo4nBL"
      },
      "source": [
        "#### 5. Removing Stopwords & Removing White spaces"
      ]
    },
    {
      "cell_type": "code",
      "execution_count": null,
      "metadata": {
        "id": "T2LSJh154s8W"
      },
      "outputs": [],
      "source": [
        "# Remove Stopwords"
      ]
    },
    {
      "cell_type": "code",
      "execution_count": null,
      "metadata": {
        "id": "EgLJGffy4vm0"
      },
      "outputs": [],
      "source": [
        "# Remove White spaces"
      ]
    },
    {
      "cell_type": "markdown",
      "metadata": {
        "id": "c49ITxTc407N"
      },
      "source": [
        "#### 6. Rephrase Text"
      ]
    },
    {
      "cell_type": "code",
      "execution_count": null,
      "metadata": {
        "id": "foqY80Qu48N2"
      },
      "outputs": [],
      "source": [
        "# Rephrase Text"
      ]
    },
    {
      "cell_type": "markdown",
      "metadata": {
        "id": "OeJFEK0N496M"
      },
      "source": [
        "#### 7. Tokenization"
      ]
    },
    {
      "cell_type": "code",
      "execution_count": null,
      "metadata": {
        "id": "ijx1rUOS5CUU"
      },
      "outputs": [],
      "source": [
        "# Tokenization"
      ]
    },
    {
      "cell_type": "markdown",
      "metadata": {
        "id": "9ExmJH0g5HBk"
      },
      "source": [
        "#### 8. Text Normalization"
      ]
    },
    {
      "cell_type": "code",
      "execution_count": null,
      "metadata": {
        "id": "AIJ1a-Zc5PY8"
      },
      "outputs": [],
      "source": [
        "# Normalizing Text (i.e., Stemming, Lemmatization etc.)"
      ]
    },
    {
      "cell_type": "markdown",
      "metadata": {
        "id": "cJNqERVU536h"
      },
      "source": [
        "##### Which text normalization technique have you used and why?"
      ]
    },
    {
      "cell_type": "markdown",
      "metadata": {
        "id": "Z9jKVxE06BC1"
      },
      "source": [
        "Answer Here."
      ]
    },
    {
      "cell_type": "markdown",
      "metadata": {
        "id": "k5UmGsbsOxih"
      },
      "source": [
        "#### 9. Part of speech tagging"
      ]
    },
    {
      "cell_type": "code",
      "execution_count": null,
      "metadata": {
        "id": "btT3ZJBAO6Ik"
      },
      "outputs": [],
      "source": [
        "# POS Taging"
      ]
    },
    {
      "cell_type": "markdown",
      "metadata": {
        "id": "T0VqWOYE6DLQ"
      },
      "source": [
        "#### 10. Text Vectorization"
      ]
    },
    {
      "cell_type": "code",
      "execution_count": null,
      "metadata": {
        "id": "yBRtdhth6JDE"
      },
      "outputs": [],
      "source": [
        "# Vectorizing Text"
      ]
    },
    {
      "cell_type": "markdown",
      "metadata": {
        "id": "qBMux9mC6MCf"
      },
      "source": [
        "##### Which text vectorization technique have you used and why?"
      ]
    },
    {
      "cell_type": "markdown",
      "metadata": {
        "id": "su2EnbCh6UKQ"
      },
      "source": [
        "Answer Here."
      ]
    },
    {
      "cell_type": "markdown",
      "metadata": {
        "id": "-oLEiFgy-5Pf"
      },
      "source": [
        "### 4. Feature Manipulation & Selection"
      ]
    },
    {
      "cell_type": "markdown",
      "metadata": {
        "id": "C74aWNz2AliB"
      },
      "source": [
        "#### 1. Feature Manipulation"
      ]
    },
    {
      "cell_type": "code",
      "execution_count": null,
      "metadata": {
        "id": "h1qC4yhBApWC"
      },
      "outputs": [],
      "source": [
        "# Manipulate Features to minimize feature correlation and create new features"
      ]
    },
    {
      "cell_type": "markdown",
      "metadata": {
        "id": "2DejudWSA-a0"
      },
      "source": [
        "#### 2. Feature Selection"
      ]
    },
    {
      "cell_type": "code",
      "execution_count": null,
      "metadata": {
        "id": "YLhe8UmaBCEE"
      },
      "outputs": [],
      "source": [
        "# Select your features wisely to avoid overfitting"
      ]
    },
    {
      "cell_type": "markdown",
      "metadata": {
        "id": "pEMng2IbBLp7"
      },
      "source": [
        "##### What all feature selection methods have you used  and why?"
      ]
    },
    {
      "cell_type": "markdown",
      "metadata": {
        "id": "rb2Lh6Z8BgGs"
      },
      "source": [
        "Answer Here."
      ]
    },
    {
      "cell_type": "markdown",
      "metadata": {
        "id": "rAdphbQ9Bhjc"
      },
      "source": [
        "##### Which all features you found important and why?"
      ]
    },
    {
      "cell_type": "markdown",
      "metadata": {
        "id": "fGgaEstsBnaf"
      },
      "source": [
        "Answer Here."
      ]
    },
    {
      "cell_type": "markdown",
      "metadata": {
        "id": "TNVZ9zx19K6k"
      },
      "source": [
        "### 5. Data Transformation"
      ]
    },
    {
      "cell_type": "markdown",
      "metadata": {
        "id": "nqoHp30x9hH9"
      },
      "source": [
        "#### Do you think that your data needs to be transformed? If yes, which transformation have you used. Explain Why?"
      ]
    },
    {
      "cell_type": "code",
      "execution_count": null,
      "metadata": {
        "id": "I6quWQ1T9rtH"
      },
      "outputs": [],
      "source": [
        "# Transform Your data"
      ]
    },
    {
      "cell_type": "markdown",
      "metadata": {
        "id": "rMDnDkt2B6du"
      },
      "source": [
        "### 6. Data Scaling"
      ]
    },
    {
      "cell_type": "code",
      "execution_count": null,
      "metadata": {
        "id": "dL9LWpySC6x_"
      },
      "outputs": [],
      "source": [
        "# Scaling your data"
      ]
    },
    {
      "cell_type": "markdown",
      "metadata": {
        "id": "yiiVWRdJDDil"
      },
      "source": [
        "##### Which method have you used to scale you data and why?"
      ]
    },
    {
      "cell_type": "markdown",
      "metadata": {
        "id": "1UUpS68QDMuG"
      },
      "source": [
        "### 7. Dimesionality Reduction"
      ]
    },
    {
      "cell_type": "markdown",
      "metadata": {
        "id": "kexQrXU-DjzY"
      },
      "source": [
        "##### Do you think that dimensionality reduction is needed? Explain Why?"
      ]
    },
    {
      "cell_type": "markdown",
      "metadata": {
        "id": "GGRlBsSGDtTQ"
      },
      "source": [
        "Answer Here."
      ]
    },
    {
      "cell_type": "code",
      "execution_count": null,
      "metadata": {
        "id": "kQfvxBBHDvCa"
      },
      "outputs": [],
      "source": [
        "# DImensionality Reduction (If needed)"
      ]
    },
    {
      "cell_type": "markdown",
      "metadata": {
        "id": "T5CmagL3EC8N"
      },
      "source": [
        "##### Which dimensionality reduction technique have you used and why? (If dimensionality reduction done on dataset.)"
      ]
    },
    {
      "cell_type": "markdown",
      "metadata": {
        "id": "ZKr75IDuEM7t"
      },
      "source": [
        "Answer Here."
      ]
    },
    {
      "cell_type": "markdown",
      "metadata": {
        "id": "BhH2vgX9EjGr"
      },
      "source": [
        "### 8. Data Splitting"
      ]
    },
    {
      "cell_type": "code",
      "execution_count": null,
      "metadata": {
        "id": "0CTyd2UwEyNM"
      },
      "outputs": [],
      "source": [
        "# Split your data to train and test. Choose Splitting ratio wisely."
      ]
    },
    {
      "cell_type": "markdown",
      "metadata": {
        "id": "qjKvONjwE8ra"
      },
      "source": [
        "##### What data splitting ratio have you used and why?"
      ]
    },
    {
      "cell_type": "markdown",
      "metadata": {
        "id": "Y2lJ8cobFDb_"
      },
      "source": [
        "Answer Here."
      ]
    },
    {
      "cell_type": "markdown",
      "metadata": {
        "id": "P1XJ9OREExlT"
      },
      "source": [
        "### 9. Handling Imbalanced Dataset"
      ]
    },
    {
      "cell_type": "markdown",
      "metadata": {
        "id": "VFOzZv6IFROw"
      },
      "source": [
        "##### Do you think the dataset is imbalanced? Explain Why."
      ]
    },
    {
      "cell_type": "markdown",
      "metadata": {
        "id": "GeKDIv7pFgcC"
      },
      "source": [
        "Answer Here."
      ]
    },
    {
      "cell_type": "code",
      "execution_count": null,
      "metadata": {
        "id": "nQsRhhZLFiDs"
      },
      "outputs": [],
      "source": [
        "# Handling Imbalanced Dataset (If needed)"
      ]
    },
    {
      "cell_type": "markdown",
      "metadata": {
        "id": "TIqpNgepFxVj"
      },
      "source": [
        "##### What technique did you use to handle the imbalance dataset and why? (If needed to be balanced)"
      ]
    },
    {
      "cell_type": "markdown",
      "metadata": {
        "id": "qbet1HwdGDTz"
      },
      "source": [
        "Answer Here."
      ]
    },
    {
      "cell_type": "markdown",
      "metadata": {
        "id": "VfCC591jGiD4"
      },
      "source": [
        "## ***7. ML Model Implementation***"
      ]
    },
    {
      "cell_type": "markdown",
      "metadata": {
        "id": "OB4l2ZhMeS1U"
      },
      "source": [
        "### ML Model - 1"
      ]
    },
    {
      "cell_type": "code",
      "execution_count": null,
      "metadata": {
        "id": "7ebyywQieS1U"
      },
      "outputs": [],
      "source": [
        "# ML Model - 1 Implementation\n",
        "\n",
        "# Fit the Algorithm\n",
        "\n",
        "# Predict on the model"
      ]
    },
    {
      "cell_type": "markdown",
      "metadata": {
        "id": "ArJBuiUVfxKd"
      },
      "source": [
        "#### 1. Explain the ML Model used and it's performance using Evaluation metric Score Chart."
      ]
    },
    {
      "cell_type": "code",
      "execution_count": null,
      "metadata": {
        "id": "rqD5ZohzfxKe"
      },
      "outputs": [],
      "source": [
        "# Visualizing evaluation Metric Score chart"
      ]
    },
    {
      "cell_type": "markdown",
      "metadata": {
        "id": "4qY1EAkEfxKe"
      },
      "source": [
        "#### 2. Cross- Validation & Hyperparameter Tuning"
      ]
    },
    {
      "cell_type": "code",
      "execution_count": null,
      "metadata": {
        "id": "Dy61ujd6fxKe"
      },
      "outputs": [],
      "source": [
        "# ML Model - 1 Implementation with hyperparameter optimization techniques (i.e., GridSearch CV, RandomSearch CV, Bayesian Optimization etc.)\n",
        "\n",
        "# Fit the Algorithm\n",
        "\n",
        "# Predict on the model"
      ]
    },
    {
      "cell_type": "markdown",
      "metadata": {
        "id": "PiV4Ypx8fxKe"
      },
      "source": [
        "##### Which hyperparameter optimization technique have you used and why?"
      ]
    },
    {
      "cell_type": "markdown",
      "metadata": {
        "id": "negyGRa7fxKf"
      },
      "source": [
        "Answer Here."
      ]
    },
    {
      "cell_type": "markdown",
      "metadata": {
        "id": "TfvqoZmBfxKf"
      },
      "source": [
        "##### Have you seen any improvement? Note down the improvement with updates Evaluation metric Score Chart."
      ]
    },
    {
      "cell_type": "markdown",
      "metadata": {
        "id": "OaLui8CcfxKf"
      },
      "source": [
        "Answer Here."
      ]
    },
    {
      "cell_type": "markdown",
      "metadata": {
        "id": "dJ2tPlVmpsJ0"
      },
      "source": [
        "### ML Model - 2"
      ]
    },
    {
      "cell_type": "markdown",
      "metadata": {
        "id": "JWYfwnehpsJ1"
      },
      "source": [
        "#### 1. Explain the ML Model used and it's performance using Evaluation metric Score Chart."
      ]
    },
    {
      "cell_type": "code",
      "execution_count": null,
      "metadata": {
        "id": "yEl-hgQWpsJ1"
      },
      "outputs": [],
      "source": [
        "# Visualizing evaluation Metric Score chart"
      ]
    },
    {
      "cell_type": "markdown",
      "metadata": {
        "id": "-jK_YjpMpsJ2"
      },
      "source": [
        "#### 2. Cross- Validation & Hyperparameter Tuning"
      ]
    },
    {
      "cell_type": "code",
      "execution_count": null,
      "metadata": {
        "id": "Dn0EOfS6psJ2"
      },
      "outputs": [],
      "source": [
        "# ML Model - 1 Implementation with hyperparameter optimization techniques (i.e., GridSearch CV, RandomSearch CV, Bayesian Optimization etc.)\n",
        "\n",
        "# Fit the Algorithm\n",
        "\n",
        "# Predict on the model"
      ]
    },
    {
      "cell_type": "markdown",
      "metadata": {
        "id": "HAih1iBOpsJ2"
      },
      "source": [
        "##### Which hyperparameter optimization technique have you used and why?"
      ]
    },
    {
      "cell_type": "markdown",
      "metadata": {
        "id": "9kBgjYcdpsJ2"
      },
      "source": [
        "Answer Here."
      ]
    },
    {
      "cell_type": "markdown",
      "metadata": {
        "id": "zVGeBEFhpsJ2"
      },
      "source": [
        "##### Have you seen any improvement? Note down the improvement with updates Evaluation metric Score Chart."
      ]
    },
    {
      "cell_type": "markdown",
      "metadata": {
        "id": "74yRdG6UpsJ3"
      },
      "source": [
        "Answer Here."
      ]
    },
    {
      "cell_type": "markdown",
      "metadata": {
        "id": "bmKjuQ-FpsJ3"
      },
      "source": [
        "#### 3. Explain each evaluation metric's indication towards business and the business impact pf the ML model used."
      ]
    },
    {
      "cell_type": "markdown",
      "metadata": {
        "id": "BDKtOrBQpsJ3"
      },
      "source": [
        "Answer Here."
      ]
    },
    {
      "cell_type": "markdown",
      "metadata": {
        "id": "Fze-IPXLpx6K"
      },
      "source": [
        "### ML Model - 3"
      ]
    },
    {
      "cell_type": "code",
      "execution_count": null,
      "metadata": {
        "id": "FFrSXAtrpx6M"
      },
      "outputs": [],
      "source": [
        "# ML Model - 3 Implementation\n",
        "\n",
        "# Fit the Algorithm\n",
        "\n",
        "# Predict on the model"
      ]
    },
    {
      "cell_type": "markdown",
      "metadata": {
        "id": "7AN1z2sKpx6M"
      },
      "source": [
        "#### 1. Explain the ML Model used and it's performance using Evaluation metric Score Chart."
      ]
    },
    {
      "cell_type": "code",
      "execution_count": null,
      "metadata": {
        "id": "xIY4lxxGpx6M"
      },
      "outputs": [],
      "source": [
        "# Visualizing evaluation Metric Score chart"
      ]
    },
    {
      "cell_type": "markdown",
      "metadata": {
        "id": "9PIHJqyupx6M"
      },
      "source": [
        "#### 2. Cross- Validation & Hyperparameter Tuning"
      ]
    },
    {
      "cell_type": "code",
      "execution_count": null,
      "metadata": {
        "id": "eSVXuaSKpx6M"
      },
      "outputs": [],
      "source": [
        "# ML Model - 3 Implementation with hyperparameter optimization techniques (i.e., GridSearch CV, RandomSearch CV, Bayesian Optimization etc.)\n",
        "\n",
        "# Fit the Algorithm\n",
        "\n",
        "# Predict on the model"
      ]
    },
    {
      "cell_type": "markdown",
      "metadata": {
        "id": "_-qAgymDpx6N"
      },
      "source": [
        "##### Which hyperparameter optimization technique have you used and why?"
      ]
    },
    {
      "cell_type": "markdown",
      "metadata": {
        "id": "lQMffxkwpx6N"
      },
      "source": [
        "Answer Here."
      ]
    },
    {
      "cell_type": "markdown",
      "metadata": {
        "id": "Z-hykwinpx6N"
      },
      "source": [
        "##### Have you seen any improvement? Note down the improvement with updates Evaluation metric Score Chart."
      ]
    },
    {
      "cell_type": "markdown",
      "metadata": {
        "id": "MzVzZC6opx6N"
      },
      "source": [
        "Answer Here."
      ]
    },
    {
      "cell_type": "markdown",
      "metadata": {
        "id": "h_CCil-SKHpo"
      },
      "source": [
        "### 1. Which Evaluation metrics did you consider for a positive business impact and why?"
      ]
    },
    {
      "cell_type": "markdown",
      "metadata": {
        "id": "jHVz9hHDKFms"
      },
      "source": [
        "Answer Here."
      ]
    },
    {
      "cell_type": "markdown",
      "metadata": {
        "id": "cBFFvTBNJzUa"
      },
      "source": [
        "### 2. Which ML model did you choose from the above created models as your final prediction model and why?"
      ]
    },
    {
      "cell_type": "markdown",
      "metadata": {
        "id": "6ksF5Q1LKTVm"
      },
      "source": [
        "Answer Here."
      ]
    },
    {
      "cell_type": "markdown",
      "metadata": {
        "id": "HvGl1hHyA_VK"
      },
      "source": [
        "### 3. Explain the model which you have used and the feature importance using any model explainability tool?"
      ]
    },
    {
      "cell_type": "markdown",
      "metadata": {
        "id": "YnvVTiIxBL-C"
      },
      "source": [
        "Answer Here."
      ]
    },
    {
      "cell_type": "markdown",
      "metadata": {
        "id": "EyNgTHvd2WFk"
      },
      "source": [
        "## ***8.*** ***Future Work (Optional)***"
      ]
    },
    {
      "cell_type": "markdown",
      "metadata": {
        "id": "KH5McJBi2d8v"
      },
      "source": [
        "### 1. Save the best performing ml model in a pickle file or joblib file format for deployment process.\n"
      ]
    },
    {
      "cell_type": "code",
      "execution_count": null,
      "metadata": {
        "id": "bQIANRl32f4J"
      },
      "outputs": [],
      "source": [
        "# Save the File"
      ]
    },
    {
      "cell_type": "markdown",
      "metadata": {
        "id": "iW_Lq9qf2h6X"
      },
      "source": [
        "### 2. Again Load the saved model file and try to predict unseen data for a sanity check.\n"
      ]
    },
    {
      "cell_type": "code",
      "execution_count": null,
      "metadata": {
        "id": "oEXk9ydD2nVC"
      },
      "outputs": [],
      "source": [
        "# Load the File and predict unseen data."
      ]
    },
    {
      "cell_type": "markdown",
      "metadata": {
        "id": "-Kee-DAl2viO"
      },
      "source": [
        "### ***Congrats! Your model is successfully created and ready for deployment on a live server for a real user interaction !!!***"
      ]
    },
    {
      "cell_type": "markdown",
      "metadata": {
        "id": "gCX9965dhzqZ"
      },
      "source": [
        "# **Conclusion**"
      ]
    },
    {
      "cell_type": "markdown",
      "metadata": {
        "id": "Fjb1IsQkh3yE"
      },
      "source": [
        "Write the conclusion here."
      ]
    },
    {
      "cell_type": "markdown",
      "metadata": {
        "id": "gIfDvo9L0UH2"
      },
      "source": [
        "### ***Hurrah! You have successfully completed your Machine Learning Capstone Project !!!***"
      ]
    }
  ],
  "metadata": {
    "colab": {
      "collapsed_sections": [
        "vncDsAP0Gaoa",
        "FJNUwmbgGyua",
        "w6K7xa23Elo4",
        "mDgbUHAGgjLW",
        "Y3lxredqlCYt",
        "3RnN4peoiCZX",
        "x71ZqKXriCWQ",
        "7hBIi_osiCS2",
        "JlHwYmJAmNHm",
        "35m5QtbWiB9F",
        "Ur5-pdzVdC1N",
        "H0kj-8xxnORC",
        "PBTbrJXOngz2",
        "0wOQAZs5pc--",
        "K5QZ13OEpz2H",
        "lQ7QKXXCp7Bj",
        "448CDAPjqfQr",
        "KSlN3yHqYklG",
        "EM7whBJCYoAo",
        "4Of9eVA-YrdM",
        "bamQiAODYuh1",
        "OH-pJp9IphqM",
        "bbFf2-_FphqN",
        "_ouA3fa0phqN",
        "NC_X3p0fY2L0",
        "Yfr_Vlr8HBkt",
        "8yEUt7NnHlrM",
        "tEA2Xm5dHt1r",
        "I79__PHVH19G",
        "Ou-I18pAyIpj",
        "fF3858GYyt-u",
        "4_0_7-oCpUZd",
        "hwyV_J3ipUZe",
        "3yB-zSqbpUZe",
        "dEUvejAfpUZe",
        "Fd15vwWVpUZf",
        "bn_IUdTipZyH",
        "49K5P_iCpZyH",
        "Nff-vKELpZyI",
        "kLW572S8pZyI",
        "dWbDXHzopZyI",
        "yLjJCtPM0KBk",
        "xiyOF9F70UgQ",
        "7wuGOrhz0itI",
        "id1riN9m0vUs",
        "578E2V7j08f6",
        "89xtkJwZ18nB",
        "67NQN5KX2AMe",
        "Iwf50b-R2tYG",
        "GMQiZwjn3iu7",
        "WVIkgGqN3qsr",
        "XkPnILGE3zoT",
        "Hlsf0x5436Go",
        "mT9DMSJo4nBL",
        "c49ITxTc407N",
        "OeJFEK0N496M",
        "9ExmJH0g5HBk",
        "cJNqERVU536h",
        "k5UmGsbsOxih",
        "T0VqWOYE6DLQ",
        "qBMux9mC6MCf",
        "-oLEiFgy-5Pf",
        "C74aWNz2AliB",
        "2DejudWSA-a0",
        "pEMng2IbBLp7",
        "rAdphbQ9Bhjc",
        "TNVZ9zx19K6k",
        "nqoHp30x9hH9",
        "rMDnDkt2B6du",
        "yiiVWRdJDDil",
        "1UUpS68QDMuG",
        "kexQrXU-DjzY",
        "T5CmagL3EC8N",
        "BhH2vgX9EjGr",
        "qjKvONjwE8ra",
        "P1XJ9OREExlT",
        "VFOzZv6IFROw",
        "TIqpNgepFxVj",
        "VfCC591jGiD4",
        "OB4l2ZhMeS1U",
        "ArJBuiUVfxKd",
        "4qY1EAkEfxKe",
        "PiV4Ypx8fxKe",
        "TfvqoZmBfxKf",
        "dJ2tPlVmpsJ0",
        "JWYfwnehpsJ1",
        "-jK_YjpMpsJ2",
        "HAih1iBOpsJ2",
        "zVGeBEFhpsJ2",
        "bmKjuQ-FpsJ3",
        "Fze-IPXLpx6K",
        "7AN1z2sKpx6M",
        "9PIHJqyupx6M",
        "_-qAgymDpx6N",
        "Z-hykwinpx6N",
        "h_CCil-SKHpo",
        "cBFFvTBNJzUa",
        "HvGl1hHyA_VK",
        "EyNgTHvd2WFk",
        "KH5McJBi2d8v",
        "iW_Lq9qf2h6X",
        "-Kee-DAl2viO",
        "gCX9965dhzqZ",
        "gIfDvo9L0UH2"
      ],
      "provenance": [],
      "include_colab_link": true
    },
    "kernelspec": {
      "display_name": "Python 3",
      "name": "python3"
    },
    "language_info": {
      "name": "python"
    }
  },
  "nbformat": 4,
  "nbformat_minor": 0
}